{
 "cells": [
  {
   "cell_type": "markdown",
   "metadata": {},
   "source": [
    "# Imports"
   ]
  },
  {
   "cell_type": "code",
   "execution_count": 149,
   "metadata": {
    "jukit_cell_id": "R0uMev4MXN",
    "tags": []
   },
   "outputs": [],
   "source": [
    "import matplotlib\n",
    "import matplotlib.pyplot as plt\n",
    "import numpy as np\n",
    "import pandas as pd\n",
    "import json\n",
    "import subprocess\n",
    "import os as os\n",
    "import seaborn as sns\n",
    "import seaborn.objects as so\n",
    "from glob2 import glob\n",
    "from datetime import datetime\n",
    "import pytz\n",
    "\n",
    "import random"
   ]
  },
  {
   "cell_type": "code",
   "execution_count": 142,
   "metadata": {
    "jukit_cell_id": "c1MNKqC4U3",
    "tags": []
   },
   "outputs": [],
   "source": [
    "import mir_eval as me"
   ]
  },
  {
   "cell_type": "code",
   "execution_count": 143,
   "metadata": {
    "jukit_cell_id": "J21yZcGJ8K",
    "tags": []
   },
   "outputs": [],
   "source": [
    "dcml_chordtype_map = {\n",
    "    \"M\": \"major\",\n",
    "    \"m\": \"minor\",\n",
    "    \"Mm7\": \"dominant-7th\",\n",
    "    \"o\": \"diminished\",\n",
    "    \"o7\": \"full-diminished\",\n",
    "    \"mm7\": \"minor-7th\",\n",
    "    \"%7\": \"half-diminished\",\n",
    "    \"MM7\": \"major-7th\",\n",
    "    \"+\": \"augmented\",\n",
    "    \"mM7\": \"minor-major-7th\",\n",
    "    \"+7\": \"augmented-7th\",\n",
    "}"
   ]
  },
  {
   "cell_type": "markdown",
   "metadata": {
    "jukit_cell_id": "eOMtSxwK0r"
   },
   "source": [
    "----"
   ]
  },
  {
   "cell_type": "markdown",
   "metadata": {
    "jukit_cell_id": "SwmnxgHh9U"
   },
   "source": [
    "## Loading the Results\n",
    "Loads all json files from the given folders"
   ]
  },
  {
   "cell_type": "code",
   "execution_count": 244,
   "metadata": {
    "tags": []
   },
   "outputs": [],
   "source": [
    "def get_all_experiments(path):\n",
    "    experiments = set()\n",
    "    experiment_types = set()\n",
    "    for root, dirs, files in os.walk(path):\n",
    "        for file in files:\n",
    "            if file.endswith('.json'):\n",
    "                if file[6] == \"-\":\n",
    "                    continue\n",
    "                experiments.add(file.split(\".\")[0])\n",
    "                try:\n",
    "                    experiment_types.add(file.split(\".\")[0].split(\"_\")[1])\n",
    "                except:\n",
    "                    print(file)\n",
    "    return experiments, experiment_types"
   ]
  },
  {
   "cell_type": "code",
   "execution_count": 245,
   "metadata": {
    "tags": []
   },
   "outputs": [],
   "source": [
    "def get_experiments(experiment_name):\n",
    "    cols = ['id', 'corpus', 'piece', 'algorithm', 'accuracy', 'likelihood', 'chordLabels', 'slices','runTime', 'reruns']\n",
    "    df = pd.DataFrame(columns=cols) \n",
    "    lbls = pd.DataFrame(columns=[\"piece\", \"corpus\", \"labels\"])\n",
    "    \n",
    "    path = \"outputs\"\n",
    "    experiments, experiment_types = get_all_experiments(path)\n",
    "    if experiment_name in experiment_types:\n",
    "        print(\"Getting runs of {}\".format(experiment_name))\n",
    "    else:\n",
    "        print(\"Can't find experiment {}\".format(experiment_name))\n",
    "        return \n",
    "    \n",
    "    fails = [] \n",
    "    successes = 0\n",
    "    lbl_list = []\n",
    "    df_list = []\n",
    "    for root, dirs, files in os.walk(path):\n",
    "        for file in files:\n",
    "            if experiment_name in file:\n",
    "                try:\n",
    "                    if file[6] == \"-\":\n",
    "                        #ignore old format\n",
    "                        continue\n",
    "                        \n",
    "                    with open(os.path.join(root, file), 'r') as f:\n",
    "                        data = json.loads(f.read())\n",
    "                except:\n",
    "                    fails.append(file)\n",
    "                    continue\n",
    "                \n",
    "                successes += 1\n",
    "\n",
    "                newLbls = pd.DataFrame([{\"corpus\":data['corpus'], \"piece\":data[\"piece\"], \"labels\": data[\"groundTruth\"]}])\n",
    "                lbl_list.append(newLbls)\n",
    "\n",
    "                newdf = pd.json_normalize(data, record_path = ['results'], \n",
    "                    meta = ['id','corpus', 'piece','algorithm'])\n",
    "                df_list.append(newdf)\n",
    "    df = pd.concat(df_list)\n",
    "    lbls = pd.concat(lbl_list)\n",
    "    \n",
    "    df[\"experiment\"] = df[\"id\"].apply(lambda x: x.split(\"_\")[1] if \"_\" in x else np.nan)\n",
    "    df[\"id\"] = pd.to_datetime(df[\"id\"].apply(lambda x: x.split(\"_\")[0] if \"_\" in x else np.nan))\n",
    "    #df = df.dropna(subset=[\"experiment\"])\n",
    "    results = df.set_index([\"id\",\"corpus\", \"piece\"])\n",
    "    print (\"Parsed {} runs succesfully, consisting of {} unique experiments with {} failed runs\".format(successes, results.index.levels[0].nunique(), len(fails)))\n",
    "    return (results,lbls.set_index([\"corpus\", \"piece\"]))"
   ]
  },
  {
   "cell_type": "code",
   "execution_count": 246,
   "metadata": {
    "tags": []
   },
   "outputs": [],
   "source": [
    "def get_latest_experiment(experiment):\n",
    "    (results, groundTruth) = get_experiments(experiment)\n",
    "    latest_timestamp = results.index.get_level_values(0).max()\n",
    "    print(\"Viewing latest result: {}\".format(latest_timestamp))\n",
    "    return (results.loc[results.index.get_level_values(0) == latest_timestamp], groundTruth)\n",
    "        "
   ]
  },
  {
   "cell_type": "code",
   "execution_count": 247,
   "metadata": {
    "tags": []
   },
   "outputs": [
    {
     "name": "stdout",
     "output_type": "stream",
     "text": [
      "Getting runs of dual-stochastic-res-params\n",
      "Parsed 198 runs succesfully, consisting of 2 unique experiments with 0 failed runs\n"
     ]
    }
   ],
   "source": [
    "(results, labels) = get_experiments(\"dual-stochastic-res-params\")"
   ]
  },
  {
   "cell_type": "code",
   "execution_count": 248,
   "metadata": {
    "tags": []
   },
   "outputs": [
    {
     "name": "stdout",
     "output_type": "stream",
     "text": [
      "Getting runs of dual-stochastic-res-params\n",
      "Parsed 198 runs succesfully, consisting of 2 unique experiments with 0 failed runs\n",
      "Viewing latest result: 2023-04-17 22:29:26\n"
     ]
    }
   ],
   "source": [
    "(results, labels) = get_latest_experiment(\"dual-stochastic-res-params\")"
   ]
  },
  {
   "cell_type": "markdown",
   "metadata": {
    "jukit_cell_id": "wTl7iVzSrg"
   },
   "source": [
    "# Organising results\n",
    "Let's look at all experiments that have been run"
   ]
  },
  {
   "cell_type": "code",
   "execution_count": 249,
   "metadata": {
    "tags": []
   },
   "outputs": [],
   "source": [
    "experiments, experiment_types = get_all_experiments(\"outputs\")"
   ]
  },
  {
   "cell_type": "code",
   "execution_count": 254,
   "metadata": {
    "tags": []
   },
   "outputs": [
    {
     "name": "stdout",
     "output_type": "stream",
     "text": [
      "{'dual-stochastic-res-params'}\n"
     ]
    }
   ],
   "source": [
    "print(experiment_types)"
   ]
  },
  {
   "cell_type": "markdown",
   "metadata": {},
   "source": [
    "# Stochastic beam search hyperparameters"
   ]
  },
  {
   "cell_type": "markdown",
   "metadata": {
    "tags": []
   },
   "source": [
    "### Choose specific experiement\n",
    "202304-1700-0801 is the first experiment ran.\n",
    "Includes 795 total runs. \n",
    "With Beam width 1-20 and reservoirs 200-4000 with gaps of 200.\n",
    "Timeout was 400s, and only 72 runs completed within the time.\n",
    "\n",
    "Next run will increase the timeout to 1000s, and narrow in the grid search region."
   ]
  },
  {
   "cell_type": "code",
   "execution_count": 286,
   "metadata": {
    "tags": []
   },
   "outputs": [
    {
     "name": "stdout",
     "output_type": "stream",
     "text": [
      "Getting runs of dual-stochastic-res-params\n",
      "Parsed 303 runs succesfully, consisting of 3 unique experiments with 0 failed runs\n",
      "Viewing latest result: 2023-04-17 23:05:41\n"
     ]
    }
   ],
   "source": [
    "(results, labels) = get_latest_experiment(\"dual-stochastic-res-params\")"
   ]
  },
  {
   "cell_type": "markdown",
   "metadata": {},
   "source": [
    " Extract parameters from algorithm name"
   ]
  },
  {
   "cell_type": "markdown",
   "metadata": {},
   "source": [
    "## Accuracy, loglikelihood and runtime"
   ]
  },
  {
   "cell_type": "code",
   "execution_count": 287,
   "metadata": {
    "tags": []
   },
   "outputs": [],
   "source": [
    "results['beamwidth'] = results[\"algorithm\"].apply(lambda s: int(s.split(\" \")[1]))\n",
    "results['reservoirsize'] = results[\"algorithm\"].apply(lambda s: int(s.split(\" \")[2]))\n",
    "\n",
    "def get_avgs(df, value):\n",
    "    g = df.dropna(subset=value).groupby(['beamwidth','reservoirsize'])\n",
    "    df_means = g[value].mean()\n",
    "    return df_means.loc[:,:].reset_index().pivot(index='reservoirsize', columns='beamwidth', values=value)\n",
    "\n",
    "acc_avgs = get_avgs(results, 'accuracy')\n",
    "lik_avgs = get_avgs(results, 'likelihood')\n",
    "run_avgs = get_avgs(results, 'runTime')"
   ]
  },
  {
   "cell_type": "code",
   "execution_count": 288,
   "metadata": {
    "tags": []
   },
   "outputs": [],
   "source": [
    "#stochastic_params_df.groupby([\"piece\"]).runTime.mean()"
   ]
  },
  {
   "cell_type": "markdown",
   "metadata": {},
   "source": [
    "## Plot hyperparemter results"
   ]
  },
  {
   "cell_type": "code",
   "execution_count": 289,
   "metadata": {
    "tags": []
   },
   "outputs": [],
   "source": [
    "def create_heatmap(xs, ax, vmin, vmax,cmap):\n",
    "    lbls = xs.applymap(lambda v: \"{:.2f}\".format(v) if v in [np.nanmax(xs.values),np.nanmin(xs.values)]else '')\n",
    "    return sns.heatmap(xs,\n",
    "            square=True,\n",
    "            ax=ax,\n",
    "            cmap=cmap,\n",
    "            fmt='',\n",
    "            annot=lbls, # Label the maximum value\n",
    "            annot_kws={'fontsize':5},\n",
    "            mask=xs.isna(),\n",
    "            vmax=vmax,\n",
    "            vmin=vmin,\n",
    "            linewidth=0.01)"
   ]
  },
  {
   "cell_type": "code",
   "execution_count": 290,
   "metadata": {
    "tags": []
   },
   "outputs": [
    {
     "data": {
      "image/png": "[encoded data removed]",
      "text/plain": [
       "<Figure size 1327.27x500 with 6 Axes>"
      ]
     },
     "metadata": {},
     "output_type": "display_data"
    }
   ],
   "source": [
    "height=5\n",
    "ratio = stochastic_params_df['reservoirsize'].nunique() / stochastic_params_df['beamwidth'].nunique()\n",
    "spacing = 1\n",
    "fig, ax = plt.subplots(1, 3, figsize=((height*3)/ratio+ spacing,height),gridspec_kw={'width_ratios': [1,1,1]})\n",
    "\n",
    "cmap = sns.color_palette(\"viridis\", as_cmap=True)\n",
    "cmap.set_bad(color=\"black\")\n",
    "\n",
    "l = create_heatmap(lik_avgs, ax[0], lik_avgs.min().min(), lik_avgs.max().max()+ (lik_avgs.max().max()-lik_avgs.min().min()) * 0.1, cmap)\n",
    "a = create_heatmap(acc_avgs, ax[1], 0, 1, cmap)\n",
    "r = create_heatmap(run_avgs, ax[2], run_avgs.min().min(), run_avgs.max().max(), cmap.reversed())\n",
    "\n",
    "ax[0].set_title('Log-likelihood')\n",
    "ax[1].set_title('Accuracy')\n",
    "ax[2].set_title('Run-time (s)')\n",
    "\n",
    "for a in ax:\n",
    "    a.set_xlabel('Beam Width')\n",
    "    a.set_ylabel('Reservoir Size')\n",
    "\n",
    "\n",
    "plt.tight_layout()\n",
    "plt.savefig('plots/stochbeamsearchgridsearch-{}.png'.format(exp_id), dpi=180)"
   ]
  },
  {
   "cell_type": "markdown",
   "metadata": {},
   "source": [
    "# Stochastic beam search limited size experiment"
   ]
  },
  {
   "cell_type": "markdown",
   "metadata": {},
   "source": [
    "We find that the run time increase heavily with both resovoir size and beam width. Close analysis finds that its a result of slices become very large, due to unspreads combining notes. We limit the evaluator to only applow unspreads produces slices up to size $\\gamma$. For brevity, we choose a fixed reservoir size, 700."
   ]
  },
  {
   "cell_type": "markdown",
   "metadata": {
    "tags": []
   },
   "source": [
    "### Choose specific experiement\n"
   ]
  },
  {
   "cell_type": "code",
   "execution_count": 505,
   "metadata": {
    "tags": []
   },
   "outputs": [],
   "source": [
    "exp_id = \"202304-1715-2135\""
   ]
  },
  {
   "cell_type": "code",
   "execution_count": 506,
   "metadata": {
    "tags": []
   },
   "outputs": [],
   "source": [
    "exp_df = results.xs(exp_id,level=1)"
   ]
  },
  {
   "cell_type": "code",
   "execution_count": 507,
   "metadata": {
    "tags": []
   },
   "outputs": [],
   "source": [
    "stochastic_params_lim_df = exp_df.xs(\"stochastic-limited-fixed-res\",level=0)"
   ]
  },
  {
   "cell_type": "code",
   "execution_count": 508,
   "metadata": {
    "tags": []
   },
   "outputs": [
    {
     "data": {
      "text/html": [
       "<div>\n",
       "<style scoped>\n",
       "    .dataframe tbody tr th:only-of-type {\n",
       "        vertical-align: middle;\n",
       "    }\n",
       "\n",
       "    .dataframe tbody tr th {\n",
       "        vertical-align: top;\n",
       "    }\n",
       "\n",
       "    .dataframe thead th {\n",
       "        text-align: right;\n",
       "    }\n",
       "</style>\n",
       "<table border=\"1\" class=\"dataframe\">\n",
       "  <thead>\n",
       "    <tr style=\"text-align: right;\">\n",
       "      <th></th>\n",
       "      <th></th>\n",
       "      <th>algorithm</th>\n",
       "      <th>accuracy</th>\n",
       "      <th>likelihood</th>\n",
       "      <th>chordLabels</th>\n",
       "      <th>slices</th>\n",
       "      <th>runTime</th>\n",
       "      <th>reruns</th>\n",
       "      <th>reRuns</th>\n",
       "    </tr>\n",
       "    <tr>\n",
       "      <th>corpus</th>\n",
       "      <th>piece</th>\n",
       "      <th></th>\n",
       "      <th></th>\n",
       "      <th></th>\n",
       "      <th></th>\n",
       "      <th></th>\n",
       "      <th></th>\n",
       "      <th></th>\n",
       "      <th></th>\n",
       "    </tr>\n",
       "  </thead>\n",
       "  <tbody>\n",
       "    <tr>\n",
       "      <th rowspan=\"28\" valign=\"top\">grieg_lyric_pieces</th>\n",
       "      <th>op47n01</th>\n",
       "      <td>StochasticBeamSearch_13_700_2</td>\n",
       "      <td>NaN</td>\n",
       "      <td>NaN</td>\n",
       "      <td>None</td>\n",
       "      <td>None</td>\n",
       "      <td>NaN</td>\n",
       "      <td>NaN</td>\n",
       "      <td>NaN</td>\n",
       "    </tr>\n",
       "    <tr>\n",
       "      <th>op47n01</th>\n",
       "      <td>StochasticBeamSearch_13_700_3</td>\n",
       "      <td>NaN</td>\n",
       "      <td>NaN</td>\n",
       "      <td>None</td>\n",
       "      <td>None</td>\n",
       "      <td>NaN</td>\n",
       "      <td>NaN</td>\n",
       "      <td>NaN</td>\n",
       "    </tr>\n",
       "    <tr>\n",
       "      <th>op47n01</th>\n",
       "      <td>StochasticBeamSearch_13_700_1</td>\n",
       "      <td>NaN</td>\n",
       "      <td>NaN</td>\n",
       "      <td>None</td>\n",
       "      <td>None</td>\n",
       "      <td>NaN</td>\n",
       "      <td>NaN</td>\n",
       "      <td>NaN</td>\n",
       "    </tr>\n",
       "    <tr>\n",
       "      <th>op12n08</th>\n",
       "      <td>StochasticBeamSearch_8_700_11</td>\n",
       "      <td>0.756410</td>\n",
       "      <td>-12.441700</td>\n",
       "      <td>[E♭M, FMm7, E♭M, A♭M, E♭M, A♭M, B♭M, E♭M, GM, ...</td>\n",
       "      <td>[[E♭5, E♭5], [E♭4, F4, C4], [E♭4, B♭3, G4], [E...</td>\n",
       "      <td>302.088076</td>\n",
       "      <td>1</td>\n",
       "      <td>NaN</td>\n",
       "    </tr>\n",
       "    <tr>\n",
       "      <th>op12n08</th>\n",
       "      <td>StochasticBeamSearch_8_700_12</td>\n",
       "      <td>0.756410</td>\n",
       "      <td>-12.441700</td>\n",
       "      <td>[E♭M, FMm7, E♭M, A♭M, E♭M, A♭M, B♭M, E♭M, GM, ...</td>\n",
       "      <td>[[E♭5, E♭5], [E♭4, F4, C4], [E♭4, B♭3, G4], [E...</td>\n",
       "      <td>302.701055</td>\n",
       "      <td>1</td>\n",
       "      <td>NaN</td>\n",
       "    </tr>\n",
       "    <tr>\n",
       "      <th>op12n08</th>\n",
       "      <td>StochasticBeamSearch_8_700_13</td>\n",
       "      <td>0.756410</td>\n",
       "      <td>-12.441700</td>\n",
       "      <td>[E♭M, FMm7, E♭M, A♭M, E♭M, A♭M, B♭M, E♭M, GM, ...</td>\n",
       "      <td>[[E♭5, E♭5], [E♭4, F4, C4], [E♭4, B♭3, G4], [E...</td>\n",
       "      <td>300.481801</td>\n",
       "      <td>1</td>\n",
       "      <td>NaN</td>\n",
       "    </tr>\n",
       "    <tr>\n",
       "      <th>op12n02</th>\n",
       "      <td>StochasticBeamSearch_8_700_9</td>\n",
       "      <td>NaN</td>\n",
       "      <td>NaN</td>\n",
       "      <td>None</td>\n",
       "      <td>None</td>\n",
       "      <td>NaN</td>\n",
       "      <td>NaN</td>\n",
       "      <td>NaN</td>\n",
       "    </tr>\n",
       "    <tr>\n",
       "      <th>op38n02</th>\n",
       "      <td>StochasticBeamSearch_11_700_8</td>\n",
       "      <td>NaN</td>\n",
       "      <td>NaN</td>\n",
       "      <td>None</td>\n",
       "      <td>None</td>\n",
       "      <td>NaN</td>\n",
       "      <td>NaN</td>\n",
       "      <td>NaN</td>\n",
       "    </tr>\n",
       "    <tr>\n",
       "      <th>op38n06</th>\n",
       "      <td>StochasticBeamSearch_8_700_13</td>\n",
       "      <td>NaN</td>\n",
       "      <td>NaN</td>\n",
       "      <td>None</td>\n",
       "      <td>None</td>\n",
       "      <td>NaN</td>\n",
       "      <td>NaN</td>\n",
       "      <td>NaN</td>\n",
       "    </tr>\n",
       "    <tr>\n",
       "      <th>op47n07</th>\n",
       "      <td>StochasticBeamSearch_13_700_3</td>\n",
       "      <td>NaN</td>\n",
       "      <td>NaN</td>\n",
       "      <td>None</td>\n",
       "      <td>None</td>\n",
       "      <td>NaN</td>\n",
       "      <td>NaN</td>\n",
       "      <td>NaN</td>\n",
       "    </tr>\n",
       "    <tr>\n",
       "      <th>op43n06</th>\n",
       "      <td>StochasticBeamSearch_11_700_12</td>\n",
       "      <td>NaN</td>\n",
       "      <td>NaN</td>\n",
       "      <td>None</td>\n",
       "      <td>None</td>\n",
       "      <td>NaN</td>\n",
       "      <td>NaN</td>\n",
       "      <td>NaN</td>\n",
       "    </tr>\n",
       "    <tr>\n",
       "      <th>op47n06</th>\n",
       "      <td>StochasticBeamSearch_11_700_14</td>\n",
       "      <td>NaN</td>\n",
       "      <td>NaN</td>\n",
       "      <td>None</td>\n",
       "      <td>None</td>\n",
       "      <td>NaN</td>\n",
       "      <td>NaN</td>\n",
       "      <td>NaN</td>\n",
       "    </tr>\n",
       "    <tr>\n",
       "      <th>op43n01</th>\n",
       "      <td>StochasticBeamSearch_12_700_18</td>\n",
       "      <td>NaN</td>\n",
       "      <td>NaN</td>\n",
       "      <td>None</td>\n",
       "      <td>None</td>\n",
       "      <td>NaN</td>\n",
       "      <td>NaN</td>\n",
       "      <td>NaN</td>\n",
       "    </tr>\n",
       "    <tr>\n",
       "      <th>op38n07</th>\n",
       "      <td>StochasticBeamSearch_10_700_2</td>\n",
       "      <td>NaN</td>\n",
       "      <td>NaN</td>\n",
       "      <td>None</td>\n",
       "      <td>None</td>\n",
       "      <td>NaN</td>\n",
       "      <td>NaN</td>\n",
       "      <td>NaN</td>\n",
       "    </tr>\n",
       "    <tr>\n",
       "      <th>op38n07</th>\n",
       "      <td>StochasticBeamSearch_10_700_3</td>\n",
       "      <td>0.254545</td>\n",
       "      <td>-12.992248</td>\n",
       "      <td>[EM, CM, EM, AM, DM, G♯o7, Am, Am, CM, Am, AMm...</td>\n",
       "      <td>[[E4, B5], [E5, C5, F♯5, G5], [E4, B5], [E6, A...</td>\n",
       "      <td>447.273070</td>\n",
       "      <td>1</td>\n",
       "      <td>NaN</td>\n",
       "    </tr>\n",
       "    <tr>\n",
       "      <th>op38n07</th>\n",
       "      <td>StochasticBeamSearch_10_700_4</td>\n",
       "      <td>0.254545</td>\n",
       "      <td>-12.945512</td>\n",
       "      <td>[EM, AM, EM, AM, DM, G♯o7, Am, Am, CM, Am, AMm...</td>\n",
       "      <td>[[E4, B5], [E4, B5, A5], [E4, B5], [E6, A3], [...</td>\n",
       "      <td>429.715645</td>\n",
       "      <td>1</td>\n",
       "      <td>NaN</td>\n",
       "    </tr>\n",
       "    <tr>\n",
       "      <th>op38n03</th>\n",
       "      <td>StochasticBeamSearch_12_700_16</td>\n",
       "      <td>NaN</td>\n",
       "      <td>NaN</td>\n",
       "      <td>None</td>\n",
       "      <td>None</td>\n",
       "      <td>NaN</td>\n",
       "      <td>NaN</td>\n",
       "      <td>NaN</td>\n",
       "    </tr>\n",
       "    <tr>\n",
       "      <th>op47n04</th>\n",
       "      <td>StochasticBeamSearch_8_700_17</td>\n",
       "      <td>NaN</td>\n",
       "      <td>NaN</td>\n",
       "      <td>None</td>\n",
       "      <td>None</td>\n",
       "      <td>NaN</td>\n",
       "      <td>NaN</td>\n",
       "      <td>NaN</td>\n",
       "    </tr>\n",
       "    <tr>\n",
       "      <th>op54n02</th>\n",
       "      <td>StochasticBeamSearch_7_700_11</td>\n",
       "      <td>NaN</td>\n",
       "      <td>NaN</td>\n",
       "      <td>None</td>\n",
       "      <td>None</td>\n",
       "      <td>NaN</td>\n",
       "      <td>NaN</td>\n",
       "      <td>NaN</td>\n",
       "    </tr>\n",
       "    <tr>\n",
       "      <th>op54n04</th>\n",
       "      <td>StochasticBeamSearch_10_700_8</td>\n",
       "      <td>NaN</td>\n",
       "      <td>NaN</td>\n",
       "      <td>None</td>\n",
       "      <td>None</td>\n",
       "      <td>NaN</td>\n",
       "      <td>NaN</td>\n",
       "      <td>NaN</td>\n",
       "    </tr>\n",
       "    <tr>\n",
       "      <th>op43n04</th>\n",
       "      <td>StochasticBeamSearch_8_700_15</td>\n",
       "      <td>0.384615</td>\n",
       "      <td>-13.407268</td>\n",
       "      <td>[DM, GM, DM, B♭M, DM, FM, AM, CM, EM, AM, Gm, ...</td>\n",
       "      <td>[[D6, A6], [D7, G6], [D6, A6], [F6, B♭5], [D6,...</td>\n",
       "      <td>382.003153</td>\n",
       "      <td>1</td>\n",
       "      <td>NaN</td>\n",
       "    </tr>\n",
       "    <tr>\n",
       "      <th>op43n04</th>\n",
       "      <td>StochasticBeamSearch_8_700_16</td>\n",
       "      <td>0.384615</td>\n",
       "      <td>-13.407268</td>\n",
       "      <td>[DM, GM, DM, B♭M, DM, FM, AM, CM, EM, AM, Gm, ...</td>\n",
       "      <td>[[D6, A6], [D7, G6], [D6, A6], [F6, B♭5], [D6,...</td>\n",
       "      <td>378.224820</td>\n",
       "      <td>1</td>\n",
       "      <td>NaN</td>\n",
       "    </tr>\n",
       "    <tr>\n",
       "      <th>op54n03</th>\n",
       "      <td>StochasticBeamSearch_8_700_19</td>\n",
       "      <td>NaN</td>\n",
       "      <td>NaN</td>\n",
       "      <td>None</td>\n",
       "      <td>None</td>\n",
       "      <td>NaN</td>\n",
       "      <td>NaN</td>\n",
       "      <td>NaN</td>\n",
       "    </tr>\n",
       "    <tr>\n",
       "      <th>op54n03</th>\n",
       "      <td>StochasticBeamSearch_9_700_1</td>\n",
       "      <td>NaN</td>\n",
       "      <td>NaN</td>\n",
       "      <td>None</td>\n",
       "      <td>None</td>\n",
       "      <td>NaN</td>\n",
       "      <td>NaN</td>\n",
       "      <td>NaN</td>\n",
       "    </tr>\n",
       "    <tr>\n",
       "      <th>op12n01</th>\n",
       "      <td>StochasticBeamSearch_7_700_2</td>\n",
       "      <td>NaN</td>\n",
       "      <td>NaN</td>\n",
       "      <td>None</td>\n",
       "      <td>None</td>\n",
       "      <td>NaN</td>\n",
       "      <td>NaN</td>\n",
       "      <td>NaN</td>\n",
       "    </tr>\n",
       "    <tr>\n",
       "      <th>op12n01</th>\n",
       "      <td>StochasticBeamSearch_7_700_1</td>\n",
       "      <td>NaN</td>\n",
       "      <td>NaN</td>\n",
       "      <td>None</td>\n",
       "      <td>None</td>\n",
       "      <td>NaN</td>\n",
       "      <td>NaN</td>\n",
       "      <td>NaN</td>\n",
       "    </tr>\n",
       "    <tr>\n",
       "      <th>op12n01</th>\n",
       "      <td>StochasticBeamSearch_7_700_3</td>\n",
       "      <td>0.325581</td>\n",
       "      <td>-13.640451</td>\n",
       "      <td>[E♭M, E♭M, A♭M, A♭m, E♭M, E♭M, E♭M, Cm, Gm, CM...</td>\n",
       "      <td>[[E♭4, B♭4, G6], [E♭4, C♭4, G6], [E♭4, E6, A♭5...</td>\n",
       "      <td>322.190087</td>\n",
       "      <td>1</td>\n",
       "      <td>NaN</td>\n",
       "    </tr>\n",
       "    <tr>\n",
       "      <th>op12n01</th>\n",
       "      <td>StochasticBeamSearch_7_700_4</td>\n",
       "      <td>0.325581</td>\n",
       "      <td>-13.640451</td>\n",
       "      <td>[E♭M, E♭M, A♭M, A♭m, E♭M, E♭M, E♭M, Cm, Gm, CM...</td>\n",
       "      <td>[[E♭4, B♭4, G6], [E♭4, C♭4, G6], [E♭4, E6, A♭5...</td>\n",
       "      <td>308.685563</td>\n",
       "      <td>1</td>\n",
       "      <td>NaN</td>\n",
       "    </tr>\n",
       "  </tbody>\n",
       "</table>\n",
       "</div>"
      ],
      "text/plain": [
       "                                                 algorithm  accuracy  \\\n",
       "corpus             piece                                               \n",
       "grieg_lyric_pieces op47n01   StochasticBeamSearch_13_700_2       NaN   \n",
       "                   op47n01   StochasticBeamSearch_13_700_3       NaN   \n",
       "                   op47n01   StochasticBeamSearch_13_700_1       NaN   \n",
       "                   op12n08   StochasticBeamSearch_8_700_11  0.756410   \n",
       "                   op12n08   StochasticBeamSearch_8_700_12  0.756410   \n",
       "                   op12n08   StochasticBeamSearch_8_700_13  0.756410   \n",
       "                   op12n02    StochasticBeamSearch_8_700_9       NaN   \n",
       "                   op38n02   StochasticBeamSearch_11_700_8       NaN   \n",
       "                   op38n06   StochasticBeamSearch_8_700_13       NaN   \n",
       "                   op47n07   StochasticBeamSearch_13_700_3       NaN   \n",
       "                   op43n06  StochasticBeamSearch_11_700_12       NaN   \n",
       "                   op47n06  StochasticBeamSearch_11_700_14       NaN   \n",
       "                   op43n01  StochasticBeamSearch_12_700_18       NaN   \n",
       "                   op38n07   StochasticBeamSearch_10_700_2       NaN   \n",
       "                   op38n07   StochasticBeamSearch_10_700_3  0.254545   \n",
       "                   op38n07   StochasticBeamSearch_10_700_4  0.254545   \n",
       "                   op38n03  StochasticBeamSearch_12_700_16       NaN   \n",
       "                   op47n04   StochasticBeamSearch_8_700_17       NaN   \n",
       "                   op54n02   StochasticBeamSearch_7_700_11       NaN   \n",
       "                   op54n04   StochasticBeamSearch_10_700_8       NaN   \n",
       "                   op43n04   StochasticBeamSearch_8_700_15  0.384615   \n",
       "                   op43n04   StochasticBeamSearch_8_700_16  0.384615   \n",
       "                   op54n03   StochasticBeamSearch_8_700_19       NaN   \n",
       "                   op54n03    StochasticBeamSearch_9_700_1       NaN   \n",
       "                   op12n01    StochasticBeamSearch_7_700_2       NaN   \n",
       "                   op12n01    StochasticBeamSearch_7_700_1       NaN   \n",
       "                   op12n01    StochasticBeamSearch_7_700_3  0.325581   \n",
       "                   op12n01    StochasticBeamSearch_7_700_4  0.325581   \n",
       "\n",
       "                            likelihood  \\\n",
       "corpus             piece                 \n",
       "grieg_lyric_pieces op47n01         NaN   \n",
       "                   op47n01         NaN   \n",
       "                   op47n01         NaN   \n",
       "                   op12n08  -12.441700   \n",
       "                   op12n08  -12.441700   \n",
       "                   op12n08  -12.441700   \n",
       "                   op12n02         NaN   \n",
       "                   op38n02         NaN   \n",
       "                   op38n06         NaN   \n",
       "                   op47n07         NaN   \n",
       "                   op43n06         NaN   \n",
       "                   op47n06         NaN   \n",
       "                   op43n01         NaN   \n",
       "                   op38n07         NaN   \n",
       "                   op38n07  -12.992248   \n",
       "                   op38n07  -12.945512   \n",
       "                   op38n03         NaN   \n",
       "                   op47n04         NaN   \n",
       "                   op54n02         NaN   \n",
       "                   op54n04         NaN   \n",
       "                   op43n04  -13.407268   \n",
       "                   op43n04  -13.407268   \n",
       "                   op54n03         NaN   \n",
       "                   op54n03         NaN   \n",
       "                   op12n01         NaN   \n",
       "                   op12n01         NaN   \n",
       "                   op12n01  -13.640451   \n",
       "                   op12n01  -13.640451   \n",
       "\n",
       "                                                                  chordLabels  \\\n",
       "corpus             piece                                                        \n",
       "grieg_lyric_pieces op47n01                                               None   \n",
       "                   op47n01                                               None   \n",
       "                   op47n01                                               None   \n",
       "                   op12n08  [E♭M, FMm7, E♭M, A♭M, E♭M, A♭M, B♭M, E♭M, GM, ...   \n",
       "                   op12n08  [E♭M, FMm7, E♭M, A♭M, E♭M, A♭M, B♭M, E♭M, GM, ...   \n",
       "                   op12n08  [E♭M, FMm7, E♭M, A♭M, E♭M, A♭M, B♭M, E♭M, GM, ...   \n",
       "                   op12n02                                               None   \n",
       "                   op38n02                                               None   \n",
       "                   op38n06                                               None   \n",
       "                   op47n07                                               None   \n",
       "                   op43n06                                               None   \n",
       "                   op47n06                                               None   \n",
       "                   op43n01                                               None   \n",
       "                   op38n07                                               None   \n",
       "                   op38n07  [EM, CM, EM, AM, DM, G♯o7, Am, Am, CM, Am, AMm...   \n",
       "                   op38n07  [EM, AM, EM, AM, DM, G♯o7, Am, Am, CM, Am, AMm...   \n",
       "                   op38n03                                               None   \n",
       "                   op47n04                                               None   \n",
       "                   op54n02                                               None   \n",
       "                   op54n04                                               None   \n",
       "                   op43n04  [DM, GM, DM, B♭M, DM, FM, AM, CM, EM, AM, Gm, ...   \n",
       "                   op43n04  [DM, GM, DM, B♭M, DM, FM, AM, CM, EM, AM, Gm, ...   \n",
       "                   op54n03                                               None   \n",
       "                   op54n03                                               None   \n",
       "                   op12n01                                               None   \n",
       "                   op12n01                                               None   \n",
       "                   op12n01  [E♭M, E♭M, A♭M, A♭m, E♭M, E♭M, E♭M, Cm, Gm, CM...   \n",
       "                   op12n01  [E♭M, E♭M, A♭M, A♭m, E♭M, E♭M, E♭M, Cm, Gm, CM...   \n",
       "\n",
       "                                                                       slices  \\\n",
       "corpus             piece                                                        \n",
       "grieg_lyric_pieces op47n01                                               None   \n",
       "                   op47n01                                               None   \n",
       "                   op47n01                                               None   \n",
       "                   op12n08  [[E♭5, E♭5], [E♭4, F4, C4], [E♭4, B♭3, G4], [E...   \n",
       "                   op12n08  [[E♭5, E♭5], [E♭4, F4, C4], [E♭4, B♭3, G4], [E...   \n",
       "                   op12n08  [[E♭5, E♭5], [E♭4, F4, C4], [E♭4, B♭3, G4], [E...   \n",
       "                   op12n02                                               None   \n",
       "                   op38n02                                               None   \n",
       "                   op38n06                                               None   \n",
       "                   op47n07                                               None   \n",
       "                   op43n06                                               None   \n",
       "                   op47n06                                               None   \n",
       "                   op43n01                                               None   \n",
       "                   op38n07                                               None   \n",
       "                   op38n07  [[E4, B5], [E5, C5, F♯5, G5], [E4, B5], [E6, A...   \n",
       "                   op38n07  [[E4, B5], [E4, B5, A5], [E4, B5], [E6, A3], [...   \n",
       "                   op38n03                                               None   \n",
       "                   op47n04                                               None   \n",
       "                   op54n02                                               None   \n",
       "                   op54n04                                               None   \n",
       "                   op43n04  [[D6, A6], [D7, G6], [D6, A6], [F6, B♭5], [D6,...   \n",
       "                   op43n04  [[D6, A6], [D7, G6], [D6, A6], [F6, B♭5], [D6,...   \n",
       "                   op54n03                                               None   \n",
       "                   op54n03                                               None   \n",
       "                   op12n01                                               None   \n",
       "                   op12n01                                               None   \n",
       "                   op12n01  [[E♭4, B♭4, G6], [E♭4, C♭4, G6], [E♭4, E6, A♭5...   \n",
       "                   op12n01  [[E♭4, B♭4, G6], [E♭4, C♭4, G6], [E♭4, E6, A♭5...   \n",
       "\n",
       "                               runTime reruns reRuns  \n",
       "corpus             piece                              \n",
       "grieg_lyric_pieces op47n01         NaN    NaN    NaN  \n",
       "                   op47n01         NaN    NaN    NaN  \n",
       "                   op47n01         NaN    NaN    NaN  \n",
       "                   op12n08  302.088076      1    NaN  \n",
       "                   op12n08  302.701055      1    NaN  \n",
       "                   op12n08  300.481801      1    NaN  \n",
       "                   op12n02         NaN    NaN    NaN  \n",
       "                   op38n02         NaN    NaN    NaN  \n",
       "                   op38n06         NaN    NaN    NaN  \n",
       "                   op47n07         NaN    NaN    NaN  \n",
       "                   op43n06         NaN    NaN    NaN  \n",
       "                   op47n06         NaN    NaN    NaN  \n",
       "                   op43n01         NaN    NaN    NaN  \n",
       "                   op38n07         NaN    NaN    NaN  \n",
       "                   op38n07  447.273070      1    NaN  \n",
       "                   op38n07  429.715645      1    NaN  \n",
       "                   op38n03         NaN    NaN    NaN  \n",
       "                   op47n04         NaN    NaN    NaN  \n",
       "                   op54n02         NaN    NaN    NaN  \n",
       "                   op54n04         NaN    NaN    NaN  \n",
       "                   op43n04  382.003153      1    NaN  \n",
       "                   op43n04  378.224820      1    NaN  \n",
       "                   op54n03         NaN    NaN    NaN  \n",
       "                   op54n03         NaN    NaN    NaN  \n",
       "                   op12n01         NaN    NaN    NaN  \n",
       "                   op12n01         NaN    NaN    NaN  \n",
       "                   op12n01  322.190087      1    NaN  \n",
       "                   op12n01  308.685563      1    NaN  "
      ]
     },
     "execution_count": 508,
     "metadata": {},
     "output_type": "execute_result"
    }
   ],
   "source": [
    "stochastic_params_lim_df"
   ]
  },
  {
   "cell_type": "markdown",
   "metadata": {},
   "source": [
    " Extract parameters from algorithm name"
   ]
  },
  {
   "cell_type": "code",
   "execution_count": 509,
   "metadata": {
    "tags": []
   },
   "outputs": [
    {
     "name": "stderr",
     "output_type": "stream",
     "text": [
      "/tmp/ipykernel_66/980105.py:1: SettingWithCopyWarning: \n",
      "A value is trying to be set on a copy of a slice from a DataFrame.\n",
      "Try using .loc[row_indexer,col_indexer] = value instead\n",
      "\n",
      "See the caveats in the documentation: https://pandas.pydata.org/pandas-docs/stable/user_guide/indexing.html#returning-a-view-versus-a-copy\n",
      "  stochastic_params_lim_df['beamwidth'] = stochastic_params_lim_df[\"algorithm\"].apply(lambda s: int(s.split(\"_\")[1]))\n",
      "/tmp/ipykernel_66/980105.py:2: SettingWithCopyWarning: \n",
      "A value is trying to be set on a copy of a slice from a DataFrame.\n",
      "Try using .loc[row_indexer,col_indexer] = value instead\n",
      "\n",
      "See the caveats in the documentation: https://pandas.pydata.org/pandas-docs/stable/user_guide/indexing.html#returning-a-view-versus-a-copy\n",
      "  stochastic_params_lim_df['limit'] = stochastic_params_lim_df[\"algorithm\"].apply(lambda s: int(s.split(\"_\")[3]))\n"
     ]
    }
   ],
   "source": [
    "stochastic_params_lim_df['beamwidth'] = stochastic_params_lim_df[\"algorithm\"].apply(lambda s: int(s.split(\"_\")[1]))\n",
    "stochastic_params_lim_df['limit'] = stochastic_params_lim_df[\"algorithm\"].apply(lambda s: int(s.split(\"_\")[3]))"
   ]
  },
  {
   "cell_type": "markdown",
   "metadata": {},
   "source": [
    "## Accuracy, loglikelihood and runtime"
   ]
  },
  {
   "cell_type": "code",
   "execution_count": 510,
   "metadata": {
    "tags": []
   },
   "outputs": [],
   "source": [
    "def get_avgs(df, value):\n",
    "    g = df.dropna(subset=value).groupby(['beamwidth','limit'])\n",
    "    df_means = g[value].mean()\n",
    "    return df_means.loc[:,:].reset_index().pivot(index='limit', columns='beamwidth', values=value)"
   ]
  },
  {
   "cell_type": "code",
   "execution_count": 511,
   "metadata": {
    "tags": []
   },
   "outputs": [],
   "source": [
    "acc_avgs = get_avgs(stochastic_params_lim_df, 'accuracy')\n",
    "lik_avgs = get_avgs(stochastic_params_lim_df, 'likelihood')\n",
    "run_avgs = get_avgs(stochastic_params_lim_df, 'runTime')"
   ]
  },
  {
   "cell_type": "markdown",
   "metadata": {},
   "source": [
    "## Plot hyperparemter results"
   ]
  },
  {
   "cell_type": "code",
   "execution_count": 512,
   "metadata": {
    "tags": []
   },
   "outputs": [],
   "source": [
    "def create_heatmap(xs, ax, vmin, vmax,cmap):\n",
    "    lbls = xs.applymap(lambda v: \"{:.2f}\".format(v) if v in [np.nanmax(xs.values),np.nanmin(xs.values)]else '')\n",
    "    return sns.heatmap(xs,\n",
    "            square=True,\n",
    "            ax=ax,\n",
    "            cmap=cmap,\n",
    "            fmt='',\n",
    "            annot=lbls, # Label the maximum value\n",
    "            annot_kws={'fontsize':5},\n",
    "            mask=xs.isna(),\n",
    "            vmax=vmax,\n",
    "            vmin=vmin,\n",
    "            linewidth=0.01)"
   ]
  },
  {
   "cell_type": "code",
   "execution_count": 513,
   "metadata": {
    "tags": []
   },
   "outputs": [
    {
     "data": {
      "image/png": "[encoded data removed]",
      "text/plain": [
       "<Figure size 800x500 with 6 Axes>"
      ]
     },
     "metadata": {},
     "output_type": "display_data"
    }
   ],
   "source": [
    "height=5\n",
    "ratio = stochastic_params_lim_df['limit'].nunique() / stochastic_params_lim_df['beamwidth'].nunique()\n",
    "spacing = 1\n",
    "fig, ax = plt.subplots(1, 3, figsize=((height*3)/ratio+ spacing,height),gridspec_kw={'width_ratios': [1,1,1]})\n",
    "\n",
    "cmap = sns.color_palette(\"viridis\", as_cmap=True)\n",
    "cmap.set_bad(color=\"black\")\n",
    "\n",
    "l = create_heatmap(lik_avgs, ax[0], lik_avgs.min().min(), lik_avgs.max().max()+ (lik_avgs.max().max()-lik_avgs.min().min()) * 0.1, cmap)\n",
    "a = create_heatmap(acc_avgs, ax[1], 0, 1, cmap)\n",
    "r = create_heatmap(run_avgs, ax[2], run_avgs.min().min(), run_avgs.max().max(), cmap.reversed())\n",
    "\n",
    "ax[0].set_title('Log-likelihood')\n",
    "ax[1].set_title('Accuracy')\n",
    "ax[2].set_title('Run-time (s)')\n",
    "\n",
    "for a in ax:\n",
    "    a.set_xlabel('Beam Width')\n",
    "    a.set_ylabel('Slice Limit')\n",
    "\n",
    "\n",
    "plt.tight_layout()\n",
    "plt.savefig('plots/stochbeamlimgridsearch-{}.png'.format(exp_id), dpi=180)"
   ]
  },
  {
   "cell_type": "markdown",
   "metadata": {},
   "source": [
    "# Analysis on latest experiment"
   ]
  },
  {
   "cell_type": "code",
   "execution_count": null,
   "metadata": {
    "tags": []
   },
   "outputs": [],
   "source": []
  },
  {
   "cell_type": "code",
   "execution_count": 514,
   "metadata": {
    "jukit_cell_id": "ikUSCIh1xQ",
    "tags": []
   },
   "outputs": [
    {
     "ename": "KeyError",
     "evalue": "\"['id'] not found in axis\"",
     "output_type": "error",
     "traceback": [
      "\u001b[0;31m---------------------------------------------------------------------------\u001b[0m",
      "\u001b[0;31mKeyError\u001b[0m                                  Traceback (most recent call last)",
      "Cell \u001b[0;32mIn[514], line 1\u001b[0m\n\u001b[0;32m----> 1\u001b[0m results \u001b[38;5;241m=\u001b[39m \u001b[43mresults\u001b[49m\u001b[38;5;241;43m.\u001b[39;49m\u001b[43mdrop\u001b[49m\u001b[43m(\u001b[49m\u001b[43m[\u001b[49m\u001b[38;5;124;43m\"\u001b[39;49m\u001b[38;5;124;43mid\u001b[39;49m\u001b[38;5;124;43m\"\u001b[39;49m\u001b[43m]\u001b[49m\u001b[43m,\u001b[49m\u001b[43maxis\u001b[49m\u001b[38;5;241;43m=\u001b[39;49m\u001b[38;5;241;43m1\u001b[39;49m\u001b[43m)\u001b[49m\n",
      "File \u001b[0;32m~/.local/lib/python3.10/site-packages/pandas/util/_decorators.py:331\u001b[0m, in \u001b[0;36mdeprecate_nonkeyword_arguments.<locals>.decorate.<locals>.wrapper\u001b[0;34m(*args, **kwargs)\u001b[0m\n\u001b[1;32m    325\u001b[0m \u001b[38;5;28;01mif\u001b[39;00m \u001b[38;5;28mlen\u001b[39m(args) \u001b[38;5;241m>\u001b[39m num_allow_args:\n\u001b[1;32m    326\u001b[0m     warnings\u001b[38;5;241m.\u001b[39mwarn(\n\u001b[1;32m    327\u001b[0m         msg\u001b[38;5;241m.\u001b[39mformat(arguments\u001b[38;5;241m=\u001b[39m_format_argument_list(allow_args)),\n\u001b[1;32m    328\u001b[0m         \u001b[38;5;167;01mFutureWarning\u001b[39;00m,\n\u001b[1;32m    329\u001b[0m         stacklevel\u001b[38;5;241m=\u001b[39mfind_stack_level(),\n\u001b[1;32m    330\u001b[0m     )\n\u001b[0;32m--> 331\u001b[0m \u001b[38;5;28;01mreturn\u001b[39;00m \u001b[43mfunc\u001b[49m\u001b[43m(\u001b[49m\u001b[38;5;241;43m*\u001b[39;49m\u001b[43margs\u001b[49m\u001b[43m,\u001b[49m\u001b[43m \u001b[49m\u001b[38;5;241;43m*\u001b[39;49m\u001b[38;5;241;43m*\u001b[39;49m\u001b[43mkwargs\u001b[49m\u001b[43m)\u001b[49m\n",
      "File \u001b[0;32m~/.local/lib/python3.10/site-packages/pandas/core/frame.py:5399\u001b[0m, in \u001b[0;36mDataFrame.drop\u001b[0;34m(self, labels, axis, index, columns, level, inplace, errors)\u001b[0m\n\u001b[1;32m   5251\u001b[0m \u001b[38;5;129m@deprecate_nonkeyword_arguments\u001b[39m(version\u001b[38;5;241m=\u001b[39m\u001b[38;5;28;01mNone\u001b[39;00m, allowed_args\u001b[38;5;241m=\u001b[39m[\u001b[38;5;124m\"\u001b[39m\u001b[38;5;124mself\u001b[39m\u001b[38;5;124m\"\u001b[39m, \u001b[38;5;124m\"\u001b[39m\u001b[38;5;124mlabels\u001b[39m\u001b[38;5;124m\"\u001b[39m])\n\u001b[1;32m   5252\u001b[0m \u001b[38;5;28;01mdef\u001b[39;00m \u001b[38;5;21mdrop\u001b[39m(  \u001b[38;5;66;03m# type: ignore[override]\u001b[39;00m\n\u001b[1;32m   5253\u001b[0m     \u001b[38;5;28mself\u001b[39m,\n\u001b[0;32m   (...)\u001b[0m\n\u001b[1;32m   5260\u001b[0m     errors: IgnoreRaise \u001b[38;5;241m=\u001b[39m \u001b[38;5;124m\"\u001b[39m\u001b[38;5;124mraise\u001b[39m\u001b[38;5;124m\"\u001b[39m,\n\u001b[1;32m   5261\u001b[0m ) \u001b[38;5;241m-\u001b[39m\u001b[38;5;241m>\u001b[39m DataFrame \u001b[38;5;241m|\u001b[39m \u001b[38;5;28;01mNone\u001b[39;00m:\n\u001b[1;32m   5262\u001b[0m \u001b[38;5;250m    \u001b[39m\u001b[38;5;124;03m\"\"\"\u001b[39;00m\n\u001b[1;32m   5263\u001b[0m \u001b[38;5;124;03m    Drop specified labels from rows or columns.\u001b[39;00m\n\u001b[1;32m   5264\u001b[0m \n\u001b[0;32m   (...)\u001b[0m\n\u001b[1;32m   5397\u001b[0m \u001b[38;5;124;03m            weight  1.0     0.8\u001b[39;00m\n\u001b[1;32m   5398\u001b[0m \u001b[38;5;124;03m    \"\"\"\u001b[39;00m\n\u001b[0;32m-> 5399\u001b[0m     \u001b[38;5;28;01mreturn\u001b[39;00m \u001b[38;5;28;43msuper\u001b[39;49m\u001b[43m(\u001b[49m\u001b[43m)\u001b[49m\u001b[38;5;241;43m.\u001b[39;49m\u001b[43mdrop\u001b[49m\u001b[43m(\u001b[49m\n\u001b[1;32m   5400\u001b[0m \u001b[43m        \u001b[49m\u001b[43mlabels\u001b[49m\u001b[38;5;241;43m=\u001b[39;49m\u001b[43mlabels\u001b[49m\u001b[43m,\u001b[49m\n\u001b[1;32m   5401\u001b[0m \u001b[43m        \u001b[49m\u001b[43maxis\u001b[49m\u001b[38;5;241;43m=\u001b[39;49m\u001b[43maxis\u001b[49m\u001b[43m,\u001b[49m\n\u001b[1;32m   5402\u001b[0m \u001b[43m        \u001b[49m\u001b[43mindex\u001b[49m\u001b[38;5;241;43m=\u001b[39;49m\u001b[43mindex\u001b[49m\u001b[43m,\u001b[49m\n\u001b[1;32m   5403\u001b[0m \u001b[43m        \u001b[49m\u001b[43mcolumns\u001b[49m\u001b[38;5;241;43m=\u001b[39;49m\u001b[43mcolumns\u001b[49m\u001b[43m,\u001b[49m\n\u001b[1;32m   5404\u001b[0m \u001b[43m        \u001b[49m\u001b[43mlevel\u001b[49m\u001b[38;5;241;43m=\u001b[39;49m\u001b[43mlevel\u001b[49m\u001b[43m,\u001b[49m\n\u001b[1;32m   5405\u001b[0m \u001b[43m        \u001b[49m\u001b[43minplace\u001b[49m\u001b[38;5;241;43m=\u001b[39;49m\u001b[43minplace\u001b[49m\u001b[43m,\u001b[49m\n\u001b[1;32m   5406\u001b[0m \u001b[43m        \u001b[49m\u001b[43merrors\u001b[49m\u001b[38;5;241;43m=\u001b[39;49m\u001b[43merrors\u001b[49m\u001b[43m,\u001b[49m\n\u001b[1;32m   5407\u001b[0m \u001b[43m    \u001b[49m\u001b[43m)\u001b[49m\n",
      "File \u001b[0;32m~/.local/lib/python3.10/site-packages/pandas/util/_decorators.py:331\u001b[0m, in \u001b[0;36mdeprecate_nonkeyword_arguments.<locals>.decorate.<locals>.wrapper\u001b[0;34m(*args, **kwargs)\u001b[0m\n\u001b[1;32m    325\u001b[0m \u001b[38;5;28;01mif\u001b[39;00m \u001b[38;5;28mlen\u001b[39m(args) \u001b[38;5;241m>\u001b[39m num_allow_args:\n\u001b[1;32m    326\u001b[0m     warnings\u001b[38;5;241m.\u001b[39mwarn(\n\u001b[1;32m    327\u001b[0m         msg\u001b[38;5;241m.\u001b[39mformat(arguments\u001b[38;5;241m=\u001b[39m_format_argument_list(allow_args)),\n\u001b[1;32m    328\u001b[0m         \u001b[38;5;167;01mFutureWarning\u001b[39;00m,\n\u001b[1;32m    329\u001b[0m         stacklevel\u001b[38;5;241m=\u001b[39mfind_stack_level(),\n\u001b[1;32m    330\u001b[0m     )\n\u001b[0;32m--> 331\u001b[0m \u001b[38;5;28;01mreturn\u001b[39;00m \u001b[43mfunc\u001b[49m\u001b[43m(\u001b[49m\u001b[38;5;241;43m*\u001b[39;49m\u001b[43margs\u001b[49m\u001b[43m,\u001b[49m\u001b[43m \u001b[49m\u001b[38;5;241;43m*\u001b[39;49m\u001b[38;5;241;43m*\u001b[39;49m\u001b[43mkwargs\u001b[49m\u001b[43m)\u001b[49m\n",
      "File \u001b[0;32m~/.local/lib/python3.10/site-packages/pandas/core/generic.py:4505\u001b[0m, in \u001b[0;36mNDFrame.drop\u001b[0;34m(self, labels, axis, index, columns, level, inplace, errors)\u001b[0m\n\u001b[1;32m   4503\u001b[0m \u001b[38;5;28;01mfor\u001b[39;00m axis, labels \u001b[38;5;129;01min\u001b[39;00m axes\u001b[38;5;241m.\u001b[39mitems():\n\u001b[1;32m   4504\u001b[0m     \u001b[38;5;28;01mif\u001b[39;00m labels \u001b[38;5;129;01mis\u001b[39;00m \u001b[38;5;129;01mnot\u001b[39;00m \u001b[38;5;28;01mNone\u001b[39;00m:\n\u001b[0;32m-> 4505\u001b[0m         obj \u001b[38;5;241m=\u001b[39m \u001b[43mobj\u001b[49m\u001b[38;5;241;43m.\u001b[39;49m\u001b[43m_drop_axis\u001b[49m\u001b[43m(\u001b[49m\u001b[43mlabels\u001b[49m\u001b[43m,\u001b[49m\u001b[43m \u001b[49m\u001b[43maxis\u001b[49m\u001b[43m,\u001b[49m\u001b[43m \u001b[49m\u001b[43mlevel\u001b[49m\u001b[38;5;241;43m=\u001b[39;49m\u001b[43mlevel\u001b[49m\u001b[43m,\u001b[49m\u001b[43m \u001b[49m\u001b[43merrors\u001b[49m\u001b[38;5;241;43m=\u001b[39;49m\u001b[43merrors\u001b[49m\u001b[43m)\u001b[49m\n\u001b[1;32m   4507\u001b[0m \u001b[38;5;28;01mif\u001b[39;00m inplace:\n\u001b[1;32m   4508\u001b[0m     \u001b[38;5;28mself\u001b[39m\u001b[38;5;241m.\u001b[39m_update_inplace(obj)\n",
      "File \u001b[0;32m~/.local/lib/python3.10/site-packages/pandas/core/generic.py:4546\u001b[0m, in \u001b[0;36mNDFrame._drop_axis\u001b[0;34m(self, labels, axis, level, errors, only_slice)\u001b[0m\n\u001b[1;32m   4544\u001b[0m         new_axis \u001b[38;5;241m=\u001b[39m axis\u001b[38;5;241m.\u001b[39mdrop(labels, level\u001b[38;5;241m=\u001b[39mlevel, errors\u001b[38;5;241m=\u001b[39merrors)\n\u001b[1;32m   4545\u001b[0m     \u001b[38;5;28;01melse\u001b[39;00m:\n\u001b[0;32m-> 4546\u001b[0m         new_axis \u001b[38;5;241m=\u001b[39m \u001b[43maxis\u001b[49m\u001b[38;5;241;43m.\u001b[39;49m\u001b[43mdrop\u001b[49m\u001b[43m(\u001b[49m\u001b[43mlabels\u001b[49m\u001b[43m,\u001b[49m\u001b[43m \u001b[49m\u001b[43merrors\u001b[49m\u001b[38;5;241;43m=\u001b[39;49m\u001b[43merrors\u001b[49m\u001b[43m)\u001b[49m\n\u001b[1;32m   4547\u001b[0m     indexer \u001b[38;5;241m=\u001b[39m axis\u001b[38;5;241m.\u001b[39mget_indexer(new_axis)\n\u001b[1;32m   4549\u001b[0m \u001b[38;5;66;03m# Case for non-unique axis\u001b[39;00m\n\u001b[1;32m   4550\u001b[0m \u001b[38;5;28;01melse\u001b[39;00m:\n",
      "File \u001b[0;32m~/.local/lib/python3.10/site-packages/pandas/core/indexes/base.py:6934\u001b[0m, in \u001b[0;36mIndex.drop\u001b[0;34m(self, labels, errors)\u001b[0m\n\u001b[1;32m   6932\u001b[0m \u001b[38;5;28;01mif\u001b[39;00m mask\u001b[38;5;241m.\u001b[39many():\n\u001b[1;32m   6933\u001b[0m     \u001b[38;5;28;01mif\u001b[39;00m errors \u001b[38;5;241m!=\u001b[39m \u001b[38;5;124m\"\u001b[39m\u001b[38;5;124mignore\u001b[39m\u001b[38;5;124m\"\u001b[39m:\n\u001b[0;32m-> 6934\u001b[0m         \u001b[38;5;28;01mraise\u001b[39;00m \u001b[38;5;167;01mKeyError\u001b[39;00m(\u001b[38;5;124mf\u001b[39m\u001b[38;5;124m\"\u001b[39m\u001b[38;5;132;01m{\u001b[39;00m\u001b[38;5;28mlist\u001b[39m(labels[mask])\u001b[38;5;132;01m}\u001b[39;00m\u001b[38;5;124m not found in axis\u001b[39m\u001b[38;5;124m\"\u001b[39m)\n\u001b[1;32m   6935\u001b[0m     indexer \u001b[38;5;241m=\u001b[39m indexer[\u001b[38;5;241m~\u001b[39mmask]\n\u001b[1;32m   6936\u001b[0m \u001b[38;5;28;01mreturn\u001b[39;00m \u001b[38;5;28mself\u001b[39m\u001b[38;5;241m.\u001b[39mdelete(indexer)\n",
      "\u001b[0;31mKeyError\u001b[0m: \"['id'] not found in axis\""
     ]
    }
   ],
   "source": [
    "results = results.drop([\"id\"],axis=1)"
   ]
  },
  {
   "cell_type": "code",
   "execution_count": null,
   "metadata": {
    "jukit_cell_id": "wRjsiHake7",
    "tags": []
   },
   "outputs": [],
   "source": [
    "#results.drop([\"chordLabels\", \"slices\"], axis=1).groupby([\"algorithm\"]).agg([np.mean, np.std])"
   ]
  },
  {
   "cell_type": "code",
   "execution_count": null,
   "metadata": {
    "jukit_cell_id": "tPrPjJmMrh",
    "tags": []
   },
   "outputs": [],
   "source": [
    "agm = results.drop([\"chordLabels\", \"slices\"], axis=1).groupby([\"corpus\", \"algorithm\"]).agg([np.mean, np.std])"
   ]
  },
  {
   "cell_type": "code",
   "execution_count": null,
   "metadata": {
    "tags": []
   },
   "outputs": [],
   "source": [
    "#results.drop([\"chordLabels\", \"slices\"], axis=1).groupby([\"corpus\", \"algorithm\"]).errors()"
   ]
  },
  {
   "cell_type": "code",
   "execution_count": null,
   "metadata": {
    "tags": []
   },
   "outputs": [],
   "source": [
    "agm = results.drop([\"chordLabels\", \"slices\",\"runTime\",\"likelihood\"], axis=1).groupby([\"corpus\", \"algorithm\"]).agg([np.std])"
   ]
  },
  {
   "cell_type": "code",
   "execution_count": null,
   "metadata": {
    "tags": []
   },
   "outputs": [],
   "source": [
    "errs = agm.reset_index()[\"accuracy\"][\"std\"].fillna(0)"
   ]
  },
  {
   "cell_type": "code",
   "execution_count": null,
   "metadata": {
    "tags": []
   },
   "outputs": [],
   "source": [
    "a = results.drop([\"chordLabels\", \"slices\"], axis=1)"
   ]
  },
  {
   "cell_type": "code",
   "execution_count": null,
   "metadata": {
    "tags": []
   },
   "outputs": [],
   "source": [
    "std_pivot = pd.pivot_table(a, \n",
    "                          values=\"accuracy\", \n",
    "                          index=\"corpus\", \n",
    "                          columns=\"algorithm\", \n",
    "                          aggfunc=np.std)"
   ]
  },
  {
   "cell_type": "code",
   "execution_count": null,
   "metadata": {
    "tags": []
   },
   "outputs": [],
   "source": [
    "acc_pivot = pd.pivot_table(a, \n",
    "                          values=\"accuracy\", \n",
    "                          index=\"corpus\", \n",
    "                          columns=\"algorithm\", \n",
    "                          aggfunc=np.mean)"
   ]
  },
  {
   "cell_type": "markdown",
   "metadata": {},
   "source": [
    "## Plot Accuracy Chart"
   ]
  },
  {
   "cell_type": "code",
   "execution_count": null,
   "metadata": {
    "tags": []
   },
   "outputs": [],
   "source": [
    "sns.set()  # use Seaborn styles\n",
    "#acc_pivot.plot.bar(yerr=std_pivot, figsize=(6,2), fontsize=8, rot=0, ylim=(0,1), width=0.6, legend=\"loc:lower center\")\n",
    "#acc_pivot.plot.bar(yerr=std_pivot, figsize=(6,2), fontsize=8, rot=0, ylim=(0,1), width=0.6, legend=\"loc:lower center\")\n",
    "#plt.ylabel('Accuracy')\n",
    "#plt.legend(loc='upper center', title=\"Algorithm\", bbox_to_anchor=(0.5, -0.4),\n",
    "          fancybox=True, ncol=2, prop={'size': 8})\n",
    "          "
   ]
  },
  {
   "cell_type": "markdown",
   "metadata": {
    "jukit_cell_id": "iHRFncNnP0"
   },
   "source": [
    "# Close Error Analysis"
   ]
  },
  {
   "cell_type": "markdown",
   "metadata": {
    "jukit_cell_id": "GaYVd5PvVx"
   },
   "source": [
    "Attributes: chord type, root note, etc"
   ]
  },
  {
   "cell_type": "markdown",
   "metadata": {
    "jukit_cell_id": "Tul5KdAHKW"
   },
   "source": [
    "#### Zoom in on ABC: n02op18-2_03"
   ]
  },
  {
   "cell_type": "code",
   "execution_count": null,
   "metadata": {
    "jukit_cell_id": "qMafEUWNMJ",
    "tags": []
   },
   "outputs": [],
   "source": [
    "groundTruth.loc['ABC','n02op18-2_03']"
   ]
  },
  {
   "cell_type": "code",
   "execution_count": null,
   "metadata": {
    "jukit_cell_id": "6np0Y2BmMq",
    "tags": []
   },
   "outputs": [],
   "source": [
    "results"
   ]
  },
  {
   "cell_type": "code",
   "execution_count": null,
   "metadata": {
    "jukit_cell_id": "VMIfKwM0Tp",
    "tags": []
   },
   "outputs": [],
   "source": [
    "ex = results.loc['schumann_kinderszenen','n04']"
   ]
  },
  {
   "cell_type": "code",
   "execution_count": null,
   "metadata": {
    "jukit_cell_id": "pms7SOjJQq",
    "tags": []
   },
   "outputs": [],
   "source": [
    "ex[[\"algorithm\", \"accuracy\", \"likelihood\", \"runTime\"]]"
   ]
  }
 ],
 "metadata": {
  "anaconda-cloud": {},
  "kernelspec": {
   "display_name": "Python 3 (ipykernel)",
   "language": "python",
   "name": "python3"
  },
  "language_info": {
   "codemirror_mode": {
    "name": "ipython",
    "version": 3
   },
   "file_extension": ".py",
   "mimetype": "text/x-python",
   "name": "python",
   "nbconvert_exporter": "python",
   "pygments_lexer": "ipython3",
   "version": "3.10.0"
  },
  "vscode": {
   "interpreter": {
    "hash": "b0fa6594d8f4cbf19f97940f81e996739fb7646882a419484c72d19e05852a7e"
   }
  }
 },
 "nbformat": 4,
 "nbformat_minor": 4
}
