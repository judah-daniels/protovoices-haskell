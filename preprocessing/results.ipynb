{
 "cells": [
  {
   "cell_type": "code",
   "execution_count": 1,
   "metadata": {},
   "outputs": [],
   "source": [
    "import matplotlib as plt\n",
    "import numpy as np\n",
    "import pandas as pd\n",
    "import json\n",
    "import subprocess\n",
    "from glob2 import glob"
   ]
  },
  {
   "cell_type": "code",
   "execution_count": 2,
   "metadata": {},
   "outputs": [],
   "source": [
    "dcml_chordtype_map = {\n",
    "    \"M\": \"major\",\n",
    "    \"m\": \"minor\",\n",
    "    \"Mm7\": \"dominant-7th\",\n",
    "    \"o\": \"diminished\",\n",
    "    \"o7\": \"full-diminished\",\n",
    "    \"mm7\": \"minor-7th\",\n",
    "    \"%7\": \"half-diminished\",\n",
    "    \"MM7\": \"major-7th\",\n",
    "    \"+\": \"augmented\",\n",
    "    \"mM7\": \"minor-major-7th\",\n",
    "    \"+7\": \"augmented-7th\",\n",
    "}"
   ]
  },
  {
   "attachments": {},
   "cell_type": "markdown",
   "metadata": {},
   "source": [
    "----"
   ]
  },
  {
   "cell_type": "code",
   "execution_count": 16,
   "metadata": {},
   "outputs": [],
   "source": [
    "slices = glob(\"inputs/slices/*.csv\")\n"
   ]
  },
  {
   "cell_type": "code",
   "execution_count": 22,
   "metadata": {},
   "outputs": [
    {
     "data": {
      "text/plain": [
       "'n15op132_03'"
      ]
     },
     "execution_count": 22,
     "metadata": {},
     "output_type": "execute_result"
    }
   ],
   "source": [
    "slices[0][14:-4]"
   ]
  },
  {
   "cell_type": "code",
   "execution_count": 26,
   "metadata": {},
   "outputs": [],
   "source": [
    "def runExp():\n",
    "    slices = glob(\"inputs/slices/*.csv\")\n",
    "    pieceNames = [x[14:-4] for x in slices] # THis is cursed, please remove it at once >:(\n",
    "    for piece in pieceNames:\n",
    "        jsonPath = \"outputs/\"+piece+\".json\"\n",
    "        cmd = [\"stack\",\"run\",\"fullParse\",\"--\",\"-n\",\"1\",piece, \"All\"] \n",
    "        print(\"Running command: \" + (\" \".join(cmd)))\n",
    "        print(\"Expecting results in \" + jsonPath)\n",
    "        #res = subprocess.run(cmd, cwd=\"..\")\n",
    "        res = subprocess.run(cmd, stdout=subprocess.PIPE, stderr=subprocess.PIPE, cwd=\"..\")\n",
    "\n",
    "        if res.returncode != 0:\n",
    "            print(\"Error in subprocess\")\n",
    "            print(res.stderr)\n",
    "            print(res.stdout)"
   ]
  },
  {
   "cell_type": "code",
   "execution_count": null,
   "metadata": {},
   "outputs": [],
   "source": [
    "#runExp()"
   ]
  },
  {
   "attachments": {},
   "cell_type": "markdown",
   "metadata": {},
   "source": [
    "## Loading the Dataset\n",
    "Loads all json files from the given folder"
   ]
  },
  {
   "cell_type": "code",
   "execution_count": null,
   "metadata": {},
   "outputs": [],
   "source": []
  },
  {
   "cell_type": "code",
   "execution_count": 7,
   "metadata": {},
   "outputs": [],
   "source": [
    "def load_dataset(path):\n",
    "    jsonFiles = glob(path + '/*.json') #Can be used absolute or relative paths \n",
    "    df = pd.DataFrame() \n",
    "    for jsonFile in jsonFiles:\n",
    "        # df = pd.read_json(jsonFile)\n",
    "        try:\n",
    "            with open(jsonFile, 'r') as f:\n",
    "                data = json.loads(f.read())\n",
    "        except:\n",
    "            print(\"Error with {}\".format(jsonFile))\n",
    "            continue\n",
    "\n",
    "        newdf = pd.json_normalize(data, record_path = ['results'], \n",
    "            meta = ['piece'])\n",
    "        df = pd.concat([df, newdf])\n",
    "    return df\n"
   ]
  },
  {
   "cell_type": "code",
   "execution_count": 8,
   "metadata": {},
   "outputs": [
    {
     "name": "stdout",
     "output_type": "stream",
     "text": [
      "Error with outputs/n07op59-1_04.json\n",
      "Error with outputs/n10op74_01.json\n",
      "Error with outputs/n13op130_01.json\n",
      "Error with outputs/n09op59-3_04.json\n",
      "Error with outputs/n07op59-1_02.json\n",
      "Error with outputs/n01op18-1_02.json\n",
      "Error with outputs/n13op130_06.json\n",
      "Error with outputs/n14op131_07.json\n",
      "Error with outputs/n12op127_03.json\n",
      "Error with outputs/n15op132_03.json\n",
      "Error with outputs/n14op131_04.json\n",
      "Error with outputs/n07op59-1_01.json\n",
      "Error with outputs/n11op95_02.json\n",
      "Error with outputs/n12op127_01.json\n",
      "Error with outputs/n06op18-6_03.json\n",
      "Error with outputs/n08op59-2_04.json\n",
      "Error with outputs/n03op18-3_03.json\n",
      "Error with outputs/shortt1.json\n"
     ]
    }
   ],
   "source": [
    "x = load_dataset(\"outputs\")"
   ]
  },
  {
   "cell_type": "code",
   "execution_count": 9,
   "metadata": {},
   "outputs": [
    {
     "data": {
      "text/html": [
       "<div>\n",
       "<style scoped>\n",
       "    .dataframe tbody tr th:only-of-type {\n",
       "        vertical-align: middle;\n",
       "    }\n",
       "\n",
       "    .dataframe tbody tr th {\n",
       "        vertical-align: top;\n",
       "    }\n",
       "\n",
       "    .dataframe thead th {\n",
       "        text-align: right;\n",
       "    }\n",
       "</style>\n",
       "<table border=\"1\" class=\"dataframe\">\n",
       "  <thead>\n",
       "    <tr style=\"text-align: right;\">\n",
       "      <th></th>\n",
       "      <th>accuracy</th>\n",
       "      <th>algorithm</th>\n",
       "      <th>chordLabels</th>\n",
       "      <th>likelihood</th>\n",
       "      <th>slices</th>\n",
       "      <th>piece</th>\n",
       "    </tr>\n",
       "  </thead>\n",
       "  <tbody>\n",
       "    <tr>\n",
       "      <th>0</th>\n",
       "      <td>0.645161</td>\n",
       "      <td>RandomParseSBS</td>\n",
       "      <td>[B♭M, FMm7, B♭M, B♭M, FMm7, B♭M, FMm7, B♭M, B♭...</td>\n",
       "      <td>-1.881735e+06</td>\n",
       "      <td>[[D5, F5, B♭4, B♭4, B♭4, B♭3, G5], [E♭5, C4, A...</td>\n",
       "      <td>n06op18-6_01</td>\n",
       "    </tr>\n",
       "    <tr>\n",
       "      <th>1</th>\n",
       "      <td>0.413978</td>\n",
       "      <td>RandomSampleSBS</td>\n",
       "      <td>[B♭M, FM, B♭M, FM, FM, B♭M, FMm7, B♭M, B♭M, GM...</td>\n",
       "      <td>-5.376495e+05</td>\n",
       "      <td>[[D5, D5, B♭3], [F3, F5, A4, A4], [D5, F5], [D...</td>\n",
       "      <td>n06op18-6_01</td>\n",
       "    </tr>\n",
       "    <tr>\n",
       "      <th>2</th>\n",
       "      <td>0.029570</td>\n",
       "      <td>RandomSample</td>\n",
       "      <td>[DMm7, DM, Cm, A♭M, A♭M, DMm7, A♭Mm7, CM, D♭Mm...</td>\n",
       "      <td>-1.075290e+06</td>\n",
       "      <td>[[D3, C0, A4], [D3, E6, G♭-10, A4], [C0, C0, D...</td>\n",
       "      <td>n06op18-6_01</td>\n",
       "    </tr>\n",
       "    <tr>\n",
       "      <th>0</th>\n",
       "      <td>0.518248</td>\n",
       "      <td>RandomParseSBS</td>\n",
       "      <td>[GM, DMm7, GM, DM, DM, DMm7, DM, GM, D♯o7, DMm...</td>\n",
       "      <td>-1.978066e+01</td>\n",
       "      <td>[[D6, D5, B5, G6, G4, G5], [D6, D5, C♯6, C6, A...</td>\n",
       "      <td>n02op18-2_03</td>\n",
       "    </tr>\n",
       "    <tr>\n",
       "      <th>1</th>\n",
       "      <td>0.306569</td>\n",
       "      <td>RandomSampleSBS</td>\n",
       "      <td>[GM, DMm7, AMm7, DM, DM, F♯o, DMm7, GM, CM, DM...</td>\n",
       "      <td>-1.846121e+01</td>\n",
       "      <td>[[D5, G5], [D6, D6, C♯6, C6, F♯5], [C♯6, G4, G...</td>\n",
       "      <td>n02op18-2_03</td>\n",
       "    </tr>\n",
       "    <tr>\n",
       "      <th>...</th>\n",
       "      <td>...</td>\n",
       "      <td>...</td>\n",
       "      <td>...</td>\n",
       "      <td>...</td>\n",
       "      <td>...</td>\n",
       "      <td>...</td>\n",
       "    </tr>\n",
       "    <tr>\n",
       "      <th>1</th>\n",
       "      <td>0.332237</td>\n",
       "      <td>RandomSampleSBS</td>\n",
       "      <td>[A♭M, Fm, D♭M, A♭M, D♭M, E♭Mm7, A♭M, A♭M, E♭M,...</td>\n",
       "      <td>-9.868590e+05</td>\n",
       "      <td>[[E♭4, C5, A♭5, A♭3, A♭3], [D4, C7, C7, A♭3], ...</td>\n",
       "      <td>n10op74_02</td>\n",
       "    </tr>\n",
       "    <tr>\n",
       "      <th>2</th>\n",
       "      <td>0.023026</td>\n",
       "      <td>RandomSample</td>\n",
       "      <td>[GM, DM, BM, F♭M, DM, FMm7, FMm7, B♭M, FM, E♭m...</td>\n",
       "      <td>-2.256926e+01</td>\n",
       "      <td>[[D3, D3, G♭-10, G1, G1], [D3, C♯11, D♭-8, A4]...</td>\n",
       "      <td>n10op74_02</td>\n",
       "    </tr>\n",
       "    <tr>\n",
       "      <th>0</th>\n",
       "      <td>0.000000</td>\n",
       "      <td>RandomParseSBS</td>\n",
       "      <td>[B♭m, G♭M, A♭M, D♭M, G♭M, E♭m, FM, B♭m, E♭m, A...</td>\n",
       "      <td>-4.129035e+07</td>\n",
       "      <td>[[D♭5, F5, B♭3], [D♭5, B♭4, G♭5], [E♭5, C5, B♭...</td>\n",
       "      <td>n13op130_02</td>\n",
       "    </tr>\n",
       "    <tr>\n",
       "      <th>1</th>\n",
       "      <td>0.000000</td>\n",
       "      <td>RandomSampleSBS</td>\n",
       "      <td>[B♭m, E♭m, E♭M, A♭M, G♭M, E♭M, FM, G♭M, E♭M, C...</td>\n",
       "      <td>-4.129034e+07</td>\n",
       "      <td>[[D♭5, D♭5, F5, B♭4, B♭4], [E♭3, B♭4, G♭5], [E...</td>\n",
       "      <td>n13op130_02</td>\n",
       "    </tr>\n",
       "    <tr>\n",
       "      <th>2</th>\n",
       "      <td>0.006452</td>\n",
       "      <td>RandomSample</td>\n",
       "      <td>[C♭M, A♭M, AM, DM, B♭Mm7, EMm7, E♭m, E♭M, G♭M,...</td>\n",
       "      <td>-3.677421e+07</td>\n",
       "      <td>[[G♭-10, C♭-11], [C0, E♭-5], [D3, E6, C♯11, A4...</td>\n",
       "      <td>n13op130_02</td>\n",
       "    </tr>\n",
       "  </tbody>\n",
       "</table>\n",
       "<p>144 rows × 6 columns</p>\n",
       "</div>"
      ],
      "text/plain": [
       "    accuracy        algorithm  \\\n",
       "0   0.645161   RandomParseSBS   \n",
       "1   0.413978  RandomSampleSBS   \n",
       "2   0.029570     RandomSample   \n",
       "0   0.518248   RandomParseSBS   \n",
       "1   0.306569  RandomSampleSBS   \n",
       "..       ...              ...   \n",
       "1   0.332237  RandomSampleSBS   \n",
       "2   0.023026     RandomSample   \n",
       "0   0.000000   RandomParseSBS   \n",
       "1   0.000000  RandomSampleSBS   \n",
       "2   0.006452     RandomSample   \n",
       "\n",
       "                                          chordLabels    likelihood  \\\n",
       "0   [B♭M, FMm7, B♭M, B♭M, FMm7, B♭M, FMm7, B♭M, B♭... -1.881735e+06   \n",
       "1   [B♭M, FM, B♭M, FM, FM, B♭M, FMm7, B♭M, B♭M, GM... -5.376495e+05   \n",
       "2   [DMm7, DM, Cm, A♭M, A♭M, DMm7, A♭Mm7, CM, D♭Mm... -1.075290e+06   \n",
       "0   [GM, DMm7, GM, DM, DM, DMm7, DM, GM, D♯o7, DMm... -1.978066e+01   \n",
       "1   [GM, DMm7, AMm7, DM, DM, F♯o, DMm7, GM, CM, DM... -1.846121e+01   \n",
       "..                                                ...           ...   \n",
       "1   [A♭M, Fm, D♭M, A♭M, D♭M, E♭Mm7, A♭M, A♭M, E♭M,... -9.868590e+05   \n",
       "2   [GM, DM, BM, F♭M, DM, FMm7, FMm7, B♭M, FM, E♭m... -2.256926e+01   \n",
       "0   [B♭m, G♭M, A♭M, D♭M, G♭M, E♭m, FM, B♭m, E♭m, A... -4.129035e+07   \n",
       "1   [B♭m, E♭m, E♭M, A♭M, G♭M, E♭M, FM, G♭M, E♭M, C... -4.129034e+07   \n",
       "2   [C♭M, A♭M, AM, DM, B♭Mm7, EMm7, E♭m, E♭M, G♭M,... -3.677421e+07   \n",
       "\n",
       "                                               slices         piece  \n",
       "0   [[D5, F5, B♭4, B♭4, B♭4, B♭3, G5], [E♭5, C4, A...  n06op18-6_01  \n",
       "1   [[D5, D5, B♭3], [F3, F5, A4, A4], [D5, F5], [D...  n06op18-6_01  \n",
       "2   [[D3, C0, A4], [D3, E6, G♭-10, A4], [C0, C0, D...  n06op18-6_01  \n",
       "0   [[D6, D5, B5, G6, G4, G5], [D6, D5, C♯6, C6, A...  n02op18-2_03  \n",
       "1   [[D5, G5], [D6, D6, C♯6, C6, F♯5], [C♯6, G4, G...  n02op18-2_03  \n",
       "..                                                ...           ...  \n",
       "1   [[E♭4, C5, A♭5, A♭3, A♭3], [D4, C7, C7, A♭3], ...    n10op74_02  \n",
       "2   [[D3, D3, G♭-10, G1, G1], [D3, C♯11, D♭-8, A4]...    n10op74_02  \n",
       "0   [[D♭5, F5, B♭3], [D♭5, B♭4, G♭5], [E♭5, C5, B♭...   n13op130_02  \n",
       "1   [[D♭5, D♭5, F5, B♭4, B♭4], [E♭3, B♭4, G♭5], [E...   n13op130_02  \n",
       "2   [[G♭-10, C♭-11], [C0, E♭-5], [D3, E6, C♯11, A4...   n13op130_02  \n",
       "\n",
       "[144 rows x 6 columns]"
      ]
     },
     "execution_count": 9,
     "metadata": {},
     "output_type": "execute_result"
    }
   ],
   "source": [
    "x"
   ]
  },
  {
   "cell_type": "code",
   "execution_count": 12,
   "metadata": {},
   "outputs": [
    {
     "ename": "TypeError",
     "evalue": "mean() missing 1 required positional argument: 'a'",
     "output_type": "error",
     "traceback": [
      "\u001b[0;31m---------------------------------------------------------------------------\u001b[0m",
      "\u001b[0;31mTypeError\u001b[0m                                 Traceback (most recent call last)",
      "Cell \u001b[0;32mIn[12], line 1\u001b[0m\n\u001b[0;32m----> 1\u001b[0m x\u001b[39m.\u001b[39mgroupby([\u001b[39m\"\u001b[39m\u001b[39mpiece\u001b[39m\u001b[39m\"\u001b[39m, \u001b[39m\"\u001b[39m\u001b[39malgorithm\u001b[39m\u001b[39m\"\u001b[39m])\u001b[39m.\u001b[39magg([np\u001b[39m.\u001b[39;49mmean(), np\u001b[39m.\u001b[39mstd()])\n",
      "File \u001b[0;32m<__array_function__ internals>:198\u001b[0m, in \u001b[0;36mmean\u001b[0;34m(*args, **kwargs)\u001b[0m\n",
      "\u001b[0;31mTypeError\u001b[0m: mean() missing 1 required positional argument: 'a'"
     ]
    }
   ],
   "source": [
    "x.groupby([\"piece\", \"algorithm\"]).agg([np.mean, np.std])"
   ]
  },
  {
   "cell_type": "code",
   "execution_count": null,
   "metadata": {},
   "outputs": [],
   "source": []
  }
 ],
 "metadata": {
  "kernelspec": {
   "display_name": "Python 3",
   "language": "python",
   "name": "python3"
  },
  "language_info": {
   "codemirror_mode": {
    "name": "ipython",
    "version": 3
   },
   "file_extension": ".py",
   "mimetype": "text/x-python",
   "name": "python",
   "nbconvert_exporter": "python",
   "pygments_lexer": "ipython3",
   "version": "3.11.2"
  },
  "orig_nbformat": 4,
  "vscode": {
   "interpreter": {
    "hash": "b0fa6594d8f4cbf19f97940f81e996739fb7646882a419484c72d19e05852a7e"
   }
  }
 },
 "nbformat": 4,
 "nbformat_minor": 2
}
