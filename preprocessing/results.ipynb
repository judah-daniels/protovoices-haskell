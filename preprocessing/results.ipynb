{
  "cells": [
    {
      "attachments": {},
      "cell_type": "markdown",
      "metadata": {},
      "source": [
        "# Imports"
      ]
    },
    {
      "cell_type": "code",
      "execution_count": 173,
      "metadata": {
        "jukit_cell_id": "R0uMev4MXN"
      },
      "outputs": [],
      "source": [
        "import matplotlib\n",
        "import matplotlib.pyplot as plt\n",
        "import numpy as np\n",
        "import pandas as pd\n",
        "import json\n",
        "import subprocess\n",
        "import seaborn as sns\n",
        "import seaborn.objects as so\n",
        "from glob2 import glob"
      ]
    },
    {
      "cell_type": "code",
      "execution_count": 174,
      "metadata": {
        "jukit_cell_id": "c1MNKqC4U3"
      },
      "outputs": [],
      "source": [
        "import mir_eval as me"
      ]
    },
    {
      "cell_type": "code",
      "execution_count": 175,
      "metadata": {
        "jukit_cell_id": "J21yZcGJ8K"
      },
      "outputs": [],
      "source": [
        "dcml_chordtype_map = {\n",
        "    \"M\": \"major\",\n",
        "    \"m\": \"minor\",\n",
        "    \"Mm7\": \"dominant-7th\",\n",
        "    \"o\": \"diminished\",\n",
        "    \"o7\": \"full-diminished\",\n",
        "    \"mm7\": \"minor-7th\",\n",
        "    \"%7\": \"half-diminished\",\n",
        "    \"MM7\": \"major-7th\",\n",
        "    \"+\": \"augmented\",\n",
        "    \"mM7\": \"minor-major-7th\",\n",
        "    \"+7\": \"augmented-7th\",\n",
        "}"
      ]
    },
    {
      "cell_type": "markdown",
      "metadata": {
        "jukit_cell_id": "eOMtSxwK0r"
      },
      "source": [
        "----"
      ]
    },
    {
      "cell_type": "markdown",
      "metadata": {
        "jukit_cell_id": "SwmnxgHh9U"
      },
      "source": [
        "## Loading the Results\n",
        "Loads all json files from the given folde"
      ]
    },
    {
      "cell_type": "code",
      "execution_count": 176,
      "metadata": {
        "jukit_cell_id": "nhz8HdcFcn"
      },
      "outputs": [],
      "source": [
        "cols = ['corpus', 'piece', 'algorithm', 'accuracy', 'likelihood', 'chordLabels', 'slices','runTime']"
      ]
    },
    {
      "cell_type": "code",
      "execution_count": 177,
      "metadata": {
        "jukit_cell_id": "ki1WK68NM4"
      },
      "outputs": [],
      "source": [
        "def load_dataset(path):\n",
        "    jsonFiles = glob(path + '/*/*.json') #Can be used absolute or relative paths \n",
        "    df = pd.DataFrame(columns=cols) \n",
        "    lbls = pd.DataFrame(columns=[\"piece\", \"corpus\", \"labels\"])\n",
        "    for jsonFile in jsonFiles:\n",
        "        # df = pd.read_json(jsonFile)\n",
        "        try:\n",
        "            with open(jsonFile, 'r') as f:\n",
        "                data = json.loads(f.read())\n",
        "        except:\n",
        "            print(\"Error with {}\".format(jsonFile))\n",
        "            continue\n",
        "\n",
        "        #lbls.append(data['groundTruth'])\n",
        "        newLbls = pd.DataFrame([{\"corpus\":data['corpus'], \"piece\":data[\"piece\"], \"labels\": data[\"groundTruth\"]}])\n",
        "        lbls = pd.concat([lbls, newLbls])\n",
        "\n",
        "        newdf = pd.json_normalize(data, record_path = ['results'], \n",
        "            meta = ['corpus', 'piece'])\n",
        "        \n",
        "        #newdf['groundTruth']= data['groundTruth']\n",
        "        df = pd.concat([df, newdf])\n",
        "    return (df.set_index([\"corpus\", \"piece\"]),lbls.set_index([\"corpus\", \"piece\"]))"
      ]
    },
    {
      "cell_type": "code",
      "execution_count": 178,
      "metadata": {
        "jukit_cell_id": "Zlt9gmLSzL"
      },
      "outputs": [
        {
          "name": "stdout",
          "output_type": "stream",
          "text": [
            "Error with outputs/grieg_lyric_pieces/op38n05.json\n",
            "Error with outputs/grieg_lyric_pieces/op47n01.json\n",
            "Error with outputs/grieg_lyric_pieces/op47n03.json\n",
            "Error with outputs/grieg_lyric_pieces/op71n03.json\n",
            "Error with outputs/grieg_lyric_pieces/op68n02.json\n",
            "Error with outputs/tests/shortt1.json\n",
            "Error with outputs/schumann_kinderszenen/n01.json\n",
            "Error with outputs/schumann_kinderszenen/n03.json\n"
          ]
        }
      ],
      "source": [
        "(results,groundTruth) = load_dataset(\"outputs\")"
      ]
    },
    {
      "cell_type": "markdown",
      "metadata": {
        "jukit_cell_id": "wTl7iVzSrg"
      },
      "source": [
        "Print each parse piece"
      ]
    },
    {
      "cell_type": "code",
      "execution_count": 179,
      "metadata": {
        "jukit_cell_id": "w3qsmdj3Sr"
      },
      "outputs": [
        {
          "name": "stdout",
          "output_type": "stream",
          "text": [
            "n02op18-2_03 n04 n05 n05op18-5_02 n05op18-5_04 n09 n13 n13op130_04 n14op131_01 n14op131_03 n14op131_06 n16op135_04 op12n01 op12n02 op12n08 op38n02 op38n07 op43n01 op43n04 op47n04 op47n07 op54n02 op54n03 op54n06 op57n03 op71n07 shortest\n"
          ]
        }
      ],
      "source": [
        "print(\" \".join(list(results.index.levels[1].unique())))"
      ]
    },
    {
      "cell_type": "code",
      "execution_count": 180,
      "metadata": {
        "jukit_cell_id": "ikUSCIh1xQ"
      },
      "outputs": [
        {
          "data": {
            "text/html": [
              "<div>\n",
              "<style scoped>\n",
              "    .dataframe tbody tr th:only-of-type {\n",
              "        vertical-align: middle;\n",
              "    }\n",
              "\n",
              "    .dataframe tbody tr th {\n",
              "        vertical-align: top;\n",
              "    }\n",
              "\n",
              "    .dataframe thead th {\n",
              "        text-align: right;\n",
              "    }\n",
              "</style>\n",
              "<table border=\"1\" class=\"dataframe\">\n",
              "  <thead>\n",
              "    <tr style=\"text-align: right;\">\n",
              "      <th></th>\n",
              "      <th></th>\n",
              "      <th>algorithm</th>\n",
              "      <th>accuracy</th>\n",
              "      <th>likelihood</th>\n",
              "      <th>runTime</th>\n",
              "    </tr>\n",
              "    <tr>\n",
              "      <th>corpus</th>\n",
              "      <th>piece</th>\n",
              "      <th></th>\n",
              "      <th></th>\n",
              "      <th></th>\n",
              "      <th></th>\n",
              "    </tr>\n",
              "  </thead>\n",
              "  <tbody>\n",
              "    <tr>\n",
              "      <th rowspan=\"5\" valign=\"top\">ABC</th>\n",
              "      <th>n02op18-2_03</th>\n",
              "      <td>Heuristic1</td>\n",
              "      <td>NaN</td>\n",
              "      <td>NaN</td>\n",
              "      <td>NaN</td>\n",
              "    </tr>\n",
              "    <tr>\n",
              "      <th>n02op18-2_03</th>\n",
              "      <td>Heuristic1</td>\n",
              "      <td>NaN</td>\n",
              "      <td>NaN</td>\n",
              "      <td>NaN</td>\n",
              "    </tr>\n",
              "    <tr>\n",
              "      <th>n14op131_01</th>\n",
              "      <td>RandomParse</td>\n",
              "      <td>0.257485</td>\n",
              "      <td>-1.646709e+07</td>\n",
              "      <td>0.352935</td>\n",
              "    </tr>\n",
              "    <tr>\n",
              "      <th>n14op131_01</th>\n",
              "      <td>RandomParse</td>\n",
              "      <td>0.257485</td>\n",
              "      <td>-1.646709e+07</td>\n",
              "      <td>0.138174</td>\n",
              "    </tr>\n",
              "    <tr>\n",
              "      <th>n14op131_01</th>\n",
              "      <td>RandomParse</td>\n",
              "      <td>0.257485</td>\n",
              "      <td>-1.646709e+07</td>\n",
              "      <td>0.116186</td>\n",
              "    </tr>\n",
              "    <tr>\n",
              "      <th>...</th>\n",
              "      <th>...</th>\n",
              "      <td>...</td>\n",
              "      <td>...</td>\n",
              "      <td>...</td>\n",
              "      <td>...</td>\n",
              "    </tr>\n",
              "    <tr>\n",
              "      <th rowspan=\"5\" valign=\"top\">schumann_kinderszenen</th>\n",
              "      <th>n04</th>\n",
              "      <td>RandomSample</td>\n",
              "      <td>0.000000</td>\n",
              "      <td>-9.433983e+06</td>\n",
              "      <td>0.000327</td>\n",
              "    </tr>\n",
              "    <tr>\n",
              "      <th>n04</th>\n",
              "      <td>RandomSample</td>\n",
              "      <td>0.018868</td>\n",
              "      <td>-1.320757e+07</td>\n",
              "      <td>0.000304</td>\n",
              "    </tr>\n",
              "    <tr>\n",
              "      <th>n04</th>\n",
              "      <td>RandomSample</td>\n",
              "      <td>0.018868</td>\n",
              "      <td>-1.320757e+07</td>\n",
              "      <td>0.000303</td>\n",
              "    </tr>\n",
              "    <tr>\n",
              "      <th>n04</th>\n",
              "      <td>Heuristic1</td>\n",
              "      <td>0.660377</td>\n",
              "      <td>-1.494602e+01</td>\n",
              "      <td>0.413173</td>\n",
              "    </tr>\n",
              "    <tr>\n",
              "      <th>n04</th>\n",
              "      <td>HeuristicSBS1</td>\n",
              "      <td>0.622642</td>\n",
              "      <td>-1.460816e+01</td>\n",
              "      <td>0.414403</td>\n",
              "    </tr>\n",
              "  </tbody>\n",
              "</table>\n",
              "<p>574 rows × 4 columns</p>\n",
              "</div>"
            ],
            "text/plain": [
              "                                        algorithm  accuracy    likelihood  \\\n",
              "corpus                piece                                                 \n",
              "ABC                   n02op18-2_03     Heuristic1       NaN           NaN   \n",
              "                      n02op18-2_03     Heuristic1       NaN           NaN   \n",
              "                      n14op131_01     RandomParse  0.257485 -1.646709e+07   \n",
              "                      n14op131_01     RandomParse  0.257485 -1.646709e+07   \n",
              "                      n14op131_01     RandomParse  0.257485 -1.646709e+07   \n",
              "...                                           ...       ...           ...   \n",
              "schumann_kinderszenen n04            RandomSample  0.000000 -9.433983e+06   \n",
              "                      n04            RandomSample  0.018868 -1.320757e+07   \n",
              "                      n04            RandomSample  0.018868 -1.320757e+07   \n",
              "                      n04              Heuristic1  0.660377 -1.494602e+01   \n",
              "                      n04           HeuristicSBS1  0.622642 -1.460816e+01   \n",
              "\n",
              "                                     runTime  \n",
              "corpus                piece                   \n",
              "ABC                   n02op18-2_03       NaN  \n",
              "                      n02op18-2_03       NaN  \n",
              "                      n14op131_01   0.352935  \n",
              "                      n14op131_01   0.138174  \n",
              "                      n14op131_01   0.116186  \n",
              "...                                      ...  \n",
              "schumann_kinderszenen n04           0.000327  \n",
              "                      n04           0.000304  \n",
              "                      n04           0.000303  \n",
              "                      n04           0.413173  \n",
              "                      n04           0.414403  \n",
              "\n",
              "[574 rows x 4 columns]"
            ]
          },
          "execution_count": 180,
          "metadata": {},
          "output_type": "execute_result"
        }
      ],
      "source": [
        "results.drop([\"chordLabels\", \"slices\"],axis=1)"
      ]
    },
    {
      "cell_type": "code",
      "execution_count": 181,
      "metadata": {
        "jukit_cell_id": "wRjsiHake7"
      },
      "outputs": [
        {
          "data": {
            "text/html": [
              "<div>\n",
              "<style scoped>\n",
              "    .dataframe tbody tr th:only-of-type {\n",
              "        vertical-align: middle;\n",
              "    }\n",
              "\n",
              "    .dataframe tbody tr th {\n",
              "        vertical-align: top;\n",
              "    }\n",
              "\n",
              "    .dataframe thead tr th {\n",
              "        text-align: left;\n",
              "    }\n",
              "\n",
              "    .dataframe thead tr:last-of-type th {\n",
              "        text-align: right;\n",
              "    }\n",
              "</style>\n",
              "<table border=\"1\" class=\"dataframe\">\n",
              "  <thead>\n",
              "    <tr>\n",
              "      <th></th>\n",
              "      <th colspan=\"2\" halign=\"left\">accuracy</th>\n",
              "      <th colspan=\"2\" halign=\"left\">likelihood</th>\n",
              "      <th colspan=\"2\" halign=\"left\">runTime</th>\n",
              "    </tr>\n",
              "    <tr>\n",
              "      <th></th>\n",
              "      <th>mean</th>\n",
              "      <th>std</th>\n",
              "      <th>mean</th>\n",
              "      <th>std</th>\n",
              "      <th>mean</th>\n",
              "      <th>std</th>\n",
              "    </tr>\n",
              "    <tr>\n",
              "      <th>algorithm</th>\n",
              "      <th></th>\n",
              "      <th></th>\n",
              "      <th></th>\n",
              "      <th></th>\n",
              "      <th></th>\n",
              "      <th></th>\n",
              "    </tr>\n",
              "  </thead>\n",
              "  <tbody>\n",
              "    <tr>\n",
              "      <th>Heuristic1</th>\n",
              "      <td>0.462943</td>\n",
              "      <td>0.177633</td>\n",
              "      <td>-3.491688e+06</td>\n",
              "      <td>6.711504e+06</td>\n",
              "      <td>36.053327</td>\n",
              "      <td>74.545741</td>\n",
              "    </tr>\n",
              "    <tr>\n",
              "      <th>HeuristicSBS1</th>\n",
              "      <td>0.477768</td>\n",
              "      <td>0.163672</td>\n",
              "      <td>-2.890704e+06</td>\n",
              "      <td>5.382276e+06</td>\n",
              "      <td>10.532710</td>\n",
              "      <td>16.276379</td>\n",
              "    </tr>\n",
              "    <tr>\n",
              "      <th>RandomParse</th>\n",
              "      <td>0.476304</td>\n",
              "      <td>0.165153</td>\n",
              "      <td>-3.540946e+06</td>\n",
              "      <td>6.047209e+06</td>\n",
              "      <td>0.842185</td>\n",
              "      <td>1.378534</td>\n",
              "    </tr>\n",
              "    <tr>\n",
              "      <th>RandomParseSBS</th>\n",
              "      <td>0.467658</td>\n",
              "      <td>0.160500</td>\n",
              "      <td>-3.403116e+06</td>\n",
              "      <td>5.791661e+06</td>\n",
              "      <td>0.051656</td>\n",
              "      <td>0.072303</td>\n",
              "    </tr>\n",
              "    <tr>\n",
              "      <th>RandomSample</th>\n",
              "      <td>0.014189</td>\n",
              "      <td>0.016795</td>\n",
              "      <td>-1.698797e+07</td>\n",
              "      <td>1.589520e+07</td>\n",
              "      <td>0.000202</td>\n",
              "      <td>0.000209</td>\n",
              "    </tr>\n",
              "    <tr>\n",
              "      <th>RandomSampleSBS</th>\n",
              "      <td>0.303060</td>\n",
              "      <td>0.125936</td>\n",
              "      <td>-2.177877e+06</td>\n",
              "      <td>3.851422e+06</td>\n",
              "      <td>0.000334</td>\n",
              "      <td>0.000407</td>\n",
              "    </tr>\n",
              "  </tbody>\n",
              "</table>\n",
              "</div>"
            ],
            "text/plain": [
              "                 accuracy              likelihood                  runTime  \\\n",
              "                     mean       std          mean           std       mean   \n",
              "algorithm                                                                    \n",
              "Heuristic1       0.462943  0.177633 -3.491688e+06  6.711504e+06  36.053327   \n",
              "HeuristicSBS1    0.477768  0.163672 -2.890704e+06  5.382276e+06  10.532710   \n",
              "RandomParse      0.476304  0.165153 -3.540946e+06  6.047209e+06   0.842185   \n",
              "RandomParseSBS   0.467658  0.160500 -3.403116e+06  5.791661e+06   0.051656   \n",
              "RandomSample     0.014189  0.016795 -1.698797e+07  1.589520e+07   0.000202   \n",
              "RandomSampleSBS  0.303060  0.125936 -2.177877e+06  3.851422e+06   0.000334   \n",
              "\n",
              "                            \n",
              "                       std  \n",
              "algorithm                   \n",
              "Heuristic1       74.545741  \n",
              "HeuristicSBS1    16.276379  \n",
              "RandomParse       1.378534  \n",
              "RandomParseSBS    0.072303  \n",
              "RandomSample      0.000209  \n",
              "RandomSampleSBS   0.000407  "
            ]
          },
          "execution_count": 181,
          "metadata": {},
          "output_type": "execute_result"
        }
      ],
      "source": [
        "results.drop([\"chordLabels\", \"slices\"], axis=1).groupby([\"algorithm\"]).agg([np.mean, np.std])"
      ]
    },
    {
      "cell_type": "code",
      "execution_count": 182,
      "metadata": {
        "jukit_cell_id": "tPrPjJmMrh"
      },
      "outputs": [],
      "source": [
        "agm = results.drop([\"chordLabels\", \"slices\"], axis=1).groupby([\"corpus\", \"algorithm\"]).agg([np.mean, np.std])"
      ]
    },
    {
      "cell_type": "code",
      "execution_count": 183,
      "metadata": {},
      "outputs": [],
      "source": [
        "#results.drop([\"chordLabels\", \"slices\"], axis=1).groupby([\"corpus\", \"algorithm\"]).errors()"
      ]
    },
    {
      "cell_type": "code",
      "execution_count": 184,
      "metadata": {},
      "outputs": [],
      "source": [
        "agm = results.drop([\"chordLabels\", \"slices\",\"runTime\",\"likelihood\"], axis=1).groupby([\"corpus\", \"algorithm\"]).agg([np.std])"
      ]
    },
    {
      "cell_type": "code",
      "execution_count": 185,
      "metadata": {},
      "outputs": [],
      "source": [
        "errs = agm.reset_index()[\"accuracy\"][\"std\"].fillna(0)"
      ]
    },
    {
      "cell_type": "code",
      "execution_count": 186,
      "metadata": {},
      "outputs": [],
      "source": [
        "a = results.drop([\"chordLabels\", \"slices\"], axis=1)"
      ]
    },
    {
      "cell_type": "code",
      "execution_count": 188,
      "metadata": {},
      "outputs": [],
      "source": [
        "std_pivot = pd.pivot_table(a, \n",
        "                          values=\"accuracy\", \n",
        "                          index=\"corpus\", \n",
        "                          columns=\"algorithm\", \n",
        "                          aggfunc=np.std)"
      ]
    },
    {
      "cell_type": "code",
      "execution_count": 193,
      "metadata": {},
      "outputs": [],
      "source": [
        "acc_pivot = pd.pivot_table(a, \n",
        "                          values=\"accuracy\", \n",
        "                          index=\"corpus\", \n",
        "                          columns=\"algorithm\", \n",
        "                          aggfunc=np.mean)"
      ]
    },
    {
      "attachments": {},
      "cell_type": "markdown",
      "metadata": {},
      "source": [
        "## Plot Accuracy Chart"
      ]
    },
    {
      "cell_type": "code",
      "execution_count": 239,
      "metadata": {},
      "outputs": [
        {
          "data": {
            "text/plain": [
              "<matplotlib.legend.Legend at 0x2b1cd59d0>"
            ]
          },
          "execution_count": 239,
          "metadata": {},
          "output_type": "execute_result"
        },
        {
          "data": {
            "image/png": "[encoded data removed]",
            "text/plain": [
              "<Figure size 600x200 with 1 Axes>"
            ]
          },
          "metadata": {},
          "output_type": "display_data"
        }
      ],
      "source": [
        "sns.set()  # use Seaborn styles\n",
        "acc_pivot.plot.bar(yerr=std_pivot, figsize=(6,2), fontsize=8, rot=0, ylim=(0,1), width=0.6, legend=\"loc:lower center\")\n",
        "plt.ylabel('Accuracy')\n",
        "plt.legend(loc='upper center', title=\"Algorithm\", bbox_to_anchor=(0.5, -0.4),\n",
        "          fancybox=True, ncol=2, prop={'size': 8})\n",
        "          "
      ]
    },
    {
      "cell_type": "code",
      "execution_count": null,
      "metadata": {},
      "outputs": [],
      "source": [
        "data = [[30, 25, 50, 20],\n",
        "[40, 23, 51, 17],\n",
        "[35, 22, 45, 19]]\n",
        "X = np.arange(4)\n",
        "fig = plt.figure()\n",
        "ax = fig.add_axes([0,0,1,1])\n",
        "ax.bar(X + 0.00, data[0], color = 'b', width = 0.25)\n",
        "ax.bar(X + 0.25, data[1], color = 'g', width = 0.25)\n",
        "ax.bar(X + 0.50, data[2], color = 'r', width = 0.25)"
      ]
    },
    {
      "cell_type": "markdown",
      "metadata": {
        "jukit_cell_id": "iHRFncNnP0"
      },
      "source": [
        "# Close Error Analysis"
      ]
    },
    {
      "cell_type": "markdown",
      "metadata": {
        "jukit_cell_id": "GaYVd5PvVx"
      },
      "source": [
        "Attributes: chord type, root note, etc"
      ]
    },
    {
      "cell_type": "markdown",
      "metadata": {
        "jukit_cell_id": "Tul5KdAHKW"
      },
      "source": [
        "#### Zoom in on ABC: n02op18-2_03"
      ]
    },
    {
      "cell_type": "code",
      "execution_count": null,
      "metadata": {
        "jukit_cell_id": "qMafEUWNMJ"
      },
      "outputs": [
        {
          "data": {
            "text/plain": [
              "labels    [GM, DMm7, GM, DM, DM, DMm7, DMm7, GM, Am, DMm...\n",
              "Name: (ABC, n02op18-2_03), dtype: object"
            ]
          },
          "execution_count": 11,
          "metadata": {},
          "output_type": "execute_result"
        }
      ],
      "source": [
        "groundTruth.loc['ABC','n02op18-2_03']"
      ]
    },
    {
      "cell_type": "code",
      "execution_count": null,
      "metadata": {
        "jukit_cell_id": "6np0Y2BmMq"
      },
      "outputs": [
        {
          "data": {
            "text/html": [
              "<div>\n",
              "<style scoped>\n",
              "    .dataframe tbody tr th:only-of-type {\n",
              "        vertical-align: middle;\n",
              "    }\n",
              "\n",
              "    .dataframe tbody tr th {\n",
              "        vertical-align: top;\n",
              "    }\n",
              "\n",
              "    .dataframe thead th {\n",
              "        text-align: right;\n",
              "    }\n",
              "</style>\n",
              "<table border=\"1\" class=\"dataframe\">\n",
              "  <thead>\n",
              "    <tr style=\"text-align: right;\">\n",
              "      <th></th>\n",
              "      <th></th>\n",
              "      <th>algorithm</th>\n",
              "      <th>accuracy</th>\n",
              "      <th>likelihood</th>\n",
              "      <th>chordLabels</th>\n",
              "      <th>slices</th>\n",
              "      <th>runTime</th>\n",
              "    </tr>\n",
              "    <tr>\n",
              "      <th>corpus</th>\n",
              "      <th>piece</th>\n",
              "      <th></th>\n",
              "      <th></th>\n",
              "      <th></th>\n",
              "      <th></th>\n",
              "      <th></th>\n",
              "      <th></th>\n",
              "    </tr>\n",
              "  </thead>\n",
              "  <tbody>\n",
              "    <tr>\n",
              "      <th rowspan=\"5\" valign=\"top\">ABC</th>\n",
              "      <th>n02op18-2_03</th>\n",
              "      <td>Heuristic1</td>\n",
              "      <td>NaN</td>\n",
              "      <td>NaN</td>\n",
              "      <td>None</td>\n",
              "      <td>None</td>\n",
              "      <td>NaN</td>\n",
              "    </tr>\n",
              "    <tr>\n",
              "      <th>n02op18-2_03</th>\n",
              "      <td>Heuristic1</td>\n",
              "      <td>NaN</td>\n",
              "      <td>NaN</td>\n",
              "      <td>None</td>\n",
              "      <td>None</td>\n",
              "      <td>NaN</td>\n",
              "    </tr>\n",
              "    <tr>\n",
              "      <th>n14op131_01</th>\n",
              "      <td>RandomParse</td>\n",
              "      <td>0.257485</td>\n",
              "      <td>-1.646709e+07</td>\n",
              "      <td>[G♯M, B♯M, C♯M, AM, G♯M, DM, G♯Mm7, F♯Mm7, C♯M...</td>\n",
              "      <td>[[G♯5], [B♯6], [C♯6], [A5], [G♯5], [A5, F♯5], ...</td>\n",
              "      <td>0.352935</td>\n",
              "    </tr>\n",
              "    <tr>\n",
              "      <th>n14op131_01</th>\n",
              "      <td>RandomParse</td>\n",
              "      <td>0.257485</td>\n",
              "      <td>-1.646709e+07</td>\n",
              "      <td>[G♯M, B♯M, C♯M, AM, G♯M, DM, G♯Mm7, F♯Mm7, C♯M...</td>\n",
              "      <td>[[G♯5], [B♯6], [C♯6], [A5], [G♯5], [A5, F♯5], ...</td>\n",
              "      <td>0.138174</td>\n",
              "    </tr>\n",
              "    <tr>\n",
              "      <th>n14op131_01</th>\n",
              "      <td>RandomParse</td>\n",
              "      <td>0.257485</td>\n",
              "      <td>-1.646709e+07</td>\n",
              "      <td>[G♯M, B♯M, C♯M, AM, G♯M, DM, G♯Mm7, F♯Mm7, C♯M...</td>\n",
              "      <td>[[G♯5], [B♯6], [C♯6], [A5], [G♯5], [A5, F♯5], ...</td>\n",
              "      <td>0.116186</td>\n",
              "    </tr>\n",
              "    <tr>\n",
              "      <th>...</th>\n",
              "      <th>...</th>\n",
              "      <td>...</td>\n",
              "      <td>...</td>\n",
              "      <td>...</td>\n",
              "      <td>...</td>\n",
              "      <td>...</td>\n",
              "      <td>...</td>\n",
              "    </tr>\n",
              "    <tr>\n",
              "      <th rowspan=\"5\" valign=\"top\">schumann_kinderszenen</th>\n",
              "      <th>n04</th>\n",
              "      <td>RandomSample</td>\n",
              "      <td>0.000000</td>\n",
              "      <td>-9.433983e+06</td>\n",
              "      <td>[Bm, B♭M, C♯%7, B♭M, B♭M, C♯%7, A♭mm7, DM, CMm...</td>\n",
              "      <td>[[D3, B7, B7, C♯11, F♯9], [C♭-11, B♭-4, A4], [...</td>\n",
              "      <td>0.000327</td>\n",
              "    </tr>\n",
              "    <tr>\n",
              "      <th>n04</th>\n",
              "      <td>RandomSample</td>\n",
              "      <td>0.018868</td>\n",
              "      <td>-1.320757e+07</td>\n",
              "      <td>[Dm, CM, DM, C♯o7, CMm7, B♭M, DM, C♭M, GMm7, D...</td>\n",
              "      <td>[[D3, D3, C0, F-2], [A♭-7, E6, B7, C0, G1], [D...</td>\n",
              "      <td>0.000304</td>\n",
              "    </tr>\n",
              "    <tr>\n",
              "      <th>n04</th>\n",
              "      <td>RandomSample</td>\n",
              "      <td>0.018868</td>\n",
              "      <td>-1.320757e+07</td>\n",
              "      <td>[E♭m, B♭M, CM, BM, E♭M, FMm7, D♭Mm7, C♭M, CM, ...</td>\n",
              "      <td>[[G♭-10, B♭-4, E♭-5], [G♭-10, F♯9, F-2, F-2, F...</td>\n",
              "      <td>0.000303</td>\n",
              "    </tr>\n",
              "    <tr>\n",
              "      <th>n04</th>\n",
              "      <td>Heuristic1</td>\n",
              "      <td>0.660377</td>\n",
              "      <td>-1.494602e+01</td>\n",
              "      <td>[AMm7, C♯o7, AMm7, DM, G♯o7, AM, AMm7, C♯o7, A...</td>\n",
              "      <td>[[E5, B5, A4, A4, G6, G5], [C♯5, C♯5, B♭5, F♯6...</td>\n",
              "      <td>0.413173</td>\n",
              "    </tr>\n",
              "    <tr>\n",
              "      <th>n04</th>\n",
              "      <td>HeuristicSBS1</td>\n",
              "      <td>0.622642</td>\n",
              "      <td>-1.460816e+01</td>\n",
              "      <td>[AMm7, C♯o7, AMm7, DM, G♯o7, AM, AMm7, C♯o7, A...</td>\n",
              "      <td>[[E5, B5, A4, A4, G6, G5], [C♯5, C♯5, B♭5, F♯6...</td>\n",
              "      <td>0.414403</td>\n",
              "    </tr>\n",
              "  </tbody>\n",
              "</table>\n",
              "<p>574 rows × 6 columns</p>\n",
              "</div>"
            ],
            "text/plain": [
              "                                        algorithm  accuracy    likelihood  \\\n",
              "corpus                piece                                                 \n",
              "ABC                   n02op18-2_03     Heuristic1       NaN           NaN   \n",
              "                      n02op18-2_03     Heuristic1       NaN           NaN   \n",
              "                      n14op131_01     RandomParse  0.257485 -1.646709e+07   \n",
              "                      n14op131_01     RandomParse  0.257485 -1.646709e+07   \n",
              "                      n14op131_01     RandomParse  0.257485 -1.646709e+07   \n",
              "...                                           ...       ...           ...   \n",
              "schumann_kinderszenen n04            RandomSample  0.000000 -9.433983e+06   \n",
              "                      n04            RandomSample  0.018868 -1.320757e+07   \n",
              "                      n04            RandomSample  0.018868 -1.320757e+07   \n",
              "                      n04              Heuristic1  0.660377 -1.494602e+01   \n",
              "                      n04           HeuristicSBS1  0.622642 -1.460816e+01   \n",
              "\n",
              "                                                                          chordLabels  \\\n",
              "corpus                piece                                                             \n",
              "ABC                   n02op18-2_03                                               None   \n",
              "                      n02op18-2_03                                               None   \n",
              "                      n14op131_01   [G♯M, B♯M, C♯M, AM, G♯M, DM, G♯Mm7, F♯Mm7, C♯M...   \n",
              "                      n14op131_01   [G♯M, B♯M, C♯M, AM, G♯M, DM, G♯Mm7, F♯Mm7, C♯M...   \n",
              "                      n14op131_01   [G♯M, B♯M, C♯M, AM, G♯M, DM, G♯Mm7, F♯Mm7, C♯M...   \n",
              "...                                                                               ...   \n",
              "schumann_kinderszenen n04           [Bm, B♭M, C♯%7, B♭M, B♭M, C♯%7, A♭mm7, DM, CMm...   \n",
              "                      n04           [Dm, CM, DM, C♯o7, CMm7, B♭M, DM, C♭M, GMm7, D...   \n",
              "                      n04           [E♭m, B♭M, CM, BM, E♭M, FMm7, D♭Mm7, C♭M, CM, ...   \n",
              "                      n04           [AMm7, C♯o7, AMm7, DM, G♯o7, AM, AMm7, C♯o7, A...   \n",
              "                      n04           [AMm7, C♯o7, AMm7, DM, G♯o7, AM, AMm7, C♯o7, A...   \n",
              "\n",
              "                                                                               slices  \\\n",
              "corpus                piece                                                             \n",
              "ABC                   n02op18-2_03                                               None   \n",
              "                      n02op18-2_03                                               None   \n",
              "                      n14op131_01   [[G♯5], [B♯6], [C♯6], [A5], [G♯5], [A5, F♯5], ...   \n",
              "                      n14op131_01   [[G♯5], [B♯6], [C♯6], [A5], [G♯5], [A5, F♯5], ...   \n",
              "                      n14op131_01   [[G♯5], [B♯6], [C♯6], [A5], [G♯5], [A5, F♯5], ...   \n",
              "...                                                                               ...   \n",
              "schumann_kinderszenen n04           [[D3, B7, B7, C♯11, F♯9], [C♭-11, B♭-4, A4], [...   \n",
              "                      n04           [[D3, D3, C0, F-2], [A♭-7, E6, B7, C0, G1], [D...   \n",
              "                      n04           [[G♭-10, B♭-4, E♭-5], [G♭-10, F♯9, F-2, F-2, F...   \n",
              "                      n04           [[E5, B5, A4, A4, G6, G5], [C♯5, C♯5, B♭5, F♯6...   \n",
              "                      n04           [[E5, B5, A4, A4, G6, G5], [C♯5, C♯5, B♭5, F♯6...   \n",
              "\n",
              "                                     runTime  \n",
              "corpus                piece                   \n",
              "ABC                   n02op18-2_03       NaN  \n",
              "                      n02op18-2_03       NaN  \n",
              "                      n14op131_01   0.352935  \n",
              "                      n14op131_01   0.138174  \n",
              "                      n14op131_01   0.116186  \n",
              "...                                      ...  \n",
              "schumann_kinderszenen n04           0.000327  \n",
              "                      n04           0.000304  \n",
              "                      n04           0.000303  \n",
              "                      n04           0.413173  \n",
              "                      n04           0.414403  \n",
              "\n",
              "[574 rows x 6 columns]"
            ]
          },
          "execution_count": 12,
          "metadata": {},
          "output_type": "execute_result"
        }
      ],
      "source": [
        "results"
      ]
    },
    {
      "cell_type": "code",
      "execution_count": null,
      "metadata": {
        "jukit_cell_id": "VMIfKwM0Tp"
      },
      "outputs": [
        {
          "name": "stderr",
          "output_type": "stream",
          "text": [
            "/var/folders/zq/32m4qp9s339211sg4wxlr7dr0000gn/T/ipykernel_29897/50012337.py:1: PerformanceWarning: indexing past lexsort depth may impact performance.\n",
            "  ex = results.loc['schumann_kinderszenen','n04']\n"
          ]
        }
      ],
      "source": [
        "ex = results.loc['schumann_kinderszenen','n04']"
      ]
    },
    {
      "cell_type": "code",
      "execution_count": null,
      "metadata": {
        "jukit_cell_id": "pms7SOjJQq"
      },
      "outputs": [
        {
          "data": {
            "text/html": [
              "<div>\n",
              "<style scoped>\n",
              "    .dataframe tbody tr th:only-of-type {\n",
              "        vertical-align: middle;\n",
              "    }\n",
              "\n",
              "    .dataframe tbody tr th {\n",
              "        vertical-align: top;\n",
              "    }\n",
              "\n",
              "    .dataframe thead th {\n",
              "        text-align: right;\n",
              "    }\n",
              "</style>\n",
              "<table border=\"1\" class=\"dataframe\">\n",
              "  <thead>\n",
              "    <tr style=\"text-align: right;\">\n",
              "      <th></th>\n",
              "      <th></th>\n",
              "      <th>algorithm</th>\n",
              "      <th>accuracy</th>\n",
              "      <th>likelihood</th>\n",
              "      <th>runTime</th>\n",
              "    </tr>\n",
              "    <tr>\n",
              "      <th>corpus</th>\n",
              "      <th>piece</th>\n",
              "      <th></th>\n",
              "      <th></th>\n",
              "      <th></th>\n",
              "      <th></th>\n",
              "    </tr>\n",
              "  </thead>\n",
              "  <tbody>\n",
              "    <tr>\n",
              "      <th rowspan=\"22\" valign=\"top\">schumann_kinderszenen</th>\n",
              "      <th>n04</th>\n",
              "      <td>RandomParse</td>\n",
              "      <td>0.660377</td>\n",
              "      <td>-1.494140e+01</td>\n",
              "      <td>0.004168</td>\n",
              "    </tr>\n",
              "    <tr>\n",
              "      <th>n04</th>\n",
              "      <td>RandomParse</td>\n",
              "      <td>0.660377</td>\n",
              "      <td>-1.493340e+01</td>\n",
              "      <td>0.001612</td>\n",
              "    </tr>\n",
              "    <tr>\n",
              "      <th>n04</th>\n",
              "      <td>RandomParse</td>\n",
              "      <td>0.660377</td>\n",
              "      <td>-1.493801e+01</td>\n",
              "      <td>0.001478</td>\n",
              "    </tr>\n",
              "    <tr>\n",
              "      <th>n04</th>\n",
              "      <td>RandomParse</td>\n",
              "      <td>0.660377</td>\n",
              "      <td>-1.494140e+01</td>\n",
              "      <td>0.003723</td>\n",
              "    </tr>\n",
              "    <tr>\n",
              "      <th>n04</th>\n",
              "      <td>RandomParse</td>\n",
              "      <td>0.660377</td>\n",
              "      <td>-1.494145e+01</td>\n",
              "      <td>0.001646</td>\n",
              "    </tr>\n",
              "    <tr>\n",
              "      <th>n04</th>\n",
              "      <td>RandomParseSBS</td>\n",
              "      <td>0.584906</td>\n",
              "      <td>-1.434172e+01</td>\n",
              "      <td>0.016878</td>\n",
              "    </tr>\n",
              "    <tr>\n",
              "      <th>n04</th>\n",
              "      <td>RandomParseSBS</td>\n",
              "      <td>0.622642</td>\n",
              "      <td>-1.444055e+01</td>\n",
              "      <td>0.014206</td>\n",
              "    </tr>\n",
              "    <tr>\n",
              "      <th>n04</th>\n",
              "      <td>RandomParseSBS</td>\n",
              "      <td>0.584906</td>\n",
              "      <td>-1.430832e+01</td>\n",
              "      <td>0.017524</td>\n",
              "    </tr>\n",
              "    <tr>\n",
              "      <th>n04</th>\n",
              "      <td>RandomParseSBS</td>\n",
              "      <td>0.566038</td>\n",
              "      <td>-1.418231e+01</td>\n",
              "      <td>0.015672</td>\n",
              "    </tr>\n",
              "    <tr>\n",
              "      <th>n04</th>\n",
              "      <td>RandomParseSBS</td>\n",
              "      <td>0.547170</td>\n",
              "      <td>-1.442265e+01</td>\n",
              "      <td>0.016779</td>\n",
              "    </tr>\n",
              "    <tr>\n",
              "      <th>n04</th>\n",
              "      <td>RandomSampleSBS</td>\n",
              "      <td>0.320755</td>\n",
              "      <td>-1.432721e+01</td>\n",
              "      <td>0.000364</td>\n",
              "    </tr>\n",
              "    <tr>\n",
              "      <th>n04</th>\n",
              "      <td>RandomSampleSBS</td>\n",
              "      <td>0.301887</td>\n",
              "      <td>-1.465992e+01</td>\n",
              "      <td>0.000351</td>\n",
              "    </tr>\n",
              "    <tr>\n",
              "      <th>n04</th>\n",
              "      <td>RandomSampleSBS</td>\n",
              "      <td>0.377358</td>\n",
              "      <td>-1.427180e+01</td>\n",
              "      <td>0.000307</td>\n",
              "    </tr>\n",
              "    <tr>\n",
              "      <th>n04</th>\n",
              "      <td>RandomSampleSBS</td>\n",
              "      <td>0.396226</td>\n",
              "      <td>-1.465982e+01</td>\n",
              "      <td>0.000338</td>\n",
              "    </tr>\n",
              "    <tr>\n",
              "      <th>n04</th>\n",
              "      <td>RandomSampleSBS</td>\n",
              "      <td>0.320755</td>\n",
              "      <td>-1.415998e+01</td>\n",
              "      <td>0.000433</td>\n",
              "    </tr>\n",
              "    <tr>\n",
              "      <th>n04</th>\n",
              "      <td>RandomSample</td>\n",
              "      <td>0.037736</td>\n",
              "      <td>-1.132077e+07</td>\n",
              "      <td>0.000388</td>\n",
              "    </tr>\n",
              "    <tr>\n",
              "      <th>n04</th>\n",
              "      <td>RandomSample</td>\n",
              "      <td>0.037736</td>\n",
              "      <td>-7.547191e+06</td>\n",
              "      <td>0.000314</td>\n",
              "    </tr>\n",
              "    <tr>\n",
              "      <th>n04</th>\n",
              "      <td>RandomSample</td>\n",
              "      <td>0.000000</td>\n",
              "      <td>-9.433983e+06</td>\n",
              "      <td>0.000327</td>\n",
              "    </tr>\n",
              "    <tr>\n",
              "      <th>n04</th>\n",
              "      <td>RandomSample</td>\n",
              "      <td>0.018868</td>\n",
              "      <td>-1.320757e+07</td>\n",
              "      <td>0.000304</td>\n",
              "    </tr>\n",
              "    <tr>\n",
              "      <th>n04</th>\n",
              "      <td>RandomSample</td>\n",
              "      <td>0.018868</td>\n",
              "      <td>-1.320757e+07</td>\n",
              "      <td>0.000303</td>\n",
              "    </tr>\n",
              "    <tr>\n",
              "      <th>n04</th>\n",
              "      <td>Heuristic1</td>\n",
              "      <td>0.660377</td>\n",
              "      <td>-1.494602e+01</td>\n",
              "      <td>0.413173</td>\n",
              "    </tr>\n",
              "    <tr>\n",
              "      <th>n04</th>\n",
              "      <td>HeuristicSBS1</td>\n",
              "      <td>0.622642</td>\n",
              "      <td>-1.460816e+01</td>\n",
              "      <td>0.414403</td>\n",
              "    </tr>\n",
              "  </tbody>\n",
              "</table>\n",
              "</div>"
            ],
            "text/plain": [
              "                                   algorithm  accuracy    likelihood   runTime\n",
              "corpus                piece                                                   \n",
              "schumann_kinderszenen n04        RandomParse  0.660377 -1.494140e+01  0.004168\n",
              "                      n04        RandomParse  0.660377 -1.493340e+01  0.001612\n",
              "                      n04        RandomParse  0.660377 -1.493801e+01  0.001478\n",
              "                      n04        RandomParse  0.660377 -1.494140e+01  0.003723\n",
              "                      n04        RandomParse  0.660377 -1.494145e+01  0.001646\n",
              "                      n04     RandomParseSBS  0.584906 -1.434172e+01  0.016878\n",
              "                      n04     RandomParseSBS  0.622642 -1.444055e+01  0.014206\n",
              "                      n04     RandomParseSBS  0.584906 -1.430832e+01  0.017524\n",
              "                      n04     RandomParseSBS  0.566038 -1.418231e+01  0.015672\n",
              "                      n04     RandomParseSBS  0.547170 -1.442265e+01  0.016779\n",
              "                      n04    RandomSampleSBS  0.320755 -1.432721e+01  0.000364\n",
              "                      n04    RandomSampleSBS  0.301887 -1.465992e+01  0.000351\n",
              "                      n04    RandomSampleSBS  0.377358 -1.427180e+01  0.000307\n",
              "                      n04    RandomSampleSBS  0.396226 -1.465982e+01  0.000338\n",
              "                      n04    RandomSampleSBS  0.320755 -1.415998e+01  0.000433\n",
              "                      n04       RandomSample  0.037736 -1.132077e+07  0.000388\n",
              "                      n04       RandomSample  0.037736 -7.547191e+06  0.000314\n",
              "                      n04       RandomSample  0.000000 -9.433983e+06  0.000327\n",
              "                      n04       RandomSample  0.018868 -1.320757e+07  0.000304\n",
              "                      n04       RandomSample  0.018868 -1.320757e+07  0.000303\n",
              "                      n04         Heuristic1  0.660377 -1.494602e+01  0.413173\n",
              "                      n04      HeuristicSBS1  0.622642 -1.460816e+01  0.414403"
            ]
          },
          "execution_count": 14,
          "metadata": {},
          "output_type": "execute_result"
        }
      ],
      "source": [
        "ex[[\"algorithm\", \"accuracy\", \"likelihood\", \"runTime\"]]"
      ]
    }
  ],
  "metadata": {
    "anaconda-cloud": {},
    "kernelspec": {
      "display_name": "Python 3",
      "language": "python",
      "name": "python3"
    },
    "language_info": {
      "codemirror_mode": {
        "name": "ipython",
        "version": 3
      },
      "file_extension": ".py",
      "mimetype": "text/x-python",
      "name": "python",
      "nbconvert_exporter": "python",
      "pygments_lexer": "ipython3",
      "version": "3.11.2"
    },
    "vscode": {
      "interpreter": {
        "hash": "b0fa6594d8f4cbf19f97940f81e996739fb7646882a419484c72d19e05852a7e"
      }
    }
  },
  "nbformat": 4,
  "nbformat_minor": 4
}
