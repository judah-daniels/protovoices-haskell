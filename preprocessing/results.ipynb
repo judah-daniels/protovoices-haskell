{
 "cells": [
  {
   "cell_type": "code",
   "execution_count": 8,
   "metadata": {},
   "outputs": [],
   "source": [
    "import matplotlib as plt\n",
    "import numpy as np\n",
    "import pandas as pd\n",
    "import json\n",
    "import subprocess\n",
    "from glob2 import glob"
   ]
  },
  {
   "cell_type": "code",
   "execution_count": 5,
   "metadata": {},
   "outputs": [],
   "source": [
    "import mir_eval as me"
   ]
  },
  {
   "cell_type": "code",
   "execution_count": 3,
   "metadata": {},
   "outputs": [],
   "source": [
    "dcml_chordtype_map = {\n",
    "    \"M\": \"major\",\n",
    "    \"m\": \"minor\",\n",
    "    \"Mm7\": \"dominant-7th\",\n",
    "    \"o\": \"diminished\",\n",
    "    \"o7\": \"full-diminished\",\n",
    "    \"mm7\": \"minor-7th\",\n",
    "    \"%7\": \"half-diminished\",\n",
    "    \"MM7\": \"major-7th\",\n",
    "    \"+\": \"augmented\",\n",
    "    \"mM7\": \"minor-major-7th\",\n",
    "    \"+7\": \"augmented-7th\",\n",
    "}"
   ]
  },
  {
   "attachments": {},
   "cell_type": "markdown",
   "metadata": {},
   "source": [
    "----"
   ]
  },
  {
   "attachments": {},
   "cell_type": "markdown",
   "metadata": {},
   "source": [
    "## Loading the Results\n",
    "Loads all json files from the given folder"
   ]
  },
  {
   "cell_type": "code",
   "execution_count": 130,
   "metadata": {},
   "outputs": [],
   "source": [
    "cols = ['corpus', 'piece', 'algorithm', 'accuracy', 'likelihood', 'chordLabels', 'slices']"
   ]
  },
  {
   "cell_type": "code",
   "execution_count": 171,
   "metadata": {},
   "outputs": [],
   "source": [
    "def load_dataset(path):\n",
    "    jsonFiles = glob(path + '/*/*.json') #Can be used absolute or relative paths \n",
    "    df = pd.DataFrame(columns=cols) \n",
    "    lbls = pd.DataFrame(columns=[\"piece\", \"corpus\", \"labels\"])\n",
    "    for jsonFile in jsonFiles:\n",
    "        # df = pd.read_json(jsonFile)\n",
    "        try:\n",
    "            with open(jsonFile, 'r') as f:\n",
    "                data = json.loads(f.read())\n",
    "        except:\n",
    "            print(\"Error with {}\".format(jsonFile))\n",
    "            continue\n",
    "\n",
    "        #lbls.append(data['groundTruth'])\n",
    "        newLbls = pd.DataFrame([{\"corpus\":data['corpus'], \"piece\":data[\"piece\"], \"labels\": data[\"groundTruth\"]}])\n",
    "        lbls = pd.concat([lbls, newLbls])\n",
    "\n",
    "        newdf = pd.json_normalize(data, record_path = ['results'], \n",
    "            meta = ['corpus', 'piece'])\n",
    "        \n",
    "        #newdf['groundTruth']= data['groundTruth']\n",
    "        df = pd.concat([df, newdf])\n",
    "    return (df.set_index([\"corpus\", \"piece\"]),lbls.set_index([\"corpus\", \"piece\"]))\n"
   ]
  },
  {
   "cell_type": "code",
   "execution_count": 181,
   "metadata": {},
   "outputs": [
    {
     "name": "stdout",
     "output_type": "stream",
     "text": [
      "Error with outputs/ABC/n01op18-1_02.json\n",
      "Error with outputs/grieg_lyric_pieces/op12n06.json\n",
      "Error with outputs/grieg_lyric_pieces/op12n07.json\n",
      "Error with outputs/grieg_lyric_pieces/op38n01.json\n",
      "Error with outputs/grieg_lyric_pieces/op12n03.json\n",
      "Error with outputs/grieg_lyric_pieces/op12n04.json\n",
      "Error with outputs/grieg_lyric_pieces/op12n05.json\n",
      "Error with outputs/tests/shortt1.json\n",
      "Error with outputs/schumann_kinderszenen/n07.json\n",
      "Error with outputs/schumann_kinderszenen/n06.json\n",
      "Error with outputs/schumann_kinderszenen/n10.json\n",
      "Error with outputs/schumann_kinderszenen/n01.json\n",
      "Error with outputs/schumann_kinderszenen/n03.json\n",
      "Error with outputs/schumann_kinderszenen/n02.json\n",
      "Error with outputs/schumann_kinderszenen/n08.json\n"
     ]
    }
   ],
   "source": [
    "(results,groundTruth) = load_dataset(\"outputs\")"
   ]
  },
  {
   "cell_type": "code",
   "execution_count": 163,
   "metadata": {},
   "outputs": [
    {
     "data": {
      "text/plain": [
       "['n01op18-1_01',\n",
       " 'n01op18-1_03',\n",
       " 'n01op18-1_04',\n",
       " 'n02op18-2_01',\n",
       " 'n02op18-2_02',\n",
       " 'n02op18-2_03',\n",
       " 'n02op18-2_04',\n",
       " 'n04',\n",
       " 'n05',\n",
       " 'n09',\n",
       " 'op12n01',\n",
       " 'op12n02',\n",
       " 'op12n08',\n",
       " 'op38n02',\n",
       " 'shortest']"
      ]
     },
     "execution_count": 163,
     "metadata": {},
     "output_type": "execute_result"
    }
   ],
   "source": [
    "list(results.index.levels[1].unique())"
   ]
  },
  {
   "cell_type": "code",
   "execution_count": 164,
   "metadata": {},
   "outputs": [
    {
     "name": "stderr",
     "output_type": "stream",
     "text": [
      "/var/folders/zq/32m4qp9s339211sg4wxlr7dr0000gn/T/ipykernel_63618/607374105.py:1: FutureWarning: ['chordLabels', 'slices'] did not aggregate successfully. If any error is raised this will raise in a future version of pandas. Drop these columns/ops to avoid this warning.\n",
      "  x.groupby([\"algorithm\"]).agg([np.mean, np.std])\n"
     ]
    },
    {
     "data": {
      "text/html": [
       "<div>\n",
       "<style scoped>\n",
       "    .dataframe tbody tr th:only-of-type {\n",
       "        vertical-align: middle;\n",
       "    }\n",
       "\n",
       "    .dataframe tbody tr th {\n",
       "        vertical-align: top;\n",
       "    }\n",
       "\n",
       "    .dataframe thead tr th {\n",
       "        text-align: left;\n",
       "    }\n",
       "\n",
       "    .dataframe thead tr:last-of-type th {\n",
       "        text-align: right;\n",
       "    }\n",
       "</style>\n",
       "<table border=\"1\" class=\"dataframe\">\n",
       "  <thead>\n",
       "    <tr>\n",
       "      <th></th>\n",
       "      <th colspan=\"2\" halign=\"left\">accuracy</th>\n",
       "      <th colspan=\"2\" halign=\"left\">likelihood</th>\n",
       "    </tr>\n",
       "    <tr>\n",
       "      <th></th>\n",
       "      <th>mean</th>\n",
       "      <th>std</th>\n",
       "      <th>mean</th>\n",
       "      <th>std</th>\n",
       "    </tr>\n",
       "    <tr>\n",
       "      <th>algorithm</th>\n",
       "      <th></th>\n",
       "      <th></th>\n",
       "      <th></th>\n",
       "      <th></th>\n",
       "    </tr>\n",
       "  </thead>\n",
       "  <tbody>\n",
       "    <tr>\n",
       "      <th>RandomParseSBS</th>\n",
       "      <td>0.568167</td>\n",
       "      <td>0.111581</td>\n",
       "      <td>-1.455901e+06</td>\n",
       "      <td>1.650884e+06</td>\n",
       "    </tr>\n",
       "    <tr>\n",
       "      <th>RandomSample</th>\n",
       "      <td>0.027638</td>\n",
       "      <td>0.032723</td>\n",
       "      <td>-8.931068e+06</td>\n",
       "      <td>7.789483e+06</td>\n",
       "    </tr>\n",
       "    <tr>\n",
       "      <th>RandomSampleSBS</th>\n",
       "      <td>0.364892</td>\n",
       "      <td>0.107031</td>\n",
       "      <td>-9.922110e+05</td>\n",
       "      <td>1.206095e+06</td>\n",
       "    </tr>\n",
       "  </tbody>\n",
       "</table>\n",
       "</div>"
      ],
      "text/plain": [
       "                 accuracy              likelihood              \n",
       "                     mean       std          mean           std\n",
       "algorithm                                                      \n",
       "RandomParseSBS   0.568167  0.111581 -1.455901e+06  1.650884e+06\n",
       "RandomSample     0.027638  0.032723 -8.931068e+06  7.789483e+06\n",
       "RandomSampleSBS  0.364892  0.107031 -9.922110e+05  1.206095e+06"
      ]
     },
     "execution_count": 164,
     "metadata": {},
     "output_type": "execute_result"
    }
   ],
   "source": [
    "results.groupby([\"algorithm\"]).agg([np.mean, np.std])"
   ]
  },
  {
   "cell_type": "code",
   "execution_count": 165,
   "metadata": {},
   "outputs": [
    {
     "name": "stderr",
     "output_type": "stream",
     "text": [
      "/var/folders/zq/32m4qp9s339211sg4wxlr7dr0000gn/T/ipykernel_63618/3892531011.py:1: FutureWarning: ['chordLabels', 'slices'] did not aggregate successfully. If any error is raised this will raise in a future version of pandas. Drop these columns/ops to avoid this warning.\n",
      "  x.groupby([\"corpus\", \"algorithm\"]).agg([np.mean, np.std])\n"
     ]
    },
    {
     "data": {
      "text/html": [
       "<div>\n",
       "<style scoped>\n",
       "    .dataframe tbody tr th:only-of-type {\n",
       "        vertical-align: middle;\n",
       "    }\n",
       "\n",
       "    .dataframe tbody tr th {\n",
       "        vertical-align: top;\n",
       "    }\n",
       "\n",
       "    .dataframe thead tr th {\n",
       "        text-align: left;\n",
       "    }\n",
       "\n",
       "    .dataframe thead tr:last-of-type th {\n",
       "        text-align: right;\n",
       "    }\n",
       "</style>\n",
       "<table border=\"1\" class=\"dataframe\">\n",
       "  <thead>\n",
       "    <tr>\n",
       "      <th></th>\n",
       "      <th></th>\n",
       "      <th colspan=\"2\" halign=\"left\">accuracy</th>\n",
       "      <th colspan=\"2\" halign=\"left\">likelihood</th>\n",
       "    </tr>\n",
       "    <tr>\n",
       "      <th></th>\n",
       "      <th></th>\n",
       "      <th>mean</th>\n",
       "      <th>std</th>\n",
       "      <th>mean</th>\n",
       "      <th>std</th>\n",
       "    </tr>\n",
       "    <tr>\n",
       "      <th>corpus</th>\n",
       "      <th>algorithm</th>\n",
       "      <th></th>\n",
       "      <th></th>\n",
       "      <th></th>\n",
       "      <th></th>\n",
       "    </tr>\n",
       "  </thead>\n",
       "  <tbody>\n",
       "    <tr>\n",
       "      <th rowspan=\"3\" valign=\"top\">ABC</th>\n",
       "      <th>RandomParseSBS</th>\n",
       "      <td>0.577378</td>\n",
       "      <td>0.052652</td>\n",
       "      <td>-1.252005e+06</td>\n",
       "      <td>9.556629e+05</td>\n",
       "    </tr>\n",
       "    <tr>\n",
       "      <th>RandomSample</th>\n",
       "      <td>0.025685</td>\n",
       "      <td>0.008679</td>\n",
       "      <td>-7.758274e+06</td>\n",
       "      <td>5.173544e+06</td>\n",
       "    </tr>\n",
       "    <tr>\n",
       "      <th>RandomSampleSBS</th>\n",
       "      <td>0.366933</td>\n",
       "      <td>0.032158</td>\n",
       "      <td>-8.635205e+05</td>\n",
       "      <td>6.995455e+05</td>\n",
       "    </tr>\n",
       "    <tr>\n",
       "      <th rowspan=\"3\" valign=\"top\">grieg_lyric_pieces</th>\n",
       "      <th>RandomParseSBS</th>\n",
       "      <td>0.516857</td>\n",
       "      <td>0.158688</td>\n",
       "      <td>-2.286973e+06</td>\n",
       "      <td>2.394480e+06</td>\n",
       "    </tr>\n",
       "    <tr>\n",
       "      <th>RandomSample</th>\n",
       "      <td>0.020966</td>\n",
       "      <td>0.020514</td>\n",
       "      <td>-1.309550e+07</td>\n",
       "      <td>1.296683e+07</td>\n",
       "    </tr>\n",
       "    <tr>\n",
       "      <th>RandomSampleSBS</th>\n",
       "      <td>0.290632</td>\n",
       "      <td>0.098249</td>\n",
       "      <td>-1.343494e+06</td>\n",
       "      <td>1.492970e+06</td>\n",
       "    </tr>\n",
       "    <tr>\n",
       "      <th rowspan=\"3\" valign=\"top\">schumann_kinderszenen</th>\n",
       "      <th>RandomParseSBS</th>\n",
       "      <td>0.540148</td>\n",
       "      <td>0.162034</td>\n",
       "      <td>-1.626033e+06</td>\n",
       "      <td>2.439028e+06</td>\n",
       "    </tr>\n",
       "    <tr>\n",
       "      <th>RandomSample</th>\n",
       "      <td>0.025564</td>\n",
       "      <td>0.020118</td>\n",
       "      <td>-1.091638e+07</td>\n",
       "      <td>5.346036e+06</td>\n",
       "    </tr>\n",
       "    <tr>\n",
       "      <th>RandomSampleSBS</th>\n",
       "      <td>0.383155</td>\n",
       "      <td>0.183352</td>\n",
       "      <td>-1.355029e+06</td>\n",
       "      <td>2.151019e+06</td>\n",
       "    </tr>\n",
       "    <tr>\n",
       "      <th rowspan=\"3\" valign=\"top\">tests</th>\n",
       "      <th>RandomParseSBS</th>\n",
       "      <td>0.750000</td>\n",
       "      <td>0.000000</td>\n",
       "      <td>-1.401125e+01</td>\n",
       "      <td>7.291452e-02</td>\n",
       "    </tr>\n",
       "    <tr>\n",
       "      <th>RandomSample</th>\n",
       "      <td>0.083333</td>\n",
       "      <td>0.144338</td>\n",
       "      <td>-2.232674e+01</td>\n",
       "      <td>3.600534e+00</td>\n",
       "    </tr>\n",
       "    <tr>\n",
       "      <th>RandomSampleSBS</th>\n",
       "      <td>0.583333</td>\n",
       "      <td>0.144338</td>\n",
       "      <td>-1.309518e+01</td>\n",
       "      <td>6.000642e-01</td>\n",
       "    </tr>\n",
       "  </tbody>\n",
       "</table>\n",
       "</div>"
      ],
      "text/plain": [
       "                                       accuracy              likelihood  \\\n",
       "                                           mean       std          mean   \n",
       "corpus                algorithm                                           \n",
       "ABC                   RandomParseSBS   0.577378  0.052652 -1.252005e+06   \n",
       "                      RandomSample     0.025685  0.008679 -7.758274e+06   \n",
       "                      RandomSampleSBS  0.366933  0.032158 -8.635205e+05   \n",
       "grieg_lyric_pieces    RandomParseSBS   0.516857  0.158688 -2.286973e+06   \n",
       "                      RandomSample     0.020966  0.020514 -1.309550e+07   \n",
       "                      RandomSampleSBS  0.290632  0.098249 -1.343494e+06   \n",
       "schumann_kinderszenen RandomParseSBS   0.540148  0.162034 -1.626033e+06   \n",
       "                      RandomSample     0.025564  0.020118 -1.091638e+07   \n",
       "                      RandomSampleSBS  0.383155  0.183352 -1.355029e+06   \n",
       "tests                 RandomParseSBS   0.750000  0.000000 -1.401125e+01   \n",
       "                      RandomSample     0.083333  0.144338 -2.232674e+01   \n",
       "                      RandomSampleSBS  0.583333  0.144338 -1.309518e+01   \n",
       "\n",
       "                                                     \n",
       "                                                std  \n",
       "corpus                algorithm                      \n",
       "ABC                   RandomParseSBS   9.556629e+05  \n",
       "                      RandomSample     5.173544e+06  \n",
       "                      RandomSampleSBS  6.995455e+05  \n",
       "grieg_lyric_pieces    RandomParseSBS   2.394480e+06  \n",
       "                      RandomSample     1.296683e+07  \n",
       "                      RandomSampleSBS  1.492970e+06  \n",
       "schumann_kinderszenen RandomParseSBS   2.439028e+06  \n",
       "                      RandomSample     5.346036e+06  \n",
       "                      RandomSampleSBS  2.151019e+06  \n",
       "tests                 RandomParseSBS   7.291452e-02  \n",
       "                      RandomSample     3.600534e+00  \n",
       "                      RandomSampleSBS  6.000642e-01  "
      ]
     },
     "execution_count": 165,
     "metadata": {},
     "output_type": "execute_result"
    }
   ],
   "source": [
    "results.groupby([\"corpus\", \"algorithm\"]).agg([np.mean, np.std])"
   ]
  },
  {
   "attachments": {},
   "cell_type": "markdown",
   "metadata": {},
   "source": [
    "# Close Error Analysis"
   ]
  },
  {
   "attachments": {},
   "cell_type": "markdown",
   "metadata": {},
   "source": [
    "Attributes: chord type, root note, etc"
   ]
  },
  {
   "attachments": {},
   "cell_type": "markdown",
   "metadata": {},
   "source": [
    "#### Zoom in on ABC: n01op18-1_04"
   ]
  },
  {
   "cell_type": "code",
   "execution_count": 166,
   "metadata": {},
   "outputs": [
    {
     "data": {
      "text/plain": [
       "labels    [FM, CMm7, CMm7, CM, FM, FM, CM, CMm7, FM, CM,...\n",
       "Name: (ABC, n01op18-1_04), dtype: object"
      ]
     },
     "execution_count": 166,
     "metadata": {},
     "output_type": "execute_result"
    }
   ],
   "source": [
    "groundTruth.loc['ABC','n01op18-1_04']"
   ]
  },
  {
   "cell_type": "code",
   "execution_count": 174,
   "metadata": {},
   "outputs": [
    {
     "name": "stderr",
     "output_type": "stream",
     "text": [
      "/var/folders/zq/32m4qp9s339211sg4wxlr7dr0000gn/T/ipykernel_63618/549337838.py:1: PerformanceWarning: indexing past lexsort depth may impact performance.\n",
      "  x.loc['ABC','n01op18-1_04'].iloc[1]\n"
     ]
    },
    {
     "data": {
      "text/plain": [
       "algorithm                                         RandomParseSBS\n",
       "accuracy                                                0.618729\n",
       "likelihood                                       -1003360.058819\n",
       "chordLabels    [FM, CMm7, CMm7, GM, FM, FM, CM, CM, FM, CM, C...\n",
       "slices         [[E6, F6, C6], [E5, C4, B♭4, G3], [E3, C4, B♭4...\n",
       "Name: (ABC, n01op18-1_04), dtype: object"
      ]
     },
     "execution_count": 174,
     "metadata": {},
     "output_type": "execute_result"
    }
   ],
   "source": [
    "results.loc['ABC','n01op18-1_04'].iloc[1]"
   ]
  },
  {
   "cell_type": "code",
   "execution_count": 180,
   "metadata": {},
   "outputs": [
    {
     "name": "stdout",
     "output_type": "stream",
     "text": [
      "['FM', 'CMm7', 'CMm7', 'CM', 'FM', 'FM', 'CM', 'CMm7', 'FM', 'CM', 'CMm7', 'FM', 'CM', 'CMm7', 'FM']\n"
     ]
    }
   ],
   "source": [
    "print (list(groundTruth.loc['ABC','n01op18-1_04'])[0][:15])"
   ]
  },
  {
   "cell_type": "code",
   "execution_count": 179,
   "metadata": {},
   "outputs": [
    {
     "name": "stdout",
     "output_type": "stream",
     "text": [
      "['FM', 'CMm7', 'CMm7', 'GM', 'FM', 'FM', 'CM', 'CM', 'FM', 'CM', 'CM', 'FM', 'CM', 'CMm7', 'FM']\n"
     ]
    },
    {
     "name": "stderr",
     "output_type": "stream",
     "text": [
      "/var/folders/zq/32m4qp9s339211sg4wxlr7dr0000gn/T/ipykernel_63618/4269611082.py:1: PerformanceWarning: indexing past lexsort depth may impact performance.\n",
      "  print (list(x.loc['ABC','n01op18-1_04'].iloc[1][\"chordLabels\"])[:15])\n"
     ]
    }
   ],
   "source": [
    "print (list(results.loc['ABC','n01op18-1_04'].iloc[1][\"chordLabels\"])[:15])"
   ]
  },
  {
   "cell_type": "code",
   "execution_count": null,
   "metadata": {},
   "outputs": [],
   "source": [
    "me."
   ]
  },
  {
   "attachments": {},
   "cell_type": "markdown",
   "metadata": {},
   "source": [
    "## Confusion Matrices"
   ]
  },
  {
   "attachments": {},
   "cell_type": "markdown",
   "metadata": {},
   "source": [
    "### By Chord Type"
   ]
  },
  {
   "cell_type": "code",
   "execution_count": null,
   "metadata": {},
   "outputs": [],
   "source": []
  }
 ],
 "metadata": {
  "kernelspec": {
   "display_name": "Python 3",
   "language": "python",
   "name": "python3"
  },
  "language_info": {
   "codemirror_mode": {
    "name": "ipython",
    "version": 3
   },
   "file_extension": ".py",
   "mimetype": "text/x-python",
   "name": "python",
   "nbconvert_exporter": "python",
   "pygments_lexer": "ipython3",
   "version": "3.11.2"
  },
  "orig_nbformat": 4,
  "vscode": {
   "interpreter": {
    "hash": "b0fa6594d8f4cbf19f97940f81e996739fb7646882a419484c72d19e05852a7e"
   }
  }
 },
 "nbformat": 4,
 "nbformat_minor": 2
}
