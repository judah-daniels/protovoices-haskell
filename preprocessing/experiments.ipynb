{
 "cells": [
  {
   "cell_type": "markdown",
   "metadata": {
    "jukit_cell_id": "2m02J4WyK4"
   },
   "source": [
    "# Imports"
   ]
  },
  {
   "cell_type": "code",
   "execution_count": 4,
   "metadata": {
    "jukit_cell_id": "YcC0bncuM6",
    "tags": []
   },
   "outputs": [],
   "source": [
    "import subprocess\n",
    "import json\n",
    "from pathlib import Path\n",
    "from glob2 import glob\n",
    "import os\n",
    "from multiprocessing import Pool\n",
    "from datetime import datetime\n",
    "import pytz\n",
    "from uuid import uuid4\n",
    "import random\n",
    "from tqdm import tqdm\n",
    "import sys"
   ]
  },
  {
   "cell_type": "code",
   "execution_count": null,
   "metadata": {
    "tags": []
   },
   "outputs": [],
   "source": []
  },
  {
   "cell_type": "markdown",
   "metadata": {
    "jukit_cell_id": "KKwSV9K5Nd"
   },
   "source": [
    "# Functions"
   ]
  },
  {
   "cell_type": "code",
   "execution_count": 8,
   "metadata": {},
   "outputs": [],
   "source": [
    "import subprocess\n",
    "import json\n",
    "from pathlib import Path\n",
    "from glob2 import glob\n",
    "import os\n",
    "from multiprocessing import Pool\n",
    "from datetime import datetime\n",
    "import pytz\n",
    "from uuid import uuid4\n",
    "import random\n",
    "from tqdm import tqdm\n",
    "import sys\n",
    "def get_corpus_pieces(corpus):\n",
    "    return sorted (os.path.basename(d).split(\".\")[0] for d in glob(\"inputs/slices/\"+corpus+\"/*.csv\"))\n",
    "\n",
    "def get_corpi():\n",
    "    return [os.path.basename(d) for d in glob(\"inputs/slices/*\")][1:]\n",
    "\n",
    "def run_command(command):\n",
    "    #print(\" \".join(command))    \n",
    "    #res = subprocess.run(cmd, cwd=\"..\")\n",
    "    #res = subprocess.run(cmd, stdout=subprocess.PIPE, stderr=subprocess.PIPE, cwd=\"..\")\n",
    "    res = subprocess.run(command,stderr=subprocess.PIPE, cwd=\"..\")\n",
    "    #pbar.update(1)\n",
    "\n",
    "    if res.returncode != 0:\n",
    "        print(\"Error in subprocess:\\n\")\n",
    "        print(res.stderr)\n",
    "        return;\n",
    "    \n",
    "            \n",
    "def run_Experiment(commands,name,iterations, threads):\n",
    "    uk_tz = pytz.timezone('Europe/London')\n",
    "    id = datetime.now(uk_tz).strftime('%Y%m%d%H%M%S_')+ name\n",
    "    #random.shuffle(commands)\n",
    "\n",
    "    commands = [[\"stack\",\"run\",\"fullParse\",\"--\",\"-n\",str(iterations), \"-id\", str(id)] + command for command in commands]\n",
    "    \n",
    "    \n",
    "    with Pool(threads) as p:\n",
    "        for _ in tqdm(p.imap_unordered(run_command, commands), total=len(commands)*iterations):\n",
    "            pass\n",
    "    \n",
    "\n",
    "        \n",
    "def stochastic_res_experiment(threads=28):\n",
    "    commands = []\n",
    "    corpi = get_corpi()\n",
    "    beamWidthRange = range (1,40,2)\n",
    "    reservoirSizeRange = range(100,1000,50)\n",
    "    for corpus in corpi:\n",
    "        pieces = get_corpus_pieces(corpus)\n",
    "        for piece in pieces:\n",
    "            for w in beamWidthRange:\n",
    "                for r in reservoirSizeRange:\n",
    "                    algo = \"StochasticBeamSearch {} {}\".format(w,r)\n",
    "                    commands.append([ corpus, piece, algo])\n",
    "    \n",
    "    print(\"Running {} Stochastic Beam Search experiments, with beamwidth {} and reservoirSize {}\".format(len(commands), beamWidthRange, reservoirSizeRange))\n",
    "\n",
    "    run_Experiment(commands, \"stochastic-all-params\", threads)\n",
    "\n",
    "def dual_stochastic_res_experiment(inputs, beamWidthRange, reservoirSizeRange, iterations=1, threads=28):\n",
    "    commands = []\n",
    "\n",
    "    for (corpus, piece) in inputs:\n",
    "        for w in beamWidthRange:\n",
    "            for r in reservoirSizeRange:\n",
    "                algo = \"DualStochasticBeamSearch {} {}\".format(w,r)\n",
    "                commands.append([ corpus, piece, algo])\n",
    "    \n",
    "    print(\"Running {} Stochastic Beam Search experiments, with beamwidth {} and reservoirSize {}\".format(len(commands)*iterations, beamWidthRange, reservoirSizeRange))\n",
    "    print(\"Experiment will take approx {}-{} hours\\n\".format(len(commands)*iterations/ 28 * 0.08, len(commands)*iterations/ 28 * 0.2))\n",
    "\n",
    "    random.shuffle(commands)\n",
    "    run_Experiment(commands, \"dual-stochastic-res-params-grieg128\", iterations,threads)\n",
    "\n",
    "def all_searches_experiment(inputs, iterations=10, threads=28):\n",
    "    beamWidths = range (6,36,3)\n",
    "    commands = []\n",
    "    for (corpus, piece) in inputs:\n",
    "        algo = \"DualStochasticBeamSearch {} {}\".format(500,400)\n",
    "        algo2 = \"DualStochasticBeamSearch {} {}\".format(3,1)\n",
    "        commands.append([ corpus, piece, algo])\n",
    "        commands.append([ corpus, piece, algo2])\n",
    "    print(\"Running {} experiments dsbs 500 400 vs 3 1\".format(len(commands)*iterations, beamWidthRange, reservoirSizeRange))\n",
    "    print(\"Experiment will take approx {}-{} hours\\n\".format(len(commands)*iterations/ 28 * 0.08, len(commands)*iterations/ 28 * 0.2))\n",
    "\n",
    "    random.shuffle(commands)\n",
    "    run_Experiment(commands, \"dual-stochastic-res-500-400vs3-1-grieg128\", iterations,threads)\n",
    "\n",
    "    \n",
    "def stochastic_res_lim_experiment(threads=28):\n",
    "    commands = []\n",
    "    corpi = get_corpi()\n",
    "    beamWidthRange = range (7,14,1)\n",
    "    limitRange = range(1,20,1)\n",
    "    reservoirSize = 700\n",
    "    for corpus in corpi:\n",
    "        pieces = get_corpus_pieces(corpus)\n",
    "        for piece in pieces:\n",
    "            for w in beamWidthRange:\n",
    "                for l in limitRange:\n",
    "                    algo = \"StochasticBeamSearchLimited {} {} {}\".format(w,reservoirSize,l)\n",
    "                    commands.append([ corpus, piece, algo])\n",
    "    \n",
    "    print(\"Running {} Stochastic Beam Search Limited experiments, with beamwidth {}, reservoirSize {} and spread note limit {}\".format(len(commands), beamWidthRange, reservoirSize, limitRange))\n",
    "    print(\"Experiment will take approx {}-{} hours\\n\".format(commands/ 28 * 0.1),commands/ 28 * 0.27)\n",
    "\n",
    "    run_Experiment(commands, \"stochastic-limited-fixed-res\", threads)"
   ]
  },
  {
   "cell_type": "code",
   "execution_count": 9,
   "metadata": {
    "tags": []
   },
   "outputs": [
    {
     "data": {
      "text/plain": [
       "['tests', 'grieg_lyric_pieces', 'schumann_kinderszenen', 'chopin_mazurkas']"
      ]
     },
     "execution_count": 9,
     "metadata": {},
     "output_type": "execute_result"
    }
   ],
   "source": [
    "get_corpi()"
   ]
  },
  {
   "cell_type": "code",
   "execution_count": 12,
   "metadata": {
    "tags": []
   },
   "outputs": [
    {
     "data": {
      "text/plain": [
       "[('grieg_lyric_pieces', 'op12n01'),\n",
       " ('grieg_lyric_pieces', 'op12n02'),\n",
       " ('grieg_lyric_pieces', 'op12n03'),\n",
       " ('grieg_lyric_pieces', 'op12n04'),\n",
       " ('grieg_lyric_pieces', 'op12n05'),\n",
       " ('grieg_lyric_pieces', 'op12n06'),\n",
       " ('grieg_lyric_pieces', 'op12n07'),\n",
       " ('grieg_lyric_pieces', 'op12n08'),\n",
       " ('grieg_lyric_pieces', 'op38n01'),\n",
       " ('grieg_lyric_pieces', 'op38n02'),\n",
       " ('grieg_lyric_pieces', 'op38n03'),\n",
       " ('grieg_lyric_pieces', 'op38n04'),\n",
       " ('grieg_lyric_pieces', 'op38n05'),\n",
       " ('grieg_lyric_pieces', 'op38n06'),\n",
       " ('grieg_lyric_pieces', 'op38n07'),\n",
       " ('grieg_lyric_pieces', 'op38n08'),\n",
       " ('grieg_lyric_pieces', 'op43n01'),\n",
       " ('grieg_lyric_pieces', 'op43n02'),\n",
       " ('grieg_lyric_pieces', 'op43n03'),\n",
       " ('grieg_lyric_pieces', 'op43n04'),\n",
       " ('grieg_lyric_pieces', 'op43n05'),\n",
       " ('grieg_lyric_pieces', 'op43n06'),\n",
       " ('grieg_lyric_pieces', 'op47n01'),\n",
       " ('grieg_lyric_pieces', 'op47n02'),\n",
       " ('grieg_lyric_pieces', 'op47n03'),\n",
       " ('grieg_lyric_pieces', 'op47n04'),\n",
       " ('grieg_lyric_pieces', 'op47n05'),\n",
       " ('grieg_lyric_pieces', 'op47n06'),\n",
       " ('grieg_lyric_pieces', 'op47n07'),\n",
       " ('grieg_lyric_pieces', 'op54n01'),\n",
       " ('grieg_lyric_pieces', 'op54n02'),\n",
       " ('grieg_lyric_pieces', 'op54n03'),\n",
       " ('grieg_lyric_pieces', 'op54n04'),\n",
       " ('grieg_lyric_pieces', 'op54n05'),\n",
       " ('grieg_lyric_pieces', 'op54n06'),\n",
       " ('grieg_lyric_pieces', 'op57n01'),\n",
       " ('grieg_lyric_pieces', 'op57n02'),\n",
       " ('grieg_lyric_pieces', 'op57n03'),\n",
       " ('grieg_lyric_pieces', 'op57n04'),\n",
       " ('grieg_lyric_pieces', 'op57n05'),\n",
       " ('grieg_lyric_pieces', 'op57n06'),\n",
       " ('grieg_lyric_pieces', 'op62n01'),\n",
       " ('grieg_lyric_pieces', 'op62n02'),\n",
       " ('grieg_lyric_pieces', 'op62n03'),\n",
       " ('grieg_lyric_pieces', 'op62n04'),\n",
       " ('grieg_lyric_pieces', 'op62n05'),\n",
       " ('grieg_lyric_pieces', 'op62n06'),\n",
       " ('grieg_lyric_pieces', 'op65n01'),\n",
       " ('grieg_lyric_pieces', 'op65n02'),\n",
       " ('grieg_lyric_pieces', 'op65n03'),\n",
       " ('grieg_lyric_pieces', 'op65n04'),\n",
       " ('grieg_lyric_pieces', 'op65n05'),\n",
       " ('grieg_lyric_pieces', 'op65n06'),\n",
       " ('grieg_lyric_pieces', 'op68n01'),\n",
       " ('grieg_lyric_pieces', 'op68n02'),\n",
       " ('grieg_lyric_pieces', 'op68n03'),\n",
       " ('grieg_lyric_pieces', 'op68n04'),\n",
       " ('grieg_lyric_pieces', 'op68n05'),\n",
       " ('grieg_lyric_pieces', 'op68n06'),\n",
       " ('grieg_lyric_pieces', 'op71n01'),\n",
       " ('grieg_lyric_pieces', 'op71n02'),\n",
       " ('grieg_lyric_pieces', 'op71n03'),\n",
       " ('grieg_lyric_pieces', 'op71n04'),\n",
       " ('grieg_lyric_pieces', 'op71n05'),\n",
       " ('grieg_lyric_pieces', 'op71n06'),\n",
       " ('grieg_lyric_pieces', 'op71n07')]"
      ]
     },
     "execution_count": 12,
     "metadata": {},
     "output_type": "execute_result"
    }
   ],
   "source": [
    "[(\"grieg_lyric_pieces\", x) for x in get_corpus_pieces(\"grieg_lyric_pieces\")]"
   ]
  },
  {
   "cell_type": "markdown",
   "metadata": {
    "jukit_cell_id": "d0ifs7vsg1"
   },
   "source": [
    "# Run Experiments"
   ]
  },
  {
   "cell_type": "code",
   "execution_count": 8,
   "metadata": {
    "jukit_cell_id": "eHdRDnhify",
    "tags": []
   },
   "outputs": [
    {
     "name": "stdout",
     "output_type": "stream",
     "text": [
      "Running 140 Stochastic Beam Search experiments, with beamwidth range(10, 510, 50) and reservoirSize range(50, 750, 50)\n",
      "Experiment will take approx 0.4-1.0 hours\n",
      "\n"
     ]
    },
    {
     "name": "stderr",
     "output_type": "stream",
     "text": [
      "100%|█████████████████████████████████████████████████████████████████████████████████████████████████| 140/140 [1:32:03<00:00, 39.45s/it]\n"
     ]
    }
   ],
   "source": [
    "#if __name__ == '__main__':\n",
    "#    beamWidthRange = range (10,510,50)\n",
    "#    reservoirSizeRange = range(50,750,50)\n",
    "#    dual_stochastic_res_experiment([(\"grieg_lyric_pieces\", \"op12n08\")],beamWidthRange,reservoirSizeRange, iterations=3,threads=28)\n",
    "    \n"
   ]
  },
  {
   "cell_type": "code",
   "execution_count": 5,
   "metadata": {
    "tags": []
   },
   "outputs": [],
   "source": [
    "#if __name__ == '__main__':\n",
    "    #algo_experiment()\n",
    "    #beamwidth_experiment()"
   ]
  },
  {
   "cell_type": "code",
   "execution_count": null,
   "metadata": {
    "tags": []
   },
   "outputs": [
    {
     "name": "stdout",
     "output_type": "stream",
     "text": [
      "Running 20 experiments dsbs 500 400 vs 3 1\n",
      "Experiment will take approx 0.05714285714285715-0.14285714285714288 hours\n",
      "\n"
     ]
    },
    {
     "name": "stderr",
     "output_type": "stream",
     "text": [
      "  0%|                                                                                                               | 0/2 [00:00<?, ?it/s]"
     ]
    }
   ],
   "source": [
    "if __name__ == '__main__':\n",
    "    beamWidthRange = range (10,510,50)\n",
    "    reservoirSizeRange = range(50,750,50)\n",
    "    all_searches_experiment([(\"grieg_lyric_pieces\", \"op12n08\")], iterations=1,threads=28)\n",
    "    \n"
   ]
  },
  {
   "cell_type": "code",
   "execution_count": null,
   "metadata": {},
   "outputs": [],
   "source": []
  }
 ],
 "metadata": {
  "anaconda-cloud": {},
  "kernelspec": {
   "display_name": "Python 3 (ipykernel)",
   "language": "python",
   "name": "python3"
  },
  "language_info": {
   "codemirror_mode": {
    "name": "ipython",
    "version": 3
   },
   "file_extension": ".py",
   "mimetype": "text/x-python",
   "name": "python",
   "nbconvert_exporter": "python",
   "pygments_lexer": "ipython3",
   "version": "3.10.0"
  }
 },
 "nbformat": 4,
 "nbformat_minor": 4
}
