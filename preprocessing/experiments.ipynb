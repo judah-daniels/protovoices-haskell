{
 "cells": [
  {
   "cell_type": "markdown",
   "metadata": {
    "jukit_cell_id": "2m02J4WyK4"
   },
   "source": [
    "# Imports"
   ]
  },
  {
   "cell_type": "code",
   "execution_count": 23,
   "metadata": {
    "jukit_cell_id": "YcC0bncuM6",
    "tags": []
   },
   "outputs": [],
   "source": [
    "import subprocess\n",
    "import json\n",
    "from pathlib import Path\n",
    "from glob2 import glob\n",
    "import os\n",
    "from multiprocessing import Pool\n",
    "from datetime import datetime\n",
    "import pytz\n",
    "from uuid import uuid4\n",
    "import random"
   ]
  },
  {
   "cell_type": "markdown",
   "metadata": {
    "jukit_cell_id": "KKwSV9K5Nd"
   },
   "source": [
    "# Functions"
   ]
  },
  {
   "cell_type": "code",
   "execution_count": 24,
   "metadata": {
    "jukit_cell_id": "Jaacso6eM3",
    "tags": []
   },
   "outputs": [],
   "source": [
    "import subprocess\n",
    "import json\n",
    "from pathlib import Path\n",
    "from glob2 import glob\n",
    "import os\n",
    "from multiprocessing import Pool\n",
    "from datetime import datetime\n",
    "from uuid import uuid4\n",
    "import random"
   ]
  },
  {
   "cell_type": "code",
   "execution_count": 30,
   "metadata": {},
   "outputs": [],
   "source": [
    "\n",
    "def get_corpus_pieces(corpus):\n",
    "    return sorted (os.path.basename(d).split(\".\")[0] for d in glob(\"inputs/slices/\"+corpus+\"/*.csv\"))\n",
    "\n",
    "def get_corpi():\n",
    "    return [os.path.basename(d) for d in glob(\"inputs/slices/*\")][1:]\n",
    "\n",
    "def run_command(command):\n",
    "    print(\" \".join(command))    \n",
    "    #res = subprocess.run(cmd, cwd=\"..\")\n",
    "    #res = subprocess.run(cmd, stdout=subprocess.PIPE, stderr=subprocess.PIPE, cwd=\"..\")\n",
    "    res = subprocess.run(command,stderr=subprocess.PIPE, cwd=\"..\")\n",
    "\n",
    "    if res.returncode != 0:\n",
    "        print(\"Error in subprocess:\\n\")\n",
    "        print(res.stderr)\n",
    "        return;\n",
    "            \n",
    "def run_Experiment(commands,name,iterations, threads):\n",
    "    uk_tz = pytz.timezone('Europe/London')\n",
    "    id = datetime.now(uk_tz).strftime('%Y%m%d%H%M%S_')+ name\n",
    "    #random.shuffle(commands)\n",
    "    commands = [ [\"stack\",\"run\",\"fullParse\",\"--\",\"-n\",str(iterations), \"-id\", str(id)] + command for command in commands]\n",
    "    with Pool(threads) as p:\n",
    "        p.map(run_command, commands)\n",
    "\n",
    "        \n",
    "def stochastic_res_experiment(threads=28):\n",
    "    commands = []\n",
    "    corpi = get_corpi()\n",
    "    beamWidthRange = range (1,40,2)\n",
    "    reservoirSizeRange = range(100,1000,50)\n",
    "    for corpus in corpi:\n",
    "        pieces = get_corpus_pieces(corpus)\n",
    "        for piece in pieces:\n",
    "            for w in beamWidthRange:\n",
    "                for r in reservoirSizeRange:\n",
    "                    algo = \"StochasticBeamSearch {} {}\".format(w,r)\n",
    "                    commands.append([ corpus, piece, algo])\n",
    "    \n",
    "    print(\"Running {} Stochastic Beam Search experiments, with beamwidth {} and reservoirSize {}\".format(len(commands), beamWidthRange, reservoirSizeRange))\n",
    "\n",
    "    run_Experiment(commands, \"stochastic-all-params\", threads)\n",
    "\n",
    "def dual_stochastic_res_experiment(inputs, beamWidthRange, reservoirSizeRange, iterations=1, threads=28):\n",
    "    commands = []\n",
    "    corpi = get_corpi()\n",
    "\n",
    "    for (corpus, piece) in inputs:\n",
    "        for w in beamWidthRange:\n",
    "            for r in reservoirSizeRange:\n",
    "                algo = \"DualStochasticBeamSearch {} {}\".format(w,r)\n",
    "                commands.append([ corpus, piece, algo])\n",
    "    \n",
    "    print(\"Running {} Stochastic Beam Search experiments, with beamwidth {} and reservoirSize {}\".format(len(commands), beamWidthRange, reservoirSizeRange))\n",
    "    random.shuffle(commands)\n",
    "    run_Experiment(commands, \"dual-stochastic-res-params\", iterations,threads)\n",
    "\n",
    "def all_beam_searches_experiment(inputs, threads=28):\n",
    "    beamWidths = range (6,36,3)\n",
    "    for (corpus, piece) in inputs:\n",
    "        for beamWidth in beamWidths:\n",
    "            algo = \"DualStochasticBeamSearch {} {}\".format(int(beamWidth/3),reservoirSize)\n",
    "            algo2 = \"DualStochasticBeamSearch {} {}\".format(int(beamWidth/3),reservoirSize)\n",
    "            commands.append([ corpus, piece, algo])\n",
    "            commands.append([ corpus, piece, algo2])\n",
    "            \n",
    "\n",
    "    \n",
    "def stochastic_res_lim_experiment(threads=28):\n",
    "    commands = []\n",
    "    corpi = get_corpi()\n",
    "    beamWidthRange = range (7,14,1)\n",
    "    limitRange = range(1,20,1)\n",
    "    reservoirSize = 700\n",
    "    for corpus in corpi:\n",
    "        pieces = get_corpus_pieces(corpus)\n",
    "        for piece in pieces:\n",
    "            for w in beamWidthRange:\n",
    "                for l in limitRange:\n",
    "                    algo = \"StochasticBeamSearchLimited {} {} {}\".format(w,reservoirSize,l)\n",
    "                    commands.append([ corpus, piece, algo])\n",
    "    \n",
    "    print(\"Running {} Stochastic Beam Search Limited experiments, with beamwidth {}, reservoirSize {} and spread note limit {}\".format(len(commands), beamWidthRange, reservoirSize, limitRange))\n",
    "    print(\"Experiment will take approx {}-{} hours\".format(commands/ 28 * 0.1),commands/ 28 * 0.27)\n",
    "\n",
    "    run_Experiment(commands, \"stochastic-limited-fixed-res\", threads)"
   ]
  },
  {
   "cell_type": "code",
   "execution_count": 31,
   "metadata": {
    "tags": []
   },
   "outputs": [
    {
     "data": {
      "text/plain": [
       "['tests', 'grieg_lyric_pieces', 'schumann_kinderszenen', 'chopin_mazurkas']"
      ]
     },
     "execution_count": 31,
     "metadata": {},
     "output_type": "execute_result"
    }
   ],
   "source": [
    "get_corpi()"
   ]
  },
  {
   "cell_type": "markdown",
   "metadata": {
    "jukit_cell_id": "d0ifs7vsg1"
   },
   "source": [
    "# Run Experiments"
   ]
  },
  {
   "cell_type": "code",
   "execution_count": 32,
   "metadata": {},
   "outputs": [],
   "source": [
    "## with 360 runs at 28 it took like 10 seconds 24 seconds at 56 threads, and 15 wihth 28."
   ]
  },
  {
   "cell_type": "code",
   "execution_count": 33,
   "metadata": {
    "jukit_cell_id": "eHdRDnhify",
    "tags": []
   },
   "outputs": [
    {
     "name": "stdout",
     "output_type": "stream",
     "text": [
      "Running 105 Stochastic Beam Search experiments, with beamwidth range(5, 40, 5) and reservoirSize range(10, 300, 20)\n",
      "stack run fullParse -- -n 1 -id 20230417230541_dual-stochastic-res-params grieg_lyric_pieces op12n01 DualStochasticBeamSearch 5 110stack run fullParse -- -n 1 -id 20230417230541_dual-stochastic-res-params grieg_lyric_pieces op12n01 DualStochasticBeamSearch 15 150stack run fullParse -- -n 1 -id 20230417230541_dual-stochastic-res-params grieg_lyric_pieces op12n01 DualStochasticBeamSearch 15 110stack run fullParse -- -n 1 -id 20230417230541_dual-stochastic-res-params grieg_lyric_pieces op12n01 DualStochasticBeamSearch 20 250stack run fullParse -- -n 1 -id 20230417230541_dual-stochastic-res-params grieg_lyric_pieces op12n01 DualStochasticBeamSearch 10 230stack run fullParse -- -n 1 -id 20230417230541_dual-stochastic-res-params grieg_lyric_pieces op12n01 DualStochasticBeamSearch 15 30stack run fullParse -- -n 1 -id 20230417230541_dual-stochastic-res-params grieg_lyric_pieces op12n01 DualStochasticBeamSearch 5 210\n",
      "stack run fullParse -- -n 1 -id 20230417230541_dual-stochastic-res-params grieg_lyric_pieces op12n01 DualStochasticBeamSearch 15 70stack run fullParse -- -n 1 -id 20230417230541_dual-stochastic-res-params grieg_lyric_pieces op12n01 DualStochasticBeamSearch 10 130stack run fullParse -- -n 1 -id 20230417230541_dual-stochastic-res-params grieg_lyric_pieces op12n01 DualStochasticBeamSearch 10 10\n",
      "stack run fullParse -- -n 1 -id 20230417230541_dual-stochastic-res-params grieg_lyric_pieces op12n01 DualStochasticBeamSearch 20 210stack run fullParse -- -n 1 -id 20230417230541_dual-stochastic-res-params grieg_lyric_pieces op12n01 DualStochasticBeamSearch 30 170stack run fullParse -- -n 1 -id 20230417230541_dual-stochastic-res-params grieg_lyric_pieces op12n01 DualStochasticBeamSearch 20 230\n",
      "stack run fullParse -- -n 1 -id 20230417230541_dual-stochastic-res-params grieg_lyric_pieces op12n01 DualStochasticBeamSearch 5 10stack run fullParse -- -n 1 -id 20230417230541_dual-stochastic-res-params grieg_lyric_pieces op12n01 DualStochasticBeamSearch 15 50stack run fullParse -- -n 1 -id 20230417230541_dual-stochastic-res-params grieg_lyric_pieces op12n01 DualStochasticBeamSearch 5 90stack run fullParse -- -n 1 -id 20230417230541_dual-stochastic-res-params grieg_lyric_pieces op12n01 DualStochasticBeamSearch 20 50\n",
      "\n",
      "stack run fullParse -- -n 1 -id 20230417230541_dual-stochastic-res-params grieg_lyric_pieces op12n01 DualStochasticBeamSearch 15 290stack run fullParse -- -n 1 -id 20230417230541_dual-stochastic-res-params grieg_lyric_pieces op12n01 DualStochasticBeamSearch 10 210stack run fullParse -- -n 1 -id 20230417230541_dual-stochastic-res-params grieg_lyric_pieces op12n01 DualStochasticBeamSearch 30 290stack run fullParse -- -n 1 -id 20230417230541_dual-stochastic-res-params grieg_lyric_pieces op12n01 DualStochasticBeamSearch 20 150stack run fullParse -- -n 1 -id 20230417230541_dual-stochastic-res-params grieg_lyric_pieces op12n01 DualStochasticBeamSearch 10 30\n",
      "stack run fullParse -- -n 1 -id 20230417230541_dual-stochastic-res-params grieg_lyric_pieces op12n01 DualStochasticBeamSearch 35 130stack run fullParse -- -n 1 -id 20230417230541_dual-stochastic-res-params grieg_lyric_pieces op12n01 DualStochasticBeamSearch 20 110stack run fullParse -- -n 1 -id 20230417230541_dual-stochastic-res-params grieg_lyric_pieces op12n01 DualStochasticBeamSearch 5 190\n",
      "stack run fullParse -- -n 1 -id 20230417230541_dual-stochastic-res-params grieg_lyric_pieces op12n01 DualStochasticBeamSearch 20 70\n",
      "stack run fullParse -- -n 1 -id 20230417230541_dual-stochastic-res-params grieg_lyric_pieces op12n01 DualStochasticBeamSearch 25 150\n",
      "stack run fullParse -- -n 1 -id 20230417230541_dual-stochastic-res-params grieg_lyric_pieces op12n01 DualStochasticBeamSearch 20 130\n",
      "\n",
      "\n",
      "\n",
      "\n",
      "\n",
      "\n",
      "\n",
      "\n",
      "\n",
      "\n",
      "\n",
      "\n",
      "\n",
      "\n",
      "\n",
      "\n",
      "\n",
      "\n",
      "stack run fullParse -- -n 1 -id 20230417230541_dual-stochastic-res-params grieg_lyric_pieces op12n01 DualStochasticBeamSearch 5 290\n",
      "stack run fullParse -- -n 1 -id 20230417230541_dual-stochastic-res-params grieg_lyric_pieces op12n01 DualStochasticBeamSearch 30 190\n",
      "stack run fullParse -- -n 1 -id 20230417230541_dual-stochastic-res-params grieg_lyric_pieces op12n01 DualStochasticBeamSearch 15 10\n",
      "stack run fullParse -- -n 1 -id 20230417230541_dual-stochastic-res-params grieg_lyric_pieces op12n01 DualStochasticBeamSearch 20 270\n",
      "stack run fullParse -- -n 1 -id 20230417230541_dual-stochastic-res-params grieg_lyric_pieces op12n01 DualStochasticBeamSearch 10 150\n",
      "stack run fullParse -- -n 1 -id 20230417230541_dual-stochastic-res-params grieg_lyric_pieces op12n01 DualStochasticBeamSearch 15 170\n",
      "stack run fullParse -- -n 1 -id 20230417230541_dual-stochastic-res-params grieg_lyric_pieces op12n01 DualStochasticBeamSearch 25 130\n",
      "stack run fullParse -- -n 1 -id 20230417230541_dual-stochastic-res-params grieg_lyric_pieces op12n01 DualStochasticBeamSearch 25 90\n",
      "stack run fullParse -- -n 1 -id 20230417230541_dual-stochastic-res-params grieg_lyric_pieces op12n01 DualStochasticBeamSearch 35 70\n",
      "stack run fullParse -- -n 1 -id 20230417230541_dual-stochastic-res-params grieg_lyric_pieces op12n01 DualStochasticBeamSearch 5 230\n",
      "stack run fullParse -- -n 1 -id 20230417230541_dual-stochastic-res-params grieg_lyric_pieces op12n01 DualStochasticBeamSearch 10 250\n",
      "stack run fullParse -- -n 1 -id 20230417230541_dual-stochastic-res-params grieg_lyric_pieces op12n01 DualStochasticBeamSearch 15 130\n",
      "stack run fullParse -- -n 1 -id 20230417230541_dual-stochastic-res-params grieg_lyric_pieces op12n01 DualStochasticBeamSearch 35 270\n",
      "stack run fullParse -- -n 1 -id 20230417230541_dual-stochastic-res-params grieg_lyric_pieces op12n01 DualStochasticBeamSearch 20 170\n",
      "stack run fullParse -- -n 1 -id 20230417230541_dual-stochastic-res-params grieg_lyric_pieces op12n01 DualStochasticBeamSearch 20 90\n",
      "stack run fullParse -- -n 1 -id 20230417230541_dual-stochastic-res-params grieg_lyric_pieces op12n01 DualStochasticBeamSearch 20 10\n",
      "stack run fullParse -- -n 1 -id 20230417230541_dual-stochastic-res-params grieg_lyric_pieces op12n01 DualStochasticBeamSearch 30 90\n",
      "stack run fullParse -- -n 1 -id 20230417230541_dual-stochastic-res-params grieg_lyric_pieces op12n01 DualStochasticBeamSearch 25 110\n",
      "stack run fullParse -- -n 1 -id 20230417230541_dual-stochastic-res-params grieg_lyric_pieces op12n01 DualStochasticBeamSearch 5 150\n",
      "stack run fullParse -- -n 1 -id 20230417230541_dual-stochastic-res-params grieg_lyric_pieces op12n01 DualStochasticBeamSearch 35 150\n",
      "stack run fullParse -- -n 1 -id 20230417230541_dual-stochastic-res-params grieg_lyric_pieces op12n01 DualStochasticBeamSearch 35 90\n",
      "stack run fullParse -- -n 1 -id 20230417230541_dual-stochastic-res-params grieg_lyric_pieces op12n01 DualStochasticBeamSearch 35 250\n",
      "stack run fullParse -- -n 1 -id 20230417230541_dual-stochastic-res-params grieg_lyric_pieces op12n01 DualStochasticBeamSearch 10 70\n",
      "stack run fullParse -- -n 1 -id 20230417230541_dual-stochastic-res-params grieg_lyric_pieces op12n01 DualStochasticBeamSearch 15 190\n",
      "stack run fullParse -- -n 1 -id 20230417230541_dual-stochastic-res-params grieg_lyric_pieces op12n01 DualStochasticBeamSearch 25 70\n",
      "stack run fullParse -- -n 1 -id 20230417230541_dual-stochastic-res-params grieg_lyric_pieces op12n01 DualStochasticBeamSearch 5 30\n",
      "stack run fullParse -- -n 1 -id 20230417230541_dual-stochastic-res-params grieg_lyric_pieces op12n01 DualStochasticBeamSearch 25 210\n",
      "stack run fullParse -- -n 1 -id 20230417230541_dual-stochastic-res-params grieg_lyric_pieces op12n01 DualStochasticBeamSearch 5 270\n",
      "stack run fullParse -- -n 1 -id 20230417230541_dual-stochastic-res-params grieg_lyric_pieces op12n01 DualStochasticBeamSearch 35 170\n",
      "stack run fullParse -- -n 1 -id 20230417230541_dual-stochastic-res-params grieg_lyric_pieces op12n01 DualStochasticBeamSearch 30 250\n",
      "stack run fullParse -- -n 1 -id 20230417230541_dual-stochastic-res-params grieg_lyric_pieces op12n01 DualStochasticBeamSearch 5 50\n",
      "stack run fullParse -- -n 1 -id 20230417230541_dual-stochastic-res-params grieg_lyric_pieces op12n01 DualStochasticBeamSearch 30 70\n",
      "stack run fullParse -- -n 1 -id 20230417230541_dual-stochastic-res-params grieg_lyric_pieces op12n01 DualStochasticBeamSearch 15 250\n",
      "stack run fullParse -- -n 1 -id 20230417230541_dual-stochastic-res-params grieg_lyric_pieces op12n01 DualStochasticBeamSearch 25 190\n",
      "stack run fullParse -- -n 1 -id 20230417230541_dual-stochastic-res-params grieg_lyric_pieces op12n01 DualStochasticBeamSearch 25 290\n",
      "stack run fullParse -- -n 1 -id 20230417230541_dual-stochastic-res-params grieg_lyric_pieces op12n01 DualStochasticBeamSearch 30 230\n",
      "stack run fullParse -- -n 1 -id 20230417230541_dual-stochastic-res-params grieg_lyric_pieces op12n01 DualStochasticBeamSearch 5 170\n",
      "stack run fullParse -- -n 1 -id 20230417230541_dual-stochastic-res-params grieg_lyric_pieces op12n01 DualStochasticBeamSearch 10 270\n",
      "stack run fullParse -- -n 1 -id 20230417230541_dual-stochastic-res-params grieg_lyric_pieces op12n01 DualStochasticBeamSearch 30 270\n",
      "stack run fullParse -- -n 1 -id 20230417230541_dual-stochastic-res-params grieg_lyric_pieces op12n01 DualStochasticBeamSearch 25 10\n",
      "stack run fullParse -- -n 1 -id 20230417230541_dual-stochastic-res-params grieg_lyric_pieces op12n01 DualStochasticBeamSearch 35 50\n",
      "stack run fullParse -- -n 1 -id 20230417230541_dual-stochastic-res-params grieg_lyric_pieces op12n01 DualStochasticBeamSearch 30 30\n",
      "stack run fullParse -- -n 1 -id 20230417230541_dual-stochastic-res-params grieg_lyric_pieces op12n01 DualStochasticBeamSearch 30 110\n",
      "stack run fullParse -- -n 1 -id 20230417230541_dual-stochastic-res-params grieg_lyric_pieces op12n01 DualStochasticBeamSearch 20 190\n",
      "stack run fullParse -- -n 1 -id 20230417230541_dual-stochastic-res-params grieg_lyric_pieces op12n01 DualStochasticBeamSearch 10 50\n",
      "stack run fullParse -- -n 1 -id 20230417230541_dual-stochastic-res-params grieg_lyric_pieces op12n01 DualStochasticBeamSearch 35 110\n",
      "stack run fullParse -- -n 1 -id 20230417230541_dual-stochastic-res-params grieg_lyric_pieces op12n01 DualStochasticBeamSearch 15 210\n",
      "stack run fullParse -- -n 1 -id 20230417230541_dual-stochastic-res-params grieg_lyric_pieces op12n01 DualStochasticBeamSearch 5 70\n",
      "stack run fullParse -- -n 1 -id 20230417230541_dual-stochastic-res-params grieg_lyric_pieces op12n01 DualStochasticBeamSearch 10 110\n",
      "stack run fullParse -- -n 1 -id 20230417230541_dual-stochastic-res-params grieg_lyric_pieces op12n01 DualStochasticBeamSearch 25 170\n",
      "stack run fullParse -- -n 1 -id 20230417230541_dual-stochastic-res-params grieg_lyric_pieces op12n01 DualStochasticBeamSearch 15 90\n",
      "stack run fullParse -- -n 1 -id 20230417230541_dual-stochastic-res-params grieg_lyric_pieces op12n01 DualStochasticBeamSearch 5 250\n",
      "stack run fullParse -- -n 1 -id 20230417230541_dual-stochastic-res-params grieg_lyric_pieces op12n01 DualStochasticBeamSearch 25 30\n",
      "stack run fullParse -- -n 1 -id 20230417230541_dual-stochastic-res-params grieg_lyric_pieces op12n01 DualStochasticBeamSearch 30 50\n",
      "stack run fullParse -- -n 1 -id 20230417230541_dual-stochastic-res-params grieg_lyric_pieces op12n01 DualStochasticBeamSearch 35 230\n",
      "stack run fullParse -- -n 1 -id 20230417230541_dual-stochastic-res-params grieg_lyric_pieces op12n01 DualStochasticBeamSearch 25 230\n",
      "stack run fullParse -- -n 1 -id 20230417230541_dual-stochastic-res-params grieg_lyric_pieces op12n01 DualStochasticBeamSearch 10 290\n",
      "stack run fullParse -- -n 1 -id 20230417230541_dual-stochastic-res-params grieg_lyric_pieces op12n01 DualStochasticBeamSearch 35 10\n",
      "stack run fullParse -- -n 1 -id 20230417230541_dual-stochastic-res-params grieg_lyric_pieces op12n01 DualStochasticBeamSearch 35 30\n",
      "stack run fullParse -- -n 1 -id 20230417230541_dual-stochastic-res-params grieg_lyric_pieces op12n01 DualStochasticBeamSearch 35 210\n",
      "stack run fullParse -- -n 1 -id 20230417230541_dual-stochastic-res-params grieg_lyric_pieces op12n01 DualStochasticBeamSearch 35 190\n",
      "stack run fullParse -- -n 1 -id 20230417230541_dual-stochastic-res-params grieg_lyric_pieces op12n01 DualStochasticBeamSearch 20 30\n",
      "stack run fullParse -- -n 1 -id 20230417230541_dual-stochastic-res-params grieg_lyric_pieces op12n01 DualStochasticBeamSearch 30 10\n",
      "stack run fullParse -- -n 1 -id 20230417230541_dual-stochastic-res-params grieg_lyric_pieces op12n01 DualStochasticBeamSearch 30 210\n",
      "stack run fullParse -- -n 1 -id 20230417230541_dual-stochastic-res-params grieg_lyric_pieces op12n01 DualStochasticBeamSearch 30 130\n",
      "stack run fullParse -- -n 1 -id 20230417230541_dual-stochastic-res-params grieg_lyric_pieces op12n01 DualStochasticBeamSearch 10 90\n",
      "stack run fullParse -- -n 1 -id 20230417230541_dual-stochastic-res-params grieg_lyric_pieces op12n01 DualStochasticBeamSearch 25 270\n",
      "stack run fullParse -- -n 1 -id 20230417230541_dual-stochastic-res-params grieg_lyric_pieces op12n01 DualStochasticBeamSearch 15 230\n",
      "stack run fullParse -- -n 1 -id 20230417230541_dual-stochastic-res-params grieg_lyric_pieces op12n01 DualStochasticBeamSearch 5 130\n",
      "stack run fullParse -- -n 1 -id 20230417230541_dual-stochastic-res-params grieg_lyric_pieces op12n01 DualStochasticBeamSearch 10 190\n",
      "stack run fullParse -- -n 1 -id 20230417230541_dual-stochastic-res-params grieg_lyric_pieces op12n01 DualStochasticBeamSearch 15 270\n",
      "stack run fullParse -- -n 1 -id 20230417230541_dual-stochastic-res-params grieg_lyric_pieces op12n01 DualStochasticBeamSearch 20 290\n",
      "stack run fullParse -- -n 1 -id 20230417230541_dual-stochastic-res-params grieg_lyric_pieces op12n01 DualStochasticBeamSearch 25 250\n",
      "stack run fullParse -- -n 1 -id 20230417230541_dual-stochastic-res-params grieg_lyric_pieces op12n01 DualStochasticBeamSearch 35 290\n",
      "stack run fullParse -- -n 1 -id 20230417230541_dual-stochastic-res-params grieg_lyric_pieces op12n01 DualStochasticBeamSearch 30 150\n",
      "stack run fullParse -- -n 1 -id 20230417230541_dual-stochastic-res-params grieg_lyric_pieces op12n01 DualStochasticBeamSearch 25 50\n",
      "stack run fullParse -- -n 1 -id 20230417230541_dual-stochastic-res-params grieg_lyric_pieces op12n01 DualStochasticBeamSearch 10 170\n"
     ]
    }
   ],
   "source": [
    "if __name__ == '__main__':\n",
    "    beamWidthRange = range (5,40,5)\n",
    "    reservoirSizeRange = range(10,300,20)\n",
    "    dual_stochastic_res_experiment([(\"grieg_lyric_pieces\", \"op12n08\")],beamWidthRange,reservoirSizeRange, iterations=1,threads=28)"
   ]
  },
  {
   "cell_type": "code",
   "execution_count": 7,
   "metadata": {
    "tags": []
   },
   "outputs": [],
   "source": [
    "#if __name__ == '__main__':\n",
    "    #algo_experiment()\n",
    "    #beamwidth_experiment()"
   ]
  },
  {
   "cell_type": "code",
   "execution_count": null,
   "metadata": {},
   "outputs": [],
   "source": []
  }
 ],
 "metadata": {
  "anaconda-cloud": {},
  "kernelspec": {
   "display_name": "Python 3 (ipykernel)",
   "language": "python",
   "name": "python3"
  },
  "language_info": {
   "codemirror_mode": {
    "name": "ipython",
    "version": 3
   },
   "file_extension": ".py",
   "mimetype": "text/x-python",
   "name": "python",
   "nbconvert_exporter": "python",
   "pygments_lexer": "ipython3",
   "version": "3.10.0"
  }
 },
 "nbformat": 4,
 "nbformat_minor": 4
}
