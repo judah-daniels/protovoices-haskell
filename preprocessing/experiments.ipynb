{
 "cells": [
  {
   "cell_type": "markdown",
   "metadata": {
    "jukit_cell_id": "2m02J4WyK4"
   },
   "source": [
    "# Imports"
   ]
  },
  {
   "cell_type": "code",
   "execution_count": 39,
   "metadata": {
    "jukit_cell_id": "YcC0bncuM6",
    "tags": []
   },
   "outputs": [],
   "source": [
    "import subprocess\n",
    "import json\n",
    "from pathlib import Path\n",
    "from glob2 import glob\n",
    "import os\n",
    "from multiprocessing import Pool\n",
    "from datetime import datetime\n",
    "from uuid import uuid4"
   ]
  },
  {
   "cell_type": "markdown",
   "metadata": {
    "jukit_cell_id": "KKwSV9K5Nd"
   },
   "source": [
    "# Functions"
   ]
  },
  {
   "cell_type": "code",
   "execution_count": 40,
   "metadata": {
    "jukit_cell_id": "Jaacso6eM3",
    "tags": []
   },
   "outputs": [],
   "source": [
    "def runFullParse (inputPiece, iterations=5):\n",
    "    (corpus, piece) = inputPiece\n",
    "    jsonPath = \"outputs/\"+corpus+\"/\"+piece+\".json\"\n",
    "    cmd = [\"stack\",\"run\",\"fullParse\",\"--\",\"-n\",str(iterations), corpus, piece, \"All\"] \n",
    "    print(\"Running command: \" + (\" \".join(cmd)))\n",
    "    print(\"Expecting results in \" + jsonPath)\n",
    "    \n",
    "    #res = subprocess.run(cmd, cwd=\"..\")\n",
    "    #res = subprocess.run(cmd, stdout=subprocess.PIPE, stderr=subprocess.PIPE, cwd=\"..\")\n",
    "    res = subprocess.run(cmd,stderr=subprocess.PIPE, cwd=\"..\")\n",
    "\n",
    "    if res.returncode != 0:\n",
    "        print(\"Error in subprocess:\")\n",
    "        print(res.stderr)\n",
    "        return;\n",
    "    else:\n",
    "        f = open(jsonPath)\n",
    "        results = json.load(f)\n",
    "        f.close()\n",
    "        return results\n",
    "     \n",
    "def get_corpus_pieces(corpus):\n",
    "    return sorted (os.path.basename(d).split(\".\")[0] for d in glob(\"inputs/slices/\"+corpus+\"/*.csv\"))\n",
    "\n",
    "def get_corpi():\n",
    "    return [os.path.basename(d) for d in glob(\"inputs/slices/*\")]\n",
    "\n",
    "def run_experiment():\n",
    "    corpi = get_corpi()\n",
    "    for corpus in corpi:\n",
    "        pieces = get_corpus_pieces(corpus)\n",
    "        for piece in pieces:\n",
    "            runFullParse((corpus, piece))"
   ]
  },
  {
   "cell_type": "code",
   "execution_count": 41,
   "metadata": {
    "tags": []
   },
   "outputs": [],
   "source": [
    "def algo_experiment():\n",
    "    commands = []\n",
    "    corpi = get_corpi()\n",
    "    for corpus in corpi:\n",
    "        pieces = get_corpus_pieces(corpus)\n",
    "        for piece in pieces:\n",
    "            for algorithm in [\"RandomWalk\", \"RandomSample\", \"RandomReduction\"]:\n",
    "                commands.append([ corpus, piece, algorithm])\n",
    "\n",
    "    run_Experiment(commands)\n"
   ]
  },
  {
   "cell_type": "code",
   "execution_count": 42,
   "metadata": {
    "tags": []
   },
   "outputs": [],
   "source": [
    "def run_Experiment(commands):\n",
    "    id = datetime.now().strftime('%Y%m-%d%H-%M%S-') + str(uuid4())\n",
    "\n",
    "    commands = [ [\"stack\",\"run\",\"fullParse\",\"--\",\"-n\",str(1), \"-id\", str(id)] + command for command in commands]\n",
    "    with Pool(10) as p:\n",
    "        p.map(run_command, commands)\n"
   ]
  },
  {
   "cell_type": "code",
   "execution_count": 43,
   "metadata": {
    "tags": []
   },
   "outputs": [],
   "source": [
    "def run_command(command):\n",
    "    print(\"\\nRunning command: \" + (\" \".join(command)))    \n",
    "    #res = subprocess.run(cmd, cwd=\"..\")\n",
    "    #res = subprocess.run(cmd, stdout=subprocess.PIPE, stderr=subprocess.PIPE, cwd=\"..\")\n",
    "    res = subprocess.run(command,stderr=subprocess.PIPE, cwd=\"..\")\n",
    "\n",
    "    if res.returncode != 0:\n",
    "        print(\"Error in subprocess:\")\n",
    "        print(res.stderr)\n",
    "        return;\n"
   ]
  },
  {
   "cell_type": "markdown",
   "metadata": {
    "jukit_cell_id": "d0ifs7vsg1"
   },
   "source": [
    "# Run Experiments"
   ]
  },
  {
   "cell_type": "code",
   "execution_count": null,
   "metadata": {
    "jukit_cell_id": "eHdRDnhify",
    "tags": []
   },
   "outputs": [
    {
     "name": "stdout",
     "output_type": "stream",
     "text": [
      "\n",
      "Running command: stack run fullParse -- -n 1 -id 202304-1615-1815-a93d54f4-39ee-4d28-999e-27efc6f7d122 ABC n01op18-1_01 RandomWalk\n",
      "Running command: stack run fullParse -- -n 1 -id 202304-1615-1815-a93d54f4-39ee-4d28-999e-27efc6f7d122 ABC n02op18-2_02 RandomSample\n",
      "Running command: stack run fullParse -- -n 1 -id 202304-1615-1815-a93d54f4-39ee-4d28-999e-27efc6f7d122 ABC n03op18-3_03 RandomReduction\n",
      "Running command: stack run fullParse -- -n 1 -id 202304-1615-1815-a93d54f4-39ee-4d28-999e-27efc6f7d122 ABC n05op18-5_01 RandomWalk\n",
      "Running command: stack run fullParse -- -n 1 -id 202304-1615-1815-a93d54f4-39ee-4d28-999e-27efc6f7d122 ABC n06op18-6_02 RandomSample\n",
      "Running command: stack run fullParse -- -n 1 -id 202304-1615-1815-a93d54f4-39ee-4d28-999e-27efc6f7d122 ABC n09op59-3_01 RandomWalk\n",
      "Running command: stack run fullParse -- -n 1 -id 202304-1615-1815-a93d54f4-39ee-4d28-999e-27efc6f7d122 ABC n10op74_02 RandomSample\n",
      "Running command: stack run fullParse -- -n 1 -id 202304-1615-1815-a93d54f4-39ee-4d28-999e-27efc6f7d122 ABC n07op59-1_03 RandomReduction\n",
      "Running command: stack run fullParse -- -n 1 -id 202304-1615-1815-a93d54f4-39ee-4d28-999e-27efc6f7d122 ABC n13op130_01 RandomWalk\n",
      "Running command: stack run fullParse -- -n 1 -id 202304-1615-1815-a93d54f4-39ee-4d28-999e-27efc6f7d122 ABC n11op95_03 RandomReduction\n",
      "\n",
      "\n",
      "\n",
      "\n",
      "\n",
      "\n",
      "\n",
      "\n",
      "\n",
      "\n",
      "Running command: stack run fullParse -- -n 1 -id 202304-1615-1815-a93d54f4-39ee-4d28-999e-27efc6f7d122 ABC n02op18-2_02 RandomReduction\n",
      "\n",
      "Running command: stack run fullParse -- -n 1 -id 202304-1615-1815-a93d54f4-39ee-4d28-999e-27efc6f7d122 ABC n06op18-6_02 RandomReduction\n",
      "Error in subprocess:\n",
      "b'15:18:16 [INFO] Running Random Sample SBS Parse...\\nempty multinomial\\n15:18:16 [INFO] Running Random Sample SBS Parse...done [0.001021083s]\\nfullParse: [DM,DM,D+,F\\xe2\\x99\\xaf\\xe2\\x99\\xafM,Em,AMm7,AMm7,DM,AM,AM,DM,Bm,Bm,E\\xe2\\x99\\xafo7,F\\xe2\\x99\\xafm,F\\xe2\\x99\\xafm,A\\xe2\\x99\\xafMm7,A\\xe2\\x99\\xafMm7,F\\xe2\\x99\\xafm,BMm7,BM,BMm7,Em,Em,DMm7,DM,DMm7,DMm7,F\\xe2\\x99\\xaf\\xe2\\x99\\xafM,F\\xe2\\x99\\xaf\\xe2\\x99\\xaf+,AM,Am,DMm7,DMm7,F\\xe2\\x99\\xaf\\xe2\\x99\\xafM,DM,DM,D+,F\\xe2\\x99\\xaf\\xe2\\x99\\xafM,AMm7,DM,DM,AMm7,DM,DM,Emm7,E\\xe2\\x99\\xafo7,DM,DM,D+,F\\xe2\\x99\\xaf\\xe2\\x99\\xafM,E\\xe2\\x99\\xafGer,F\\xe2\\x99\\xafM,Em,AMm7,AMm7,DM,Em,Em,AMm7,DM,DM,AM,AMm7,DM,DM,DM,DMm7,BM,BM,Em,Do7,Em,G\\xe2\\x99\\xafo7,AM,DM,AM,Bm,F\\xe2\\x99\\xaf\\xe2\\x99\\xafM,F\\xe2\\x99\\xafm,F\\xe2\\x99\\xaf\\xe2\\x99\\xafM,Em,DM,Em,A\\xe2\\x99\\xafo7,Bm,EMm7,DM,AMm7,DM,A\\xe2\\x99\\xafo,Bm,EMm7,DM,AMm7,DM,AMm7,AMm7,DM,F\\xe2\\x99\\xaf\\xe2\\x99\\xafM,DM,AMm7,DM,AMm7,DM,Bmm7,AM,F\\xe2\\x99\\xaf\\xe2\\x99\\xafM,DM,AMm7,DM,DM,Dm,Dm,Am,F\\xe2\\x99\\xaf\\xe2\\x99\\xafm,G\\xe2\\x99\\xafGer,AM,Dm,Am,F\\xe2\\x99\\xaf\\xe2\\x99\\xafm,G\\xe2\\x99\\xafGer,AM,Dm,D\\xe2\\x99\\xafo7,EM,EMm7,Am,D\\xe2\\x99\\xafm,Am,F\\xe2\\x99\\xafo,F\\xe2\\x99\\xafo,F\\xe2\\x99\\xaf\\xe2\\x99\\xafm,F\\xe2\\x99\\xaf\\xe2\\x99\\xafm,Dm,A\\xe2\\x99\\xafo,A\\xe2\\x99\\xafo,Dm,Dm,Am,F\\xe2\\x99\\xaf\\xe2\\x99\\xafm,G\\xe2\\x99\\xafGer,AM,F\\xe2\\x99\\xaf\\xe2\\x99\\xafm,G\\xe2\\x99\\xafGer,AM,F\\xe2\\x99\\xaf\\xe2\\x99\\xafm,G\\xe2\\x99\\xafGer,AM,AMm7,DM,DM,D+,Em,Em,AMm7,AMm7,DM,AM,AM,DM,Bm,Bm,E\\xe2\\x99\\xafo7,F\\xe2\\x99\\xafm,F\\xe2\\x99\\xafm,A\\xe2\\x99\\xafMm7,A\\xe2\\x99\\xafMm7,F\\xe2\\x99\\xafm,DM,D+,F\\xe2\\x99\\xaf\\xe2\\x99\\xafM,Em,AMm7,AMm7,DM,AM,AM,DM,Bm,Bm,Bm,F\\xe2\\x99\\xafm,A\\xe2\\x99\\xafM,A\\xe2\\x99\\xafM,F\\xe2\\x99\\xafm,BMm7,BM,D\\xe2\\x99\\xafo,Em,Em,DMm7,DMm7,DMm7,F\\xe2\\x99\\xaf\\xe2\\x99\\xafM,F\\xe2\\x99\\xaf\\xe2\\x99\\xafM,F\\xe2\\x99\\xaf\\xe2\\x99\\xaf+,Am,Am,DMm7,DMm7,F\\xe2\\x99\\xaf\\xe2\\x99\\xafM,DM,DM,D+,F\\xe2\\x99\\xaf\\xe2\\x99\\xafM,F\\xe2\\x99\\xaf\\xe2\\x99\\xafM,A\\xe2\\x99\\xafo,DM,DM,AM,AM,AM,Emm7,A\\xe2\\x99\\xafo7,DM,DM,D+,F\\xe2\\x99\\xaf\\xe2\\x99\\xafM,E\\xe2\\x99\\xafGer,F\\xe2\\x99\\xafM,Em,AMm7,AMm7,DM,Em,Em,AMm7,DM,DM,AM,AMm7,DM,DM,DM,DMm7,BM,BM,Em,D\\xe2\\x99\\xafo7,Em,G\\xe2\\x99\\xafo7,AM,DM,AM,Bm,F\\xe2\\x99\\xaf\\xe2\\x99\\xafM,F\\xe2\\x99\\xafm,F\\xe2\\x99\\xaf\\xe2\\x99\\xafM,Em,DM,Em,A\\xe2\\x99\\xafo,Bm,EMm7,DM,AMm7,A\\xe2\\x99\\xafo,Bm,EMm7,DM,AMm7,DM,AMm7,DM,AMm7,DM,AMm7,DM,AMm7,DM,Bmm7,AM,F\\xe2\\x99\\xaf\\xe2\\x99\\xafM,DM,AMm7,DM,DM][F\\xe2\\x99\\xafM,DM,F\\xe2\\x99\\xafM,GM,GM,DM,C\\xe2\\x99\\xafo,DM,DM,F\\xe2\\x99\\xafM,DM,GM,BM,GM,F\\xe2\\x99\\xafm,F\\xe2\\x99\\xafM,C\\xe2\\x99\\xafM,G\\xe2\\x99\\xafM,F\\xe2\\x99\\xafm,BM,GM,D\\xe2\\x99\\xafo,GM,Em,DMm7,DM,CM,Bm,GM,GM,CM,Am,DMm7,DMm7,GM,GM,DM,DM,GM,AMm7,AM,DM,EM,GM,F\\xe2\\x99\\xafM,GM,E\\xe2\\x99\\xafo7,G\\xe2\\x99\\xafo,DM,A\\xe2\\x99\\xafM,DM,E\\xe2\\x99\\xafM,F\\xe2\\x99\\xafM,Em,DM,AMm7,DM,F\\xe2\\x99\\xafM,CM,AMm7,DM,Em,AM,C\\xe2\\x99\\xafo,GM,DM,DM,DMm7,D\\xe2\\x99\\xafo7,D\\xe2\\x99\\xafM,EM,D\\xe2\\x99\\xafo,GM,G\\xe2\\x99\\xafo,AM,DM,AM,BMm7,DM,DM,GM,AM,DM,GM,A\\xe2\\x99\\xafo7,DM,EM,AM,AMm7,DM,F\\xe2\\x99\\xafM,Bm,EMm7,DM,DM,DM,AMm7,CM,DM,BM,F\\xe2\\x99\\xafm,Em,DM,AMm7,DM,GM,AM,GM,GM,AMm7,AMm7,DM,AM,AM,EM,B\\xe2\\x99\\xadM,DM,AM,Dm,Am,B\\xe2\\x99\\xadM,EMm7,AM,Dm,DM,CM,EMm7,AM,Cm,GM,CMm7,CM,GM,B\\xe2\\x99\\xadM,Dm,Em,AMm7,DM,FM,EM,B\\xe2\\x99\\xadM,EMm7,AM,B\\xe2\\x99\\xadM,EMm7,AM,DM,B\\xe2\\x99\\xadM,AM,AM,DM,DM,GM,CM,GM,CM,DM,DM,F\\xe2\\x99\\xafMm7,GM,GM,Bm,GM,AM,DM,AM,EM,F\\xe2\\x99\\xafm,AM,D+,GM,GM,DM,AMm7,DM,DM,F\\xe2\\x99\\xafMm7,DM,GM,Bm,C\\xe2\\x99\\xafMm7,F\\xe2\\x99\\xafM,C\\xe2\\x99\\xafM,C\\xe2\\x99\\xafM,F\\xe2\\x99\\xafm,BMm7,Em,D\\xe2\\x99\\xafo,AMm7,EM,DM,EMm7,DM,BM,GM,BM,CM,Am,GM,DM,GM,GM,DM,DM,CM,BM,C\\xe2\\x99\\xafm,AM,DM,AM,GM,F\\xe2\\x99\\xafM,GM,EMm7,G\\xe2\\x99\\xafo,F\\xe2\\x99\\xafm,A\\xe2\\x99\\xafM,BM,C\\xe2\\x99\\xafMm7,F\\xe2\\x99\\xafM,EM,DM,AMm7,DM,GM,CM,AMm7,DM,BM,AM,C\\xe2\\x99\\xafM,GM,DM,DM,DMm7,D\\xe2\\x99\\xafm,BM,CM,BMm7,GM,EMm7,AM,DM,AM,Bm,GM,F\\xe2\\x99\\xafm,GM,GM,AM,GM,A\\xe2\\x99\\xafo7,Bm,G\\xe2\\x99\\xafo,DM,AMm7,AM,Bm,EMm7,AM,GM,DM,AMm7,AM,C\\xe2\\x99\\xafo,GM,Em,DM,AM,DM,GM,C\\xe2\\x99\\xafM,GM,GM,AMm7,AMm7,DM]\\nCallStack (from HasCallStack):\\n  error, called at src/HeuristicParser.hs:639:20 in proto-voice-model-0.1.0.0-CvtZlN7QliYC5FPYvXh3BX:HeuristicParser\\n'\n",
      "\n",
      "Running command: stack run fullParse -- -n 1 -id 202304-1615-1815-a93d54f4-39ee-4d28-999e-27efc6f7d122 ABC n03op18-3_04 RandomWalk\n",
      "\n",
      "Running command: stack run fullParse -- -n 1 -id 202304-1615-1815-a93d54f4-39ee-4d28-999e-27efc6f7d122 ABC n10op74_02 RandomReduction\n",
      "\n",
      "Running command: stack run fullParse -- -n 1 -id 202304-1615-1815-a93d54f4-39ee-4d28-999e-27efc6f7d122 ABC n11op95_04 RandomWalk\n",
      "\n",
      "Running command: stack run fullParse -- -n 1 -id 202304-1615-1815-a93d54f4-39ee-4d28-999e-27efc6f7d122 ABC n07op59-1_04 RandomWalk\n",
      "\n",
      "Running command: stack run fullParse -- -n 1 -id 202304-1615-1815-a93d54f4-39ee-4d28-999e-27efc6f7d122 ABC n02op18-2_03 RandomWalk\n",
      "\n",
      "Running command: stack run fullParse -- -n 1 -id 202304-1615-1815-a93d54f4-39ee-4d28-999e-27efc6f7d122 ABC n06op18-6_03 RandomWalk\n",
      "\n",
      "Running command: stack run fullParse -- -n 1 -id 202304-1615-1815-a93d54f4-39ee-4d28-999e-27efc6f7d122 ABC n10op74_03 RandomWalk\n",
      "\n",
      "Running command: stack run fullParse -- -n 1 -id 202304-1615-1815-a93d54f4-39ee-4d28-999e-27efc6f7d122 ABC n06op18-6_03 RandomSample\n",
      "\"Parse Stuck! Perhaps the number of chords and segments are not the same?\"\n",
      "\n",
      "Running command: stack run fullParse -- -n 1 -id 202304-1615-1815-a93d54f4-39ee-4d28-999e-27efc6f7d122 ABC n02op18-2_03 RandomSample\n",
      "\n",
      "Running command: stack run fullParse -- -n 1 -id 202304-1615-1815-a93d54f4-39ee-4d28-999e-27efc6f7d122 ABC n06op18-6_03 RandomReduction\n",
      "\n",
      "Running command: stack run fullParse -- -n 1 -id 202304-1615-1815-a93d54f4-39ee-4d28-999e-27efc6f7d122 ABC n02op18-2_03 RandomReduction\n",
      "Error in subprocess:\n",
      "b'15:18:33 [INFO] Running Random Sample SBS Parse...\\n15:18:33 [INFO] Running Random Sample SBS Parse...done [0.000455549s]\\nempty multinomial\\nfullParse: [B\\xe2\\x99\\xadM,FMm7,B\\xe2\\x99\\xadM,B\\xe2\\x99\\xadM,FMm7,B\\xe2\\x99\\xadM,B\\xe2\\x99\\xadM,FMm7,B\\xe2\\x99\\xadM,FM,B\\xe2\\x99\\xadM,B\\xe2\\x99\\xadM,FMm7,B\\xe2\\x99\\xadM,Cm,FM,F\\xe2\\x99\\xaf%7,Bo,Cm,Cm,F\\xe2\\x99\\xafo7,Gm,Cm,Cm,Cm,Cm,FMm7,FMm7,B\\xe2\\x99\\xadM,DM,Gm,C\\xe2\\x99\\xafo7,DM,GMm7,CM,Bo7,CM,FMm7,B\\xe2\\x99\\xadM,B\\xe2\\x99\\xad+,Cm,GM,Cm,GMm7,Cm,GM,Cm,Bo,Cm,CMm7,FM,FMm7,B\\xe2\\x99\\xadM,Eo,FM,FMm7,B\\xe2\\x99\\xadm,Eo,FM,FM,FMm7,FMm7,B\\xe2\\x99\\xadM,FM,B\\xe2\\x99\\xadM,FM,B\\xe2\\x99\\xadM,FM,F\\xe2\\x99\\xaf%7,Bo,Cm,Cm,F\\xe2\\x99\\xafo7,Gm,Cm,Cm,Cm,Cm,FMm7,FMm7,B\\xe2\\x99\\xadM,B\\xe2\\x99\\xadMm7,B\\xe2\\x99\\xad+,D\\xe2\\x99\\xafM,C\\xe2\\x99\\xafo,B\\xe2\\x99\\xadM,B\\xe2\\x99\\xadM,B\\xe2\\x99\\xadM,FMm7,B\\xe2\\x99\\xadM,B\\xe2\\x99\\xadMm7,D\\xe2\\x99\\xafM,D\\xe2\\x99\\xafM,Eo,C\\xe2\\x99\\xafo7,B\\xe2\\x99\\xadM,Eo,Eo,Eo,B\\xe2\\x99\\xadM,Eo,C\\xe2\\x99\\xafo7,B\\xe2\\x99\\xadM,C\\xe2\\x99\\xafo7,B\\xe2\\x99\\xadM,C\\xe2\\x99\\xafo7,B\\xe2\\x99\\xadM,C\\xe2\\x99\\xafo7,B\\xe2\\x99\\xadM,CMm7,FMm7,B\\xe2\\x99\\xadM,FMm7,B\\xe2\\x99\\xadMm7,D\\xe2\\x99\\xafM,B\\xe2\\x99\\xadMm7,D\\xe2\\x99\\xafM,D\\xe2\\x99\\xafM,FMm7,FMm7,F\\xe2\\x99\\xafM,F\\xe2\\x99\\xafM,EGer,FM,FMm7,FMm7,B\\xe2\\x99\\xadM,B\\xe2\\x99\\xadM,B\\xe2\\x99\\xadM,FMm7,B\\xe2\\x99\\xadM,FMm7,B\\xe2\\x99\\xadM,FM,B\\xe2\\x99\\xadM,B\\xe2\\x99\\xadM,D\\xe2\\x99\\xafM,B\\xe2\\x99\\xadM,D\\xe2\\x99\\xafM,FMm7,B\\xe2\\x99\\xadM,GMm7,GMm7,GMm7,Cm,Dm,FMm7,FMm7,B\\xe2\\x99\\xadM,B\\xe2\\x99\\xadM,B\\xe2\\x99\\xadM,B\\xe2\\x99\\xadMm7,D\\xe2\\x99\\xafM,B\\xe2\\x99\\xadM,Cm,FMm7,B\\xe2\\x99\\xadM,B\\xe2\\x99\\xadm,B\\xe2\\x99\\xadm,B\\xe2\\x99\\xadm,B\\xe2\\x99\\xadm,B\\xe2\\x99\\xadm,B\\xe2\\x99\\xadm,B\\xe2\\x99\\xadm,FMm7,B\\xe2\\x99\\xadm][FM,FM,FM,B\\xe2\\x99\\xadM,A\\xe2\\x99\\xadM,E\\xe2\\x99\\xadM,B\\xe2\\x99\\xadM,FM,B\\xe2\\x99\\xadM,CM,FM,B\\xe2\\x99\\xadM,FM,B\\xe2\\x99\\xadM,GM,FM,Cm,B\\xe2\\x99\\xadM,FM,Cm,DMm7,Gm,GM,Cm,E\\xe2\\x99\\xadM,CM,A\\xe2\\x99\\xadM,FM,B\\xe2\\x99\\xadM,DM,Gm,C\\xe2\\x99\\xafo7,DM,FM,GM,Bo7,GM,FMm7,B\\xe2\\x99\\xadM,B\\xe2\\x99\\xad+,E\\xe2\\x99\\xadM,GM,Cm,GMm7,GM,GM,E\\xe2\\x99\\xadM,GMm7,Cm,CMm7,FM,FMm7,B\\xe2\\x99\\xadM,B\\xe2\\x99\\xadM,FM,FMm7,D\\xe2\\x99\\xadM,B\\xe2\\x99\\xadM,Am,FM,FMm7,FMm7,FMm7,CMm7,Dm,B\\xe2\\x99\\xadM,DMm7,FM,AMm7,GM,FM,E\\xe2\\x99\\xadM,F\\xe2\\x99\\xafo7,E\\xe2\\x99\\xadM,E\\xe2\\x99\\xadMM7,CM,GM,CM,FMm7,B\\xe2\\x99\\xadM,B\\xe2\\x99\\xadM,B\\xe2\\x99\\xadMm7,B\\xe2\\x99\\xadM,E\\xe2\\x99\\xadM,C\\xe2\\x99\\xafo7,C\\xe2\\x99\\xafM,B\\xe2\\x99\\xadM,B\\xe2\\x99\\xadM,FMm7,B\\xe2\\x99\\xadM,B\\xe2\\x99\\xad+7,DM,GM,GMm7,CMm7,B\\xe2\\x99\\xadM,B\\xe2\\x99\\xadM,FM,FM,CM,C\\xe2\\x99\\xafo,B\\xe2\\x99\\xadM,AM,Dm,C\\xe2\\x99\\xafo7,B\\xe2\\x99\\xadM,AM,B\\xe2\\x99\\xadM,CM,FMm7,Dm,AM,B\\xe2\\x99\\xadM,B\\xe2\\x99\\xadM,B\\xe2\\x99\\xadM,B\\xe2\\x99\\xadM,E\\xe2\\x99\\xadM,Cm,FMm7,B\\xe2\\x99\\xadm,B\\xe2\\x99\\xadm,G\\xe2\\x99\\xadM,B\\xe2\\x99\\xadM,Ao,FM,B\\xe2\\x99\\xadM,B\\xe2\\x99\\xadM,CMm7,FMm7,B\\xe2\\x99\\xadM,FMm7,B\\xe2\\x99\\xadM,FM,Dm,B\\xe2\\x99\\xadM,E\\xe2\\x99\\xadM,B\\xe2\\x99\\xadM,E\\xe2\\x99\\xadM,FMm7,B\\xe2\\x99\\xadM,FM,GMm7,GM,E\\xe2\\x99\\xadM,B\\xe2\\x99\\xadM,FM,Dm,B\\xe2\\x99\\xadM,Gm,B\\xe2\\x99\\xadM,B\\xe2\\x99\\xadMm7,Gm,B\\xe2\\x99\\xadM,Cm,FMm7,B\\xe2\\x99\\xadM,D\\xe2\\x99\\xadMM7,FM,B\\xe2\\x99\\xadm,D\\xe2\\x99\\xadM,B\\xe2\\x99\\xadM,CMm7,B\\xe2\\x99\\xadm,FM,B\\xe2\\x99\\xadM]\\nCallStack (from HasCallStack):\\n  error, called at src/HeuristicParser.hs:639:20 in proto-voice-model-0.1.0.0-CvtZlN7QliYC5FPYvXh3BX:HeuristicParser\\n'\n",
      "\n",
      "Running command: stack run fullParse -- -n 1 -id 202304-1615-1815-a93d54f4-39ee-4d28-999e-27efc6f7d122 ABC n06op18-6_04 RandomWalk\n",
      "\n",
      "Running command: stack run fullParse -- -n 1 -id 202304-1615-1815-a93d54f4-39ee-4d28-999e-27efc6f7d122 ABC n02op18-2_04 RandomWalk\n",
      "\n",
      "Running command: stack run fullParse -- -n 1 -id 202304-1615-1815-a93d54f4-39ee-4d28-999e-27efc6f7d122 ABC n03op18-3_04 RandomSample\n",
      "\n",
      "Running command: stack run fullParse -- -n 1 -id 202304-1615-1815-a93d54f4-39ee-4d28-999e-27efc6f7d122 ABC n05op18-5_01 RandomSample\n",
      "\n",
      "Running command: stack run fullParse -- -n 1 -id 202304-1615-1815-a93d54f4-39ee-4d28-999e-27efc6f7d122 ABC n05op18-5_01 RandomReduction\n",
      "\n",
      "Running command: stack run fullParse -- -n 1 -id 202304-1615-1815-a93d54f4-39ee-4d28-999e-27efc6f7d122 ABC n03op18-3_04 RandomReduction\n",
      "\n",
      "Running command: stack run fullParse -- -n 1 -id 202304-1615-1815-a93d54f4-39ee-4d28-999e-27efc6f7d122 ABC n02op18-2_04 RandomSample\n",
      "\n",
      "Running command: stack run fullParse -- -n 1 -id 202304-1615-1815-a93d54f4-39ee-4d28-999e-27efc6f7d122 ABC n05op18-5_02 RandomWalk\n",
      "\n",
      "Running command: stack run fullParse -- -n 1 -id 202304-1615-1815-a93d54f4-39ee-4d28-999e-27efc6f7d122 ABC n04op18-4_01 RandomWalk\n",
      "\n",
      "Running command: stack run fullParse -- -n 1 -id 202304-1615-1815-a93d54f4-39ee-4d28-999e-27efc6f7d122 ABC n02op18-2_04 RandomReduction\n",
      "\n",
      "Running command: stack run fullParse -- -n 1 -id 202304-1615-1815-a93d54f4-39ee-4d28-999e-27efc6f7d122 ABC n03op18-3_01 RandomWalk\n",
      "\n",
      "Running command: stack run fullParse -- -n 1 -id 202304-1615-1815-a93d54f4-39ee-4d28-999e-27efc6f7d122 ABC n05op18-5_02 RandomSample\n",
      "\n",
      "Running command: stack run fullParse -- -n 1 -id 202304-1615-1815-a93d54f4-39ee-4d28-999e-27efc6f7d122 ABC n05op18-5_02 RandomReduction\n",
      "\n",
      "Running command: stack run fullParse -- -n 1 -id 202304-1615-1815-a93d54f4-39ee-4d28-999e-27efc6f7d122 ABC n05op18-5_03 RandomWalk\n",
      "\n",
      "Running command: stack run fullParse -- -n 1 -id 202304-1615-1815-a93d54f4-39ee-4d28-999e-27efc6f7d122 ABC n09op59-3_01 RandomSample\n",
      "\n",
      "Running command: stack run fullParse -- -n 1 -id 202304-1615-1815-a93d54f4-39ee-4d28-999e-27efc6f7d122 ABC n06op18-6_04 RandomSample\n",
      "\n",
      "Running command: stack run fullParse -- -n 1 -id 202304-1615-1815-a93d54f4-39ee-4d28-999e-27efc6f7d122 ABC n09op59-3_01 RandomReduction\n",
      "\n",
      "Running command: stack run fullParse -- -n 1 -id 202304-1615-1815-a93d54f4-39ee-4d28-999e-27efc6f7d122 ABC n06op18-6_04 RandomReduction\n",
      "\n",
      "Running command: stack run fullParse -- -n 1 -id 202304-1615-1815-a93d54f4-39ee-4d28-999e-27efc6f7d122 ABC n07op59-1_01 RandomWalk\n",
      "\n",
      "Running command: stack run fullParse -- -n 1 -id 202304-1615-1815-a93d54f4-39ee-4d28-999e-27efc6f7d122 ABC n09op59-3_02 RandomWalk\n",
      "\n",
      "Running command: stack run fullParse -- -n 1 -id 202304-1615-1815-a93d54f4-39ee-4d28-999e-27efc6f7d122 ABC n09op59-3_02 RandomSample\n",
      "\n",
      "Running command: stack run fullParse -- -n 1 -id 202304-1615-1815-a93d54f4-39ee-4d28-999e-27efc6f7d122 ABC n09op59-3_02 RandomReduction\n",
      "\n",
      "Running command: stack run fullParse -- -n 1 -id 202304-1615-1815-a93d54f4-39ee-4d28-999e-27efc6f7d122 ABC n09op59-3_03 RandomWalk\n",
      "\n",
      "Running command: stack run fullParse -- -n 1 -id 202304-1615-1815-a93d54f4-39ee-4d28-999e-27efc6f7d122 ABC n09op59-3_03 RandomSample\n",
      "\"Parse Stuck! Perhaps the number of chords and segments are not the same?\"\n",
      "\n",
      "Running command: stack run fullParse -- -n 1 -id 202304-1615-1815-a93d54f4-39ee-4d28-999e-27efc6f7d122 ABC n13op130_01 RandomSample\n",
      "\n",
      "Running command: stack run fullParse -- -n 1 -id 202304-1615-1815-a93d54f4-39ee-4d28-999e-27efc6f7d122 ABC n09op59-3_03 RandomReduction\n",
      "\n",
      "Running command: stack run fullParse -- -n 1 -id 202304-1615-1815-a93d54f4-39ee-4d28-999e-27efc6f7d122 ABC n09op59-3_04 RandomWalk\n",
      "\n",
      "Running command: stack run fullParse -- -n 1 -id 202304-1615-1815-a93d54f4-39ee-4d28-999e-27efc6f7d122 ABC n13op130_01 RandomReduction\n",
      "Error in subprocess:\n",
      "b'15:21:28 [INFO] Running Random Sample SBS Parse...\\nempty multinomial\\n15:21:28 [INFO] Running Random Sample SBS Parse...done [0.012240315s]\\nfullParse: [B\\xe2\\x99\\xadM,FM,B\\xe2\\x99\\xadMm7,D\\xe2\\x99\\xafM,Cm,B\\xe2\\x99\\xadM,FM,B\\xe2\\x99\\xadM,FMm7,Bo7,Cm,FMm7,B\\xe2\\x99\\xadM,FM,Gmm7,CMm7,CMm7,FM,FM,FM,GMm7,Cm,GM,Cm,CMm7,FM,FM,FM,DM,D\\xe2\\x99\\xafM,Bo,Cm,Bo,Cm,Eo,FM,FMm7,B\\xe2\\x99\\xadM,B\\xe2\\x99\\xadMm7,Bo7,Cm,CMm7,Fm,CMm7,Fm,F\\xe2\\x99\\xafo7,B\\xe2\\x99\\xadM,F\\xe2\\x99\\xafo7,B\\xe2\\x99\\xadM,FMm7,B\\xe2\\x99\\xadMm7,D\\xe2\\x99\\xafM,D\\xe2\\x99\\xafM,F\\xe2\\x99\\xafo7,FM,B\\xe2\\x99\\xadM,FMm7,B\\xe2\\x99\\xadM,B\\xe2\\x99\\xadM,B\\xe2\\x99\\xadM,B\\xe2\\x99\\xadM,F\\xe2\\x99\\xafo,B\\xe2\\x99\\xadM,FM,CMm7,Eo,D\\xe2\\x99\\xafm,B\\xe2\\x99\\xadM,Go,FM,CMm7,FM,CMm7,FMm7,B\\xe2\\x99\\xadM,Eo,FM,FM,FM,Dm,B\\xe2\\x99\\xadM,Gmm7,CMm7,FM,FM,FM,FM,Eo,FM,CMm7,Dm,Eo,FM,Eo,CMm7,FM,Eo,FM,Eo,FM,FMm7,B\\xe2\\x99\\xadM,Dmm7,FMm7,FM,FMm7,FMm7,FM,Bo7,Cm,Cm,B\\xe2\\x99\\xadM,FMm7,B\\xe2\\x99\\xadM,FM,FM,FMm7,B\\xe2\\x99\\xadM,F+,B\\xe2\\x99\\xadM,F\\xe2\\x99\\xafo,B\\xe2\\x99\\xadM,B\\xe2\\x99\\xadM,D\\xe2\\x99\\xafM,B\\xe2\\x99\\xadM,D\\xe2\\x99\\xafM,Bo,Cm,Eo,FM,Eo,FM,FMm7,B\\xe2\\x99\\xadM,F+,B\\xe2\\x99\\xadM,F\\xe2\\x99\\xafo,B\\xe2\\x99\\xadM,B\\xe2\\x99\\xadMm7,D\\xe2\\x99\\xafM,B\\xe2\\x99\\xadM,D\\xe2\\x99\\xafM,Bo,Cm,Eo,FM,Eo,FMm7,B\\xe2\\x99\\xadM,B\\xe2\\x99\\xadM,FM,B\\xe2\\x99\\xadM,FM,B\\xe2\\x99\\xadM,Gm,Gm,Eo,CMm7,FM,FMm7,B\\xe2\\x99\\xadM,CM,FM,FMm7,B\\xe2\\x99\\xadM,FM,CMm7,FM,B\\xe2\\x99\\xadm,C\\xe2\\x99\\xafM,B\\xe2\\x99\\xadm,F\\xe2\\x99\\xafM,Co7,C\\xe2\\x99\\xafM,C\\xe2\\x99\\xafM,F\\xe2\\x99\\xafM,C\\xe2\\x99\\xafM,B\\xe2\\x99\\xadm,F\\xe2\\x99\\xafM,Co7,Co7,Co7,F\\xe2\\x99\\xafM,FMm7,Fo7,F\\xe2\\x99\\xafM,Fmm7,FMm7,C\\xe2\\x99\\xafMm7,F\\xe2\\x99\\xafM,F\\xe2\\x99\\xafM,C\\xe2\\x99\\xafMm7,D\\xe2\\x99\\xafmm7,C\\xe2\\x99\\xafM,F\\xe2\\x99\\xafM,C\\xe2\\x99\\xafM,B\\xe2\\x99\\xadMm7,D\\xe2\\x99\\xafm,FMm7,C\\xe2\\x99\\xafMm7,D\\xe2\\x99\\xafm,Fm,FMm7,C\\xe2\\x99\\xafMm7,F\\xe2\\x99\\xafM,F\\xe2\\x99\\xafM,C\\xe2\\x99\\xafM,C\\xe2\\x99\\xafM,B\\xe2\\x99\\xadm,F\\xe2\\x99\\xafM,C\\xe2\\x99\\xafMm7,C\\xe2\\x99\\xafM,F\\xe2\\x99\\xafM,C\\xe2\\x99\\xafM,D\\xe2\\x99\\xafm,C\\xe2\\x99\\xafM,Co,C\\xe2\\x99\\xafMm7,F\\xe2\\x99\\xafM,Fm,C\\xe2\\x99\\xafM,C\\xe2\\x99\\xafM,F\\xe2\\x99\\xafM,Fm,C\\xe2\\x99\\xafM,C\\xe2\\x99\\xafMm7,F\\xe2\\x99\\xafM,C\\xe2\\x99\\xafM,D\\xe2\\x99\\xafm,Fo7,F\\xe2\\x99\\xafM,B\\xe2\\x99\\xadMm7,D\\xe2\\x99\\xafm,FM,C\\xe2\\x99\\xafM,C\\xe2\\x99\\xafM,D\\xe2\\x99\\xafm,C\\xe2\\x99\\xafM,F\\xe2\\x99\\xafM,C\\xe2\\x99\\xafM,F\\xe2\\x99\\xafM,F\\xe2\\x99\\xafM,Fm,C\\xe2\\x99\\xafMm7,B\\xe2\\x99\\xadM,D\\xe2\\x99\\xafm,FM,C\\xe2\\x99\\xafM,F\\xe2\\x99\\xafM,Co,FM,B\\xe2\\x99\\xadM,D\\xe2\\x99\\xafm,BM,Fo,F\\xe2\\x99\\xafM,Fo,FMm7,C\\xe2\\x99\\xafM,C\\xe2\\x99\\xafMM7,C\\xe2\\x99\\xafMm7,D\\xe2\\x99\\xafmm7,B\\xe2\\x99\\xadmm7,F\\xe2\\x99\\xafMM7,C\\xe2\\x99\\xafM,D\\xe2\\x99\\xafmm7,C\\xe2\\x99\\xafM,FM,C\\xe2\\x99\\xafMm7,C\\xe2\\x99\\xafM,F\\xe2\\x99\\xafM,C\\xe2\\x99\\xafM,F\\xe2\\x99\\xafM,BM,F\\xe2\\x99\\xafM,Fo,F\\xe2\\x99\\xafM,C\\xe2\\x99\\xafMm7,C\\xe2\\x99\\xafMm7,F\\xe2\\x99\\xafM,F\\xe2\\x99\\xafMm7,BM,B\\xe2\\x99\\xadm,F\\xe2\\x99\\xafMm7,BM,C\\xe2\\x99\\xafM,F\\xe2\\x99\\xafM,C\\xe2\\x99\\xafM,F\\xe2\\x99\\xafMm7,BM,F\\xe2\\x99\\xafM,C\\xe2\\x99\\xafM,F\\xe2\\x99\\xafM,DM,F\\xe2\\x99\\xafM,DMm7,DM,C\\xe2\\x99\\xafo,F\\xe2\\x99\\xafMm7,DM,DM,C\\xe2\\x99\\xafo,F\\xe2\\x99\\xafMm7,DM,C\\xe2\\x99\\xafo,F\\xe2\\x99\\xafMm7,DM,C\\xe2\\x99\\xafo,F\\xe2\\x99\\xafMm7,DM,F\\xe2\\x99\\xafMm7,DM,F\\xe2\\x99\\xafMm7,DM,F\\xe2\\x99\\xafMm7,DM,DM,DM,DM,DM,DM,DM,DM,GM,DMm7,GM,DMm7,GM,DMm7,GM,DMm7,DMm7,DM,DMm7,DM,F\\xe2\\x99\\xafm,DMm7,F\\xe2\\x99\\xafm,DMm7,GM,DMm7,GM,GM,DMm7,DM,DMm7,DMm7,GM,DMm7,GM,DMm7,GM,DMm7,GM,DMm7,GM,GM,GM,GM,GM,F\\xe2\\x99\\xafo,DMm7,DMm7,DMm7,DMm7,GM,GM,Emm7,DMm7,GM,GM,Emm7,DMm7,Bo,Bo,Bo,GMm7,Cm,GM,GM,GM,Cm,GMm7,GM,GM,Cm,Cm,Cm,Cm,Cm,GMm7,Cm,Cm,CM,CM,CM,CM,CM,CM,CM,CM,CM,CM,Cm,Cm,Cm,FMm7,FMm7,FMm7,FMm7,B\\xe2\\x99\\xadM,B\\xe2\\x99\\xadM,B\\xe2\\x99\\xadM,Gm,D\\xe2\\x99\\xafM,Cmm7,FMm7,FMm7,FMm7,FMm7,FMm7,FMm7,FMm7,B\\xe2\\x99\\xadM,B\\xe2\\x99\\xadM,B\\xe2\\x99\\xadM,B\\xe2\\x99\\xadM,FMm7,B\\xe2\\x99\\xadM,FM,Fm,Cm,GM,Gm,Go7,FM,FM,FM,F\\xe2\\x99\\xafo7,B\\xe2\\x99\\xadM,D\\xe2\\x99\\xafM,D\\xe2\\x99\\xafM,D\\xe2\\x99\\xaf+,D\\xe2\\x99\\xafM,F\\xe2\\x99\\xafo7,B\\xe2\\x99\\xadMm7,B\\xe2\\x99\\xadMm7,D\\xe2\\x99\\xafM,Fmm7,D\\xe2\\x99\\xaf+,FM,D\\xe2\\x99\\xafM,Fmm7,Do,F\\xe2\\x99\\xafo,Do,D\\xe2\\x99\\xafM,B\\xe2\\x99\\xadM,B\\xe2\\x99\\xadM,D\\xe2\\x99\\xafM,B\\xe2\\x99\\xadM,B\\xe2\\x99\\xadM,D\\xe2\\x99\\xafM,Do,D\\xe2\\x99\\xafM,F\\xe2\\x99\\xafo7,D\\xe2\\x99\\xafM,Do,D\\xe2\\x99\\xafM,B\\xe2\\x99\\xadMm7,D\\xe2\\x99\\xafm,B\\xe2\\x99\\xadM,B\\xe2\\x99\\xadMm7,D\\xe2\\x99\\xafm,B\\xe2\\x99\\xadM,B\\xe2\\x99\\xadMm7,D\\xe2\\x99\\xafm,Do,D\\xe2\\x99\\xafm,D\\xe2\\x99\\xafMm7,FM,D\\xe2\\x99\\xafMm7,FM,EMm7,C\\xe2\\x99\\xafM,C\\xe2\\x99\\xafM,FM,Go,FM,F\\xe2\\x99\\xafM,Fmm7,D\\xe2\\x99\\xafMm7,C\\xe2\\x99\\xafM,FMm7,C\\xe2\\x99\\xafM,Fmm7,D\\xe2\\x99\\xafM,D\\xe2\\x99\\xafM,FM,FMm7,C\\xe2\\x99\\xafM,Go,FM,FMm7,C\\xe2\\x99\\xafM,FM,Go,FMm7,C\\xe2\\x99\\xafM,DGer,D\\xe2\\x99\\xafM,Do,D\\xe2\\x99\\xaf%7,Co7,C\\xe2\\x99\\xafM,C\\xe2\\x99\\xafM,C\\xe2\\x99\\xaf+,F\\xe2\\x99\\xafM,Fm,FMm7,C\\xe2\\x99\\xafM,FMm7,C\\xe2\\x99\\xafM,C\\xe2\\x99\\xafM,C\\xe2\\x99\\xaf+,B\\xe2\\x99\\xadm,D\\xe2\\x99\\xafM,D\\xe2\\x99\\xafM,Co7,C\\xe2\\x99\\xafM,D\\xe2\\x99\\xafmm7,D\\xe2\\x99\\xafMm7,FM,F\\xe2\\x99\\xafo7,B\\xe2\\x99\\xadm,B\\xe2\\x99\\xadm,Eo7,FM,FMm7,B\\xe2\\x99\\xadM,B\\xe2\\x99\\xadM,FM,FM,B\\xe2\\x99\\xadM,B\\xe2\\x99\\xadM,B\\xe2\\x99\\xadM,B\\xe2\\x99\\xadM,B\\xe2\\x99\\xadM,CM,CM,FMm7,B\\xe2\\x99\\xadM,Cmm7,CMm7,FM,FMm7,FMm7,B\\xe2\\x99\\xadM,B\\xe2\\x99\\xadM,FM,FMm7,B\\xe2\\x99\\xadM,DMm7,Gm,CMm7,FM,FMm7,Gm,Cmm7,FM,B\\xe2\\x99\\xadM,Gm,CMm7,FM,FM,F\\xe2\\x99\\xafo,FMm7,B\\xe2\\x99\\xadM,B\\xe2\\x99\\xadM,Gm,Cmm7,CM,FM,B\\xe2\\x99\\xadM,B\\xe2\\x99\\xadM,FM,CMm7,Dm,CMm7,Cm,B\\xe2\\x99\\xadM,Cm,FM,FMm7,B\\xe2\\x99\\xadM,FMm7,FM,B\\xe2\\x99\\xadM,B\\xe2\\x99\\xadM,FM,FMm7,Gm,FM,B\\xe2\\x99\\xadM,FMm7,Gmm7,CMm7,FM,FM,Gmm7,FMm7,FMm7,B\\xe2\\x99\\xadM,FMm7,Dm,Gm,Cm,F\\xe2\\x99\\xafo7,DM,Gm,CM,FMm7,FM,B\\xe2\\x99\\xadM,D\\xe2\\x99\\xafM,F\\xe2\\x99\\xafo,DM,Gm,Gmm7,D\\xe2\\x99\\xafM,Gm,F\\xe2\\x99\\xafo,B\\xe2\\x99\\xadM,F\\xe2\\x99\\xafo,CMm7,FM,Eo,FMm7,B\\xe2\\x99\\xadM,F\\xe2\\x99\\xafo,B\\xe2\\x99\\xadM,FM,Gm,FMm7,F\\xe2\\x99\\xafm,FMm7,FM,B\\xe2\\x99\\xadM,FM,B\\xe2\\x99\\xadM,D\\xe2\\x99\\xafM,B\\xe2\\x99\\xadM,FMm7,B\\xe2\\x99\\xadM,FM,B\\xe2\\x99\\xadM,B\\xe2\\x99\\xadM,B\\xe2\\x99\\xadMm7,D\\xe2\\x99\\xafM,B\\xe2\\x99\\xadMm7,D\\xe2\\x99\\xafM,D\\xe2\\x99\\xafM,B\\xe2\\x99\\xadM,B\\xe2\\x99\\xadm,Eo,FM,Bo7,Cm,Cm,B\\xe2\\x99\\xadM,FM,B\\xe2\\x99\\xadM,B\\xe2\\x99\\xadM,FMm7,Bo7,Cm,FMm7,F\\xe2\\x99\\xafo7,Gm,F\\xe2\\x99\\xafo7,Gm,D\\xe2\\x99\\xafM,D\\xe2\\x99\\xaf+,F\\xe2\\x99\\xafo,D\\xe2\\x99\\xaf+,FM,FM,F+,B\\xe2\\x99\\xadM,F+,FM,B\\xe2\\x99\\xadM,B\\xe2\\x99\\xadm,Eo7,FM,F\\xe2\\x99\\xafo,GMm7,Cm,Eo7,F\\xe2\\x99\\xafo,F\\xe2\\x99\\xafo,B\\xe2\\x99\\xadMm7,B\\xe2\\x99\\xadMm7,D\\xe2\\x99\\xafM,D\\xe2\\x99\\xafm,B\\xe2\\x99\\xadM,FMm7,B\\xe2\\x99\\xadM,Cm,Eo,FM,FMm7,B\\xe2\\x99\\xadM,B\\xe2\\x99\\xadM,FMm7,B\\xe2\\x99\\xadM,FMm7,B\\xe2\\x99\\xadM,FMm7,B\\xe2\\x99\\xadM,FMm7,B\\xe2\\x99\\xadM][B\\xe2\\x99\\xadM,AM,A\\xe2\\x99\\xadM,GM,CM,B\\xe2\\x99\\xadM,FM,B\\xe2\\x99\\xadM,FM,Bo7,Cm,A\\xe2\\x99\\xadM,B\\xe2\\x99\\xadM,CM,Gm,CMm7,CMm7,FM,FM,FM,GM,Cm,DM,A\\xe2\\x99\\xadM,CMm7,B\\xe2\\x99\\xadM,GMm7,FMm7,DM,E\\xe2\\x99\\xadM,GMm7,Cm,GMm7,E\\xe2\\x99\\xadM,Gm,FM,GMm7,B\\xe2\\x99\\xadM,B\\xe2\\x99\\xadM,Bo,Cm,CM,Fm,CMm7,A\\xe2\\x99\\xadM,A\\xe2\\x99\\xadMm7,B\\xe2\\x99\\xadM,CMm7,B\\xe2\\x99\\xadM,FM,B\\xe2\\x99\\xadM,E\\xe2\\x99\\xadM,B\\xe2\\x99\\xadM,Ao7,Dm,B\\xe2\\x99\\xadM,B\\xe2\\x99\\xadM,B\\xe2\\x99\\xadM,B\\xe2\\x99\\xadM,CMm7,B\\xe2\\x99\\xadM,Ao,B\\xe2\\x99\\xadM,FM,CM,Eo,E\\xe2\\x99\\xadM,FM,Gm,BMm7,CM,FM,B\\xe2\\x99\\xadM,FM,B\\xe2\\x99\\xadM,B\\xe2\\x99\\xadM,B\\xe2\\x99\\xadM,Dm,CMm7,CM,B\\xe2\\x99\\xadM,FM,CMm7,FM,FM,B\\xe2\\x99\\xadM,FM,Em,FM,CMm7,DM,GM,FM,CMm7,CMm7,AM,CM,FM,CMm7,FM,B\\xe2\\x99\\xadM,FMm7,B\\xe2\\x99\\xadM,E\\xe2\\x99\\xadM,B\\xe2\\x99\\xadM,FMm7,CM,B\\xe2\\x99\\xadM,FM,Cm,Cm,Dm,FM,B\\xe2\\x99\\xadM,B\\xe2\\x99\\xadM,B\\xe2\\x99\\xadM,FMm7,B\\xe2\\x99\\xadM,AM,B\\xe2\\x99\\xadM,Am,B\\xe2\\x99\\xadM,B\\xe2\\x99\\xadM,E\\xe2\\x99\\xadM,B\\xe2\\x99\\xadM,E\\xe2\\x99\\xadM,GM,A\\xe2\\x99\\xadM,CMm7,FM,GM,FM,FMm7,B\\xe2\\x99\\xadM,FM,FM,E\\xe2\\x99\\xadM,B\\xe2\\x99\\xadM,B\\xe2\\x99\\xadMm7,E\\xe2\\x99\\xadM,B\\xe2\\x99\\xadM,E\\xe2\\x99\\xadM,DM,Cm,CM,FM,GM,FM,B\\xe2\\x99\\xadM,CM,FM,B\\xe2\\x99\\xadM,AMm7,B\\xe2\\x99\\xadM,B\\xe2\\x99\\xadM,Gm,CM,B\\xe2\\x99\\xadM,FM,FM,Dm,EM,FM,FMm7,DM,Gm,CMm7,FM,A\\xe2\\x99\\xadM,D\\xe2\\x99\\xadMm7,B\\xe2\\x99\\xadM,G\\xe2\\x99\\xadM,Co7,D\\xe2\\x99\\xadM,G\\xe2\\x99\\xadM,G\\xe2\\x99\\xadM,C\\xe2\\x99\\xadM,B\\xe2\\x99\\xadMm7,G\\xe2\\x99\\xadM,A\\xe2\\x99\\xadMm7,Co7,E\\xe2\\x99\\xad\\xe2\\x99\\xadM,G\\xe2\\x99\\xadM,A\\xe2\\x99\\xadMm7,Fo7,G\\xe2\\x99\\xadM,C\\xe2\\x99\\xadM,A\\xe2\\x99\\xadM,D\\xe2\\x99\\xadM,G\\xe2\\x99\\xadM,G\\xe2\\x99\\xadM,D\\xe2\\x99\\xadM,G\\xe2\\x99\\xadM,D\\xe2\\x99\\xadM,G\\xe2\\x99\\xadM,E\\xe2\\x99\\xadMm7,B\\xe2\\x99\\xadM,C\\xe2\\x99\\xadM,B\\xe2\\x99\\xadm,D\\xe2\\x99\\xadMm7,G\\xe2\\x99\\xadM,A\\xe2\\x99\\xadMm7,A\\xe2\\x99\\xadMm7,D\\xe2\\x99\\xadM,D\\xe2\\x99\\xadM,D\\xe2\\x99\\xadM,A\\xe2\\x99\\xadM,D\\xe2\\x99\\xadM,G\\xe2\\x99\\xadM,G\\xe2\\x99\\xadM,A\\xe2\\x99\\xadm,D\\xe2\\x99\\xadM,E\\xe2\\x99\\xadMm7,D\\xe2\\x99\\xadM,FMm7,D\\xe2\\x99\\xadM,E\\xe2\\x99\\xadM,F\\xe2\\x99\\xadM,B\\xe2\\x99\\xadm,A\\xe2\\x99\\xadm,G\\xe2\\x99\\xadM,G\\xe2\\x99\\xadM,G\\xe2\\x99\\xadM,F\\xe2\\x99\\xadM,D\\xe2\\x99\\xadM,D\\xe2\\x99\\xadM,B\\xe2\\x99\\xadM,D\\xe2\\x99\\xadM,G\\xe2\\x99\\xadM,B\\xe2\\x99\\xadM,G\\xe2\\x99\\xadM,B\\xe2\\x99\\xadMm7,E\\xe2\\x99\\xadM,A\\xe2\\x99\\xadM,D\\xe2\\x99\\xadM,D\\xe2\\x99\\xadM,G\\xe2\\x99\\xadM,G\\xe2\\x99\\xadM,G\\xe2\\x99\\xadM,A\\xe2\\x99\\xadMm7,G\\xe2\\x99\\xadM,B\\xe2\\x99\\xadm,D\\xe2\\x99\\xadMm7,C\\xe2\\x99\\xadM,Fm,G\\xe2\\x99\\xadM,C\\xe2\\x99\\xadM,G\\xe2\\x99\\xadM,G\\xe2\\x99\\xadM,E\\xe2\\x99\\xadM,FMm7,Do7,G\\xe2\\x99\\xadM,C\\xe2\\x99\\xadM,D\\xe2\\x99\\xadMm7,A\\xe2\\x99\\xadMm7,Fo,A\\xe2\\x99\\xadM,FM,D\\xe2\\x99\\xadM,D\\xe2\\x99\\xadMm7,E\\xe2\\x99\\xadMm7,D\\xe2\\x99\\xadM,B\\xe2\\x99\\xadM,Fm,E\\xe2\\x99\\xadm,D\\xe2\\x99\\xadM,A\\xe2\\x99\\xadM,FM,D\\xe2\\x99\\xadMm7,G\\xe2\\x99\\xadM,D\\xe2\\x99\\xadM,G\\xe2\\x99\\xadM,F\\xe2\\x99\\xadM,G\\xe2\\x99\\xadM,A\\xe2\\x99\\xadm,G\\xe2\\x99\\xadM,D\\xe2\\x99\\xadM,D\\xe2\\x99\\xadM,G\\xe2\\x99\\xadM,G\\xe2\\x99\\xadMm7,E\\xe2\\x99\\xadm,E\\xe2\\x99\\xadM,G\\xe2\\x99\\xadMm7,E\\xe2\\x99\\xadM,FM,G\\xe2\\x99\\xadM,G\\xe2\\x99\\xadM,C\\xe2\\x99\\xadM,G\\xe2\\x99\\xadM,D\\xe2\\x99\\xadM,F\\xe2\\x99\\xafM,DM,AM,GM,C\\xe2\\x99\\xafM,AM,BMm7,AMm7,AMm7,F\\xe2\\x99\\xafm,CM,AMm7,AM,C\\xe2\\x99\\xafo,C\\xe2\\x99\\xafM,DM,GM,DM,AMm7,DM,AMm7,DM,DM,DM,DM,DM,GM,DM,DM,GM,DMm7,GM,F\\xe2\\x99\\xafo,GM,DMm7,GM,DMm7,GM,DM,AMm7,DM,Am,DM,Am,DMm7,GM,AM,GM,GM,Am,GM,DM,DMm7,Bm,DMm7,GM,DM,GM,DMm7,DMm7,GM,GM,GM,Bm,GM,GM,Am,DM,AMm7,DM,DM,GM,GM,Bm,DMm7,F\\xe2\\x99\\xafM,GM,EMm7,DM,FM,B\\xe2\\x99\\xadM,FM,GMm7,E\\xe2\\x99\\xadM,CM,GM,GM,E\\xe2\\x99\\xadM,CM,Cm,Cm,GM,CM,GM,CM,E\\xe2\\x99\\xadM,CM,GM,Cm,GM,CM,CM,CM,EMm7,CM,CM,CM,EM,CM,Cm,A\\xe2\\x99\\xadM,Cm,FM,FM,E\\xe2\\x99\\xadM,Cm,GMm7,DMm7,DMm7,DMm7,E\\xe2\\x99\\xadM,E\\xe2\\x99\\xadM,Cm,E\\xe2\\x99\\xadM,FM,E\\xe2\\x99\\xadM,DMm7,Am,DMm7,B\\xe2\\x99\\xadM,B\\xe2\\x99\\xadM,B\\xe2\\x99\\xadM,CMm7,FM,DM,FM,FM,CM,GM,E\\xe2\\x99\\xadM,Go7,E\\xe2\\x99\\xadMm7,A\\xe2\\x99\\xadM,A\\xe2\\x99\\xadM,G\\xe2\\x99\\xadM,B\\xe2\\x99\\xadM,A\\xe2\\x99\\xadM,A\\xe2\\x99\\xadM,E\\xe2\\x99\\xadM,E\\xe2\\x99\\xadM,Ao7,C\\xe2\\x99\\xadM,B\\xe2\\x99\\xadM,E\\xe2\\x99\\xadM,B\\xe2\\x99\\xadM,E\\xe2\\x99\\xadM,A\\xe2\\x99\\xadM,E\\xe2\\x99\\xadM,FMm7,Gm,DM,A\\xe2\\x99\\xadM,E\\xe2\\x99\\xadM,FM,E\\xe2\\x99\\xadM,E\\xe2\\x99\\xadM,B\\xe2\\x99\\xadM,B\\xe2\\x99\\xadM,E\\xe2\\x99\\xadM,D\\xe2\\x99\\xadM,E\\xe2\\x99\\xadM,F\\xe2\\x99\\xafM,Gm,B\\xe2\\x99\\xadMm7,E\\xe2\\x99\\xadM,B\\xe2\\x99\\xadM,E\\xe2\\x99\\xadm,B\\xe2\\x99\\xadM,B\\xe2\\x99\\xadM,E\\xe2\\x99\\xadM,D\\xe2\\x99\\xadMm7,B\\xe2\\x99\\xadM,E\\xe2\\x99\\xadm,B\\xe2\\x99\\xadM,E\\xe2\\x99\\xadm,E\\xe2\\x99\\xadM,A\\xe2\\x99\\xadM,E\\xe2\\x99\\xadM,A\\xe2\\x99\\xadM,G\\xe2\\x99\\xadM,D\\xe2\\x99\\xadM,G\\xe2\\x99\\xadM,D\\xe2\\x99\\xadM,B\\xe2\\x99\\xadM,A\\xe2\\x99\\xadM,G\\xe2\\x99\\xadM,Fm,G\\xe2\\x99\\xadM,C\\xe2\\x99\\xadM,A\\xe2\\x99\\xadM,FM,FM,E\\xe2\\x99\\xadM,GM,A\\xe2\\x99\\xadM,A\\xe2\\x99\\xadM,D\\xe2\\x99\\xadM,D\\xe2\\x99\\xadM,A\\xe2\\x99\\xadM,A\\xe2\\x99\\xadM,FM,A\\xe2\\x99\\xadM,GM,A\\xe2\\x99\\xadMm7,D\\xe2\\x99\\xadM,Do7,A\\xe2\\x99\\xadM,Dm,B\\xe2\\x99\\xad\\xe2\\x99\\xadM,A\\xe2\\x99\\xadMm7,FMm7,D\\xe2\\x99\\xadM,D\\xe2\\x99\\xadM,G\\xe2\\x99\\xadM,E\\xe2\\x99\\xadMm7,D\\xe2\\x99\\xadM,D\\xe2\\x99\\xadM,A\\xe2\\x99\\xadMm7,FM,D\\xe2\\x99\\xadM,D\\xe2\\x99\\xadM,B\\xe2\\x99\\xadm,A\\xe2\\x99\\xadM,E\\xe2\\x99\\xadM,Co7,Fm,E\\xe2\\x99\\xadm,E\\xe2\\x99\\xadMm7,A\\xe2\\x99\\xadM,Co,B\\xe2\\x99\\xadm,D\\xe2\\x99\\xadM,Eo7,FM,GMm7,Cm,B\\xe2\\x99\\xadM,CMm7,FMm7,Dm,EMm7,B\\xe2\\x99\\xadM,DM,B\\xe2\\x99\\xadM,Am,FM,FMm7,B\\xe2\\x99\\xadM,CMm7,CMm7,FM,FM,AM,CMm7,B\\xe2\\x99\\xadM,AMm7,FM,FM,AM,DM,CMm7,FM,FMm7,E\\xe2\\x99\\xadM,E\\xe2\\x99\\xadM,FM,B\\xe2\\x99\\xadM,FM,CM,CM,FM,FM,Dm,DM,B\\xe2\\x99\\xadM,CMm7,B\\xe2\\x99\\xadM,CM,FM,B\\xe2\\x99\\xadM,Gm,FM,CM,B\\xe2\\x99\\xadM,CMm7,Cm,B\\xe2\\x99\\xadM,Ao,GMm7,FMm7,CMm7,FMm7,FM,B\\xe2\\x99\\xadM,B\\xe2\\x99\\xadM,FM,FM,Gm,Dm,Dm,E\\xe2\\x99\\xadM,Gm,CMm7,FM,FM,B\\xe2\\x99\\xadM,E\\xe2\\x99\\xadM,FM,B\\xe2\\x99\\xadM,FMm7,FM,B\\xe2\\x99\\xadM,Cm,B\\xe2\\x99\\xadM,DM,E\\xe2\\x99\\xadM,CM,FM,AMm7,B\\xe2\\x99\\xadM,E\\xe2\\x99\\xadM,E\\xe2\\x99\\xadM,DM,Gm,B\\xe2\\x99\\xadM,Gm,B\\xe2\\x99\\xadM,FM,B\\xe2\\x99\\xadM,Cm,Eo,B\\xe2\\x99\\xadM,B\\xe2\\x99\\xadM,FM,Em,FM,B\\xe2\\x99\\xadM,DMm7,B\\xe2\\x99\\xadM,FMm7,CM,FMm7,FM,B\\xe2\\x99\\xadM,AM,Dm,E\\xe2\\x99\\xadM,B\\xe2\\x99\\xadM,FMm7,B\\xe2\\x99\\xadM,FM,B\\xe2\\x99\\xadM,B\\xe2\\x99\\xadM,A\\xe2\\x99\\xadM,Gm,A\\xe2\\x99\\xadM,FM,E\\xe2\\x99\\xadM,DM,B\\xe2\\x99\\xadM,Em,FM,BM,Cm,Cm,B\\xe2\\x99\\xadM,FM,B\\xe2\\x99\\xadM,B\\xe2\\x99\\xadM,FMm7,Bo7,Cm,FMm7,F\\xe2\\x99\\xafo7,B\\xe2\\x99\\xadM,F\\xe2\\x99\\xafo7,DM,E\\xe2\\x99\\xadM,E\\xe2\\x99\\xadM,FM,E\\xe2\\x99\\xadM,DMm7,FM,FM,B\\xe2\\x99\\xadM,FM,FM,B\\xe2\\x99\\xadM,B\\xe2\\x99\\xadm,B\\xe2\\x99\\xadm,FM,F\\xe2\\x99\\xafo,GM,Cm,B\\xe2\\x99\\xadm,FM,Cm,B\\xe2\\x99\\xadM,B\\xe2\\x99\\xadMm7,E\\xe2\\x99\\xadM,G\\xe2\\x99\\xadM,Dm,Cm,B\\xe2\\x99\\xadM,E\\xe2\\x99\\xadM,E\\xe2\\x99\\xadM,Am,FM,CMm7,B\\xe2\\x99\\xadM,FMm7,B\\xe2\\x99\\xadM,Cm,B\\xe2\\x99\\xadM,FMm7,B\\xe2\\x99\\xadM,FM,B\\xe2\\x99\\xadM]\\nCallStack (from HasCallStack):\\n  error, called at src/HeuristicParser.hs:639:20 in proto-voice-model-0.1.0.0-CvtZlN7QliYC5FPYvXh3BX:HeuristicParser\\n'\n",
      "\n",
      "Running command: stack run fullParse -- -n 1 -id 202304-1615-1815-a93d54f4-39ee-4d28-999e-27efc6f7d122 ABC n13op130_02 RandomWalk\n",
      "\n",
      "Running command: stack run fullParse -- -n 1 -id 202304-1615-1815-a93d54f4-39ee-4d28-999e-27efc6f7d122 ABC n13op130_02 RandomSample\n",
      "\n",
      "Running command: stack run fullParse -- -n 1 -id 202304-1615-1815-a93d54f4-39ee-4d28-999e-27efc6f7d122 ABC n13op130_02 RandomReduction\n",
      "\n",
      "Running command: stack run fullParse -- -n 1 -id 202304-1615-1815-a93d54f4-39ee-4d28-999e-27efc6f7d122 ABC n13op130_03 RandomWalk\n",
      "\"Parse Stuck! Perhaps the number of chords and segments are not the same?\"\n",
      "\n",
      "Running command: stack run fullParse -- -n 1 -id 202304-1615-1815-a93d54f4-39ee-4d28-999e-27efc6f7d122 ABC n07op59-1_04 RandomSample\n",
      "\n",
      "Running command: stack run fullParse -- -n 1 -id 202304-1615-1815-a93d54f4-39ee-4d28-999e-27efc6f7d122 ABC n07op59-1_04 RandomReduction\n",
      "Error in subprocess:\n",
      "b'15:22:27 [INFO] Running Random Sample SBS Parse...\\nempty multinomial\\n15:22:27 [INFO] Running Random Sample SBS Parse...done [0.069256649s]\\nfullParse: [FM,CM,FM,CMm7,FM,CM,FM,CM,FM,AMm7,Dm,AM,Dm,AM,Dm,FM,CMm7,CMm7,FM,CM,FM,CM,FM,CM,FM,AMm7,Dm,AMm7,Dm,AMm7,A\\xe2\\x99\\xafM,CMm7,FM,CMm7,FM,CM,FM,CM,FM,CMm7,FM,CM,FM,FM,A\\xe2\\x99\\xafM,Gm,A\\xe2\\x99\\xafM,CM,A\\xe2\\x99\\xafM,CMm7,FM,A\\xe2\\x99\\xafM,CMm7,FM,Gm,CM,A\\xe2\\x99\\xafM,CMm7,FM,A\\xe2\\x99\\xafm,CMm7,FM,Gm,CM,FM,Dm,Gm,CM,FM,CMm7,FM,C\\xe2\\x99\\xafo,FM,C\\xe2\\x99\\xafo,FM,CM,FM,CMm7,FM,C\\xe2\\x99\\xafM,Am,C\\xe2\\x99\\xafMm7,Am,Dm,GMm7,CM,GMm7,CM,C\\xe2\\x99\\xafo7,GMm7,CMm7,GMm7,GMm7,GMm7,GMm7,CM,GMm7,CM,GMm7,Cm,GMm7,Cm,GM,Cm,C\\xe2\\x99\\xafo7,GMm7,GMm7,GMm7,GMm7,Cm,GM,Cm,GM,Cm,CMm7,G\\xe2\\x99\\xafM,F\\xe2\\x99\\xafGer,GM,FM,GMm7,CM,FM,GM,GMm7,GM,F\\xe2\\x99\\xafo7,CM,CM,GMm7,GMm7,CM,GMm7,CM,CM,AMm7,Dm,GMm7,CM,GMm7,CM,AMm7,Dm,AMm7,Dm,GMm7,CM,Am,Dm,GM,GM,CM,Am,Dm,GM,GM,CM,CM,Dm,CM,FM,CM,FM,GMm7,CM,CM,DMm7,DMm7,CM,DMm7,CM,DMm7,Gm,DMm7,DMm7,DMm7,F\\xe2\\x99\\xafo,Gm,DM,Gm,DM,Gm,DM,Gm,DM,Gm,F\\xe2\\x99\\xafo7,Gm,Bo,Cm,Bo,Cm,Bo7,Cm,Fm,G\\xe2\\x99\\xafM,CMm7,CMm7,G\\xe2\\x99\\xafM,CMm7,G\\xe2\\x99\\xafM,CMm7,G\\xe2\\x99\\xafM,CMm7,G\\xe2\\x99\\xafM,CMm7,G\\xe2\\x99\\xafM,Cm,FM,C\\xe2\\x99\\xafIt,FM,A\\xe2\\x99\\xafm,FMm7,A\\xe2\\x99\\xafm,G\\xe2\\x99\\xafM,GM,F\\xe2\\x99\\xafIt,GM,GMm7,Cm,GMm7,C\\xe2\\x99\\xafo7,Bo,AMm7,AMm7,Dm,AMm7,Dm,F\\xe2\\x99\\xafo7,Gm,Dm,Dm,C\\xe2\\x99\\xafFr,AM,C\\xe2\\x99\\xafFr,AM,C\\xe2\\x99\\xafFr,AM,C\\xe2\\x99\\xafFr,G\\xe2\\x99\\xafIt,AM,G\\xe2\\x99\\xafIt,AM,G\\xe2\\x99\\xafIt,AM,G\\xe2\\x99\\xafIt,AM,G\\xe2\\x99\\xafIt,AM,Dm,AM,Dm,AM,Dm,Dm,AM,A\\xe2\\x99\\xafM,A\\xe2\\x99\\xafM,CM,A\\xe2\\x99\\xafMm7,CM,A\\xe2\\x99\\xafMm7,CM,A\\xe2\\x99\\xafM,Bo7,CM,CMm7,AMm7,AMm7,Dm,CM,AMm7,AMm7,AMm7,Dm,C\\xe2\\x99\\xaf%7,AMm7,Dm,A\\xe2\\x99\\xafM,CM,AMm7,AMm7,Dm,FMm7,A\\xe2\\x99\\xafM,CM,AMm7,Dm,Dm,C\\xe2\\x99\\xafo,Dm,C\\xe2\\x99\\xafo,Dm,C\\xe2\\x99\\xafo,Dm,AMm7,Dm,C\\xe2\\x99\\xafo,Dm,C\\xe2\\x99\\xafo7,Dm,C\\xe2\\x99\\xafo7,Dm,C\\xe2\\x99\\xafo7,Dm,C\\xe2\\x99\\xafo7,Dm,C\\xe2\\x99\\xafo7,Dm,Dm,AMm7,Dm,AM,Dm,AMm7,Dm,AM,Dm,C\\xe2\\x99\\xafo,GMm7,Cm,GMm7,Cm,GM,Cm,GMm7,Cm,GM,Cm,Bo,FMm7,A\\xe2\\x99\\xafM,FMm7,A\\xe2\\x99\\xafM,FM,A\\xe2\\x99\\xafM,FMm7,A\\xe2\\x99\\xafM,F+,A\\xe2\\x99\\xafM,F+,A\\xe2\\x99\\xafM,F+,A\\xe2\\x99\\xafM,F+,A\\xe2\\x99\\xafM,F+,A\\xe2\\x99\\xafM,FM,A\\xe2\\x99\\xafM,Ao7,A\\xe2\\x99\\xafM,Ao7,A\\xe2\\x99\\xafM,A\\xe2\\x99\\xafM,CMm7,FM,CMm7,CMm7,FM,CM,FM,AM,AM,Dm,Dm,AMm7,Dm,Dm,C\\xe2\\x99\\xaf%7,AM,A\\xe2\\x99\\xafM,A\\xe2\\x99\\xafM,CMm7,FM,CM,CM,FM,CM,CMm7,FM,CMm7,FM,CMm7,FM,CM,FM,FM,A\\xe2\\x99\\xafM,Gm,GMm7,CM,A\\xe2\\x99\\xafM,CMm7,FM,A\\xe2\\x99\\xafM,CMm7,FM,Gm,CM,A\\xe2\\x99\\xafm,CMm7,Fm,A\\xe2\\x99\\xafm,CMm7,Fm,Go,Go,CM,Fm,C\\xe2\\x99\\xafM,Go,Go,CMm7,Fm,CMm7,CM,Fm,C\\xe2\\x99\\xafo,Fm,CMm7,Fm,CM,Fm,CMm7,CMm7,Fm,CM,G\\xe2\\x99\\xafM,CMm7,G\\xe2\\x99\\xafM,DMm7,DM,GMm7,CM,CMm7,FM,CMm7,FM,F\\xe2\\x99\\xafo7,CMm7,F\\xe2\\x99\\xafo,CMm7,CMm7,CMm7,CMm7,FM,CMm7,FM,CMm7,Fm,CM,Fm,Cm,Fm,Ao7,CMm7,CMm7,A\\xe2\\x99\\xafm,CM,C\\xe2\\x99\\xafM,CM,Fm,G\\xe2\\x99\\xafMm7,C\\xe2\\x99\\xafM,BGer,CM,A\\xe2\\x99\\xafM,CMm7,FM,A\\xe2\\x99\\xafM,CM,CMm7,CM,Bo7,FM,FM,FM,CMm7,CMm7,FM,CMm7,FM,CM,FM,DMm7,Gm,DMm7,Gm,CMm7,FM,CMm7,FM,DMm7,Gm,DMm7,Gm,CMm7,FM,Dm,Gm,CM,FM,Dm,Gm,CM,GMm7,CMm7,FM,Gm,DM,Gm,DMm7,Gm,DM,Gm,DMm7,Gm,Gm,DM,Gm,C\\xe2\\x99\\xafo,FM,CM,FM,CMm7,Fm,CMm7,Fm,CMm7,Fm,CMm7,G\\xe2\\x99\\xafM,FMm7,A\\xe2\\x99\\xafm,GMm7,GMm7,CM,FM,DM,Gm,CM,CM,FM,A\\xe2\\x99\\xafM,C\\xe2\\x99\\xafo,C\\xe2\\x99\\xafo,FM,C\\xe2\\x99\\xafo,C\\xe2\\x99\\xafo,Dm,CMm7,CMm7,FM,CMm7,FM,CM,CM,CMm7,FM,A\\xe2\\x99\\xafM,CM,FM,Go,CMm7,FM,A\\xe2\\x99\\xafM,CM,FM,Go,CMm7,CMm7,FM,CMm7,FM,CM,CMm7,CM,FM,CMm7,AM,A\\xe2\\x99\\xafM,FM,FM,GMm7,C\\xe2\\x99\\xaf%7,AM,CM,AM,CMm7,FM,CMm7,FM,CMm7,FM,CMm7,FM,CMm7,FM,CMm7,FM,CMm7,FM,CMm7,FM,FM][DMm7,CM,FM,CM,Am,CMm7,AM,B\\xe2\\x99\\xadM,FM,C\\xe2\\x99\\xafM,DM,DM,B\\xe2\\x99\\xadM,AM,B\\xe2\\x99\\xadM,FM,CM,CM,FM,CM,CM,CM,FM,CMm7,Am,AMm7,DM,EM,B\\xe2\\x99\\xadM,AMm7,B\\xe2\\x99\\xadM,B\\xe2\\x99\\xadM,FM,GM,FM,CM,AM,CM,FM,CM,FM,CMm7,GM,FM,B\\xe2\\x99\\xadM,B\\xe2\\x99\\xadM,GM,DMm7,FM,CMm7,FM,B\\xe2\\x99\\xadM,CMm7,FM,GM,CM,B\\xe2\\x99\\xadM,CMm7,FM,B\\xe2\\x99\\xadM,Em,FM,GM,CM,FM,FM,E\\xe2\\x99\\xadM,CM,FM,CMm7,FM,EM,FM,CMm7,FM,CM,FM,CM,FM,G\\xe2\\x99\\xafM,Am,EMm7,CM,DM,GMm7,CM,GM,CM,CM,GM,AM,FM,GMm7,GM,GMm7,GM,GM,Em,GM,Cm,GMm7,GM,GM,Cm,AMm7,GMm7,GM,A\\xe2\\x99\\xadM,GM,A\\xe2\\x99\\xadM,GM,Cm,GM,CM,E\\xe2\\x99\\xadM,Fm,F\\xe2\\x99\\xafo7,CM,FM,GMm7,FM,FM,CM,GM,E\\xe2\\x99\\xadM,CM,CM,FM,GMm7,CM,GM,CM,GM,AMm7,DM,GMm7,CM,GM,CM,AMm7,FM,AMm7,B\\xe2\\x99\\xadM,GM,CM,EM,DM,CM,GM,GM,AM,Dm,DMm7,BM,GM,CM,DM,EM,FM,CM,AM,GMm7,CM,CM,F\\xe2\\x99\\xafo,AM,CM,DMm7,AM,DMm7,B\\xe2\\x99\\xadM,B\\xe2\\x99\\xadM,E\\xe2\\x99\\xadM,CMm7,F\\xe2\\x99\\xafm,Gm,DM,E\\xe2\\x99\\xadM,DM,B\\xe2\\x99\\xadM,DM,Gm,DM,AM,F\\xe2\\x99\\xafo7,DM,FM,Cm,Dm,Cm,Bo7,E\\xe2\\x99\\xadM,B\\xe2\\x99\\xadm,E\\xe2\\x99\\xadM,E\\xe2\\x99\\xadM,E\\xe2\\x99\\xadMm7,A\\xe2\\x99\\xadM,E\\xe2\\x99\\xadM,A\\xe2\\x99\\xadM,E\\xe2\\x99\\xadM,A\\xe2\\x99\\xadM,E\\xe2\\x99\\xadMm7,A\\xe2\\x99\\xadM,E\\xe2\\x99\\xadMm7,A\\xe2\\x99\\xadM,G\\xe2\\x99\\xadM,FM,CMm7,FMm7,B\\xe2\\x99\\xadM,FMm7,B\\xe2\\x99\\xadm,Cm,Bm,DMm7,CM,GMm7,A\\xe2\\x99\\xadM,GMm7,Eo7,GMm7,AM,AM,Dm,C\\xe2\\x99\\xafo,Dm,F\\xe2\\x99\\xafo7,B\\xe2\\x99\\xadM,FM,Dm,EMm7,AM,EMm7,AM,EMm7,EM,EMm7,EMm7,AM,DM,AM,B\\xe2\\x99\\xadM,AM,B\\xe2\\x99\\xadM,AM,EMm7,C\\xe2\\x99\\xafM,AM,AM,FM,AM,G\\xe2\\x99\\xafo7,Dm,AM,B\\xe2\\x99\\xadM,B\\xe2\\x99\\xadMm7,E\\xe2\\x99\\xadM,B\\xe2\\x99\\xadMm7,E\\xe2\\x99\\xadM,B\\xe2\\x99\\xadMm7,Gm,B\\xe2\\x99\\xadM,D\\xe2\\x99\\xadM,Em,CM,AMm7,AMm7,Dm,E\\xe2\\x99\\xadM,AMm7,AMm7,AM,FM,Eo,AMm7,DMm7,FM,E\\xe2\\x99\\xadM,AM,AMm7,FM,FM,B\\xe2\\x99\\xadM,E\\xe2\\x99\\xadM,AMm7,GMm7,FM,C\\xe2\\x99\\xafo,B\\xe2\\x99\\xadM,AM,Dm,E\\xe2\\x99\\xadM,DM,C\\xe2\\x99\\xafo7,FM,C\\xe2\\x99\\xafo7,FM,Gm,FM,EMm7,Dm,GM,DM,AMm7,DM,CM,Dm,FM,AMm7,DM,AM,DM,AM,Dm,AM,FM,AMm7,AM,Cm,GM,Cm,GM,Cm,B\\xe2\\x99\\xadM,CM,DM,CM,Bo,FM,DM,FMm7,B\\xe2\\x99\\xadM,B\\xe2\\x99\\xadM,B\\xe2\\x99\\xadM,DMm7,B\\xe2\\x99\\xadM,B\\xe2\\x99\\xadM,B\\xe2\\x99\\xadM,FM,B\\xe2\\x99\\xadM,B\\xe2\\x99\\xadM,B\\xe2\\x99\\xadM,FM,B\\xe2\\x99\\xadM,B\\xe2\\x99\\xadM,B\\xe2\\x99\\xadM,E\\xe2\\x99\\xadM,Dm,CMm7,B\\xe2\\x99\\xadM,CM,DMm7,B\\xe2\\x99\\xadM,AMm7,DMm7,CM,CMm7,CM,CMm7,FM,GM,AM,FM,FM,AM,Dm,Dm,GM,GM,B\\xe2\\x99\\xadM,B\\xe2\\x99\\xadM,B\\xe2\\x99\\xadM,AM,CM,CM,FM,CM,CMm7,AM,CM,FM,CMm7,Am,CM,AMm7,FM,DM,GM,Em,CM,B\\xe2\\x99\\xadM,GM,FM,B\\xe2\\x99\\xadM,CM,FM,B\\xe2\\x99\\xadM,CM,D\\xe2\\x99\\xadM,CM,D\\xe2\\x99\\xadM,B\\xe2\\x99\\xadm,CMm7,Fm,E\\xe2\\x99\\xadMm7,B\\xe2\\x99\\xadm,CM,Fm,Fm,GM,G%7,CM,FM,DMm7,CM,Fm,GM,A\\xe2\\x99\\xadM,CMm7,FM,CM,Fm,CMm7,CMm7,FM,E\\xe2\\x99\\xadM,Cm,E\\xe2\\x99\\xadMm7,Cm,DM,DM,GMm7,CM,Eo,FM,CM,FM,F\\xe2\\x99\\xafo7,CMm7,AM,CMm7,CMm7,CMm7,EM,FM,CM,Fm,CM,A\\xe2\\x99\\xadM,CM,FM,CM,A\\xe2\\x99\\xadM,Am,CMm7,CM,D\\xe2\\x99\\xadM,CM,A\\xe2\\x99\\xadM,CM,Fm,A\\xe2\\x99\\xadMm7,FM,GMm7,DMm7,B\\xe2\\x99\\xadM,E\\xe2\\x99\\xadM,EMm7,B\\xe2\\x99\\xadM,Am,CM,CM,Am,FM,Am,CMm7,B\\xe2\\x99\\xadM,FM,E\\xe2\\x99\\xadM,FM,CM,FM,F\\xe2\\x99\\xafo,Gm,DMm7,B\\xe2\\x99\\xadM,CM,B\\xe2\\x99\\xadM,CMm7,DM,DMm7,Gm,DM,E\\xe2\\x99\\xadM,CMm7,AMm7,FM,DMm7,AMm7,GMm7,AM,Gm,CM,GM,CMm7,FM,Gm,DM,E\\xe2\\x99\\xadM,AM,B\\xe2\\x99\\xadM,DM,E\\xe2\\x99\\xadM,EMm7,Gm,GM,DM,B\\xe2\\x99\\xadM,CM,FM,CM,FM,CMm7,FM,CM,D\\xe2\\x99\\xadM,CM,A\\xe2\\x99\\xadM,Go,A\\xe2\\x99\\xadM,FM,B\\xe2\\x99\\xadm,GMm7,GM,CM,FM,DM,Gm,E\\xe2\\x99\\xadM,CM,AM,B\\xe2\\x99\\xadM,AM,CM,FM,GMm7,EM,FM,CMm7,CM,Am,Gm,B\\xe2\\x99\\xadM,Em,CM,CMm7,GMm7,Dm,FM,FM,E\\xe2\\x99\\xadMm7,CMm7,FM,FM,EM,Am,Gm,CM,CM,FM,B\\xe2\\x99\\xadM,FM,EM,B\\xe2\\x99\\xadM,CM,Am,CMm7,AM,B\\xe2\\x99\\xadM,B\\xe2\\x99\\xadM,Dm,Bo,Eo,AM,Eo,C\\xe2\\x99\\xafm,CM,FM,CM,FM,CM,FM,CMm7,FM,CMm7,FM,CM,FM,CM,FM,CMm7,FM,FM]\\nCallStack (from HasCallStack):\\n  error, called at src/HeuristicParser.hs:639:20 in proto-voice-model-0.1.0.0-CvtZlN7QliYC5FPYvXh3BX:HeuristicParser\\n'\n",
      "\n",
      "Running command: stack run fullParse -- -n 1 -id 202304-1615-1815-a93d54f4-39ee-4d28-999e-27efc6f7d122 ABC n08op59-2_01 RandomWalk\n",
      "\n",
      "Running command: stack run fullParse -- -n 1 -id 202304-1615-1815-a93d54f4-39ee-4d28-999e-27efc6f7d122 ABC n01op18-1_01 RandomSample\n",
      "\n",
      "Running command: stack run fullParse -- -n 1 -id 202304-1615-1815-a93d54f4-39ee-4d28-999e-27efc6f7d122 ABC n13op130_03 RandomSample\n",
      "\n",
      "Running command: stack run fullParse -- -n 1 -id 202304-1615-1815-a93d54f4-39ee-4d28-999e-27efc6f7d122 ABC n01op18-1_01 RandomReduction\n",
      "\n",
      "Running command: stack run fullParse -- -n 1 -id 202304-1615-1815-a93d54f4-39ee-4d28-999e-27efc6f7d122 ABC n13op130_03 RandomReduction\n",
      "\n",
      "Running command: stack run fullParse -- -n 1 -id 202304-1615-1815-a93d54f4-39ee-4d28-999e-27efc6f7d122 ABC n01op18-1_02 RandomWalk\n",
      "\n",
      "Running command: stack run fullParse -- -n 1 -id 202304-1615-1815-a93d54f4-39ee-4d28-999e-27efc6f7d122 ABC n13op130_04 RandomWalk\n",
      "\n",
      "Running command: stack run fullParse -- -n 1 -id 202304-1615-1815-a93d54f4-39ee-4d28-999e-27efc6f7d122 ABC n13op130_04 RandomSample\n",
      "\n",
      "Running command: stack run fullParse -- -n 1 -id 202304-1615-1815-a93d54f4-39ee-4d28-999e-27efc6f7d122 ABC n13op130_04 RandomReduction\n",
      "\n",
      "Running command: stack run fullParse -- -n 1 -id 202304-1615-1815-a93d54f4-39ee-4d28-999e-27efc6f7d122 ABC n13op130_05 RandomWalk\n",
      "\n",
      "Running command: stack run fullParse -- -n 1 -id 202304-1615-1815-a93d54f4-39ee-4d28-999e-27efc6f7d122 ABC n10op74_03 RandomSample\n",
      "\n",
      "Running command: stack run fullParse -- -n 1 -id 202304-1615-1815-a93d54f4-39ee-4d28-999e-27efc6f7d122 ABC n10op74_03 RandomReduction\n",
      "\n",
      "Running command: stack run fullParse -- -n 1 -id 202304-1615-1815-a93d54f4-39ee-4d28-999e-27efc6f7d122 ABC n10op74_04 RandomWalk\n",
      "\n",
      "Running command: stack run fullParse -- -n 1 -id 202304-1615-1815-a93d54f4-39ee-4d28-999e-27efc6f7d122 ABC n05op18-5_03 RandomSample\n",
      "\n",
      "Running command: stack run fullParse -- -n 1 -id 202304-1615-1815-a93d54f4-39ee-4d28-999e-27efc6f7d122 ABC n05op18-5_03 RandomReduction\n",
      "\n",
      "Running command: stack run fullParse -- -n 1 -id 202304-1615-1815-a93d54f4-39ee-4d28-999e-27efc6f7d122 ABC n11op95_04 RandomSample\n",
      "\n",
      "Running command: stack run fullParse -- -n 1 -id 202304-1615-1815-a93d54f4-39ee-4d28-999e-27efc6f7d122 ABC n05op18-5_04 RandomWalk\n",
      "\n",
      "Running command: stack run fullParse -- -n 1 -id 202304-1615-1815-a93d54f4-39ee-4d28-999e-27efc6f7d122 ABC n11op95_04 RandomReduction\n",
      "\n",
      "Running command: stack run fullParse -- -n 1 -id 202304-1615-1815-a93d54f4-39ee-4d28-999e-27efc6f7d122 ABC n05op18-5_04 RandomSample\n",
      "\n",
      "Running command: stack run fullParse -- -n 1 -id 202304-1615-1815-a93d54f4-39ee-4d28-999e-27efc6f7d122 ABC n12op127_01 RandomWalk\n",
      "\n",
      "Running command: stack run fullParse -- -n 1 -id 202304-1615-1815-a93d54f4-39ee-4d28-999e-27efc6f7d122 ABC n05op18-5_04 RandomReduction\n",
      "\n",
      "Running command: stack run fullParse -- -n 1 -id 202304-1615-1815-a93d54f4-39ee-4d28-999e-27efc6f7d122 ABC n06op18-6_01 RandomWalk\n"
     ]
    }
   ],
   "source": [
    "if __name__ == '__main__':\n",
    "    algo_experiment()"
   ]
  },
  {
   "cell_type": "code",
   "execution_count": null,
   "metadata": {},
   "outputs": [],
   "source": []
  }
 ],
 "metadata": {
  "anaconda-cloud": {},
  "kernelspec": {
   "display_name": "Python 3 (ipykernel)",
   "language": "python",
   "name": "python3"
  },
  "language_info": {
   "codemirror_mode": {
    "name": "ipython",
    "version": 3
   },
   "file_extension": ".py",
   "mimetype": "text/x-python",
   "name": "python",
   "nbconvert_exporter": "python",
   "pygments_lexer": "ipython3",
   "version": "3.10.0"
  }
 },
 "nbformat": 4,
 "nbformat_minor": 4
}
