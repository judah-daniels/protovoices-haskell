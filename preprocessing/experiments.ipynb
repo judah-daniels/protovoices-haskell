{
 "cells": [
  {
   "attachments": {},
   "cell_type": "markdown",
   "metadata": {},
   "source": [
    "# Imports"
   ]
  },
  {
   "cell_type": "code",
   "execution_count": 12,
   "metadata": {},
   "outputs": [],
   "source": [
    "import subprocess\n",
    "import json\n",
    "from pathlib import Path\n",
    "from glob2 import glob\n",
    "import os"
   ]
  },
  {
   "cell_type": "code",
   "execution_count": null,
   "metadata": {},
   "outputs": [],
   "source": [
    "def runFullParse (piece:str):\n",
    "    jsonPath = \"outputs/\"+piece+\".json\"\n",
    "    cmd = [\"stack\",\"run\",\"fullParse\",\"--\",\"-n\",\"10\",piece, \"All\"] \n",
    "    print(\"Running command: \" + (\" \".join(cmd)))\n",
    "    print(\"Expecting results in \" + jsonPath)\n",
    "    #res = subprocess.run(cmd, cwd=\"..\")\n",
    "    res = subprocess.run(cmd, stdout=subprocess.PIPE, stderr=subprocess.PIPE, cwd=\"..\")\n",
    "\n",
    "    if res.returncode != 0:\n",
    "        print(\"Error in subprocess\")\n",
    "        print(res.stderr)\n",
    "        print(res.stdout)\n",
    "        return;\n",
    "    else:\n",
    "        f = open(jsonPath)\n",
    "        results = json.load(f)\n",
    "        f.close()\n",
    "        return results\n",
    "     "
   ]
  },
  {
   "cell_type": "code",
   "execution_count": 17,
   "metadata": {},
   "outputs": [],
   "source": [
    "def get_corpus_pieces(corpus):\n",
    "    return sorted (os.path.basename(d).split(\".\")[0] for d in glob(\"inputs/slices/\"+corpus+\"/*.csv\"))"
   ]
  },
  {
   "cell_type": "code",
   "execution_count": null,
   "metadata": {},
   "outputs": [],
   "source": [
    "def get_corpi():\n",
    "    return [os.path.basename(d) for d in glob(\"inputs/slices/*\")]"
   ]
  },
  {
   "cell_type": "code",
   "execution_count": 23,
   "metadata": {},
   "outputs": [
    {
     "data": {
      "text/plain": [
       "['inputs/slices/ABC',\n",
       " 'inputs/slices/grieg_lyric_pieces',\n",
       " 'inputs/slices/tests',\n",
       " 'inputs/slices/schumann_kinderszenen']"
      ]
     },
     "execution_count": 23,
     "metadata": {},
     "output_type": "execute_result"
    }
   ],
   "source": [
    "glob(\"inputs/slices/*\")"
   ]
  },
  {
   "cell_type": "code",
   "execution_count": 18,
   "metadata": {},
   "outputs": [
    {
     "data": {
      "text/plain": [
       "['n01op18-1_01',\n",
       " 'n01op18-1_02',\n",
       " 'n01op18-1_03',\n",
       " 'n01op18-1_04',\n",
       " 'n02op18-2_01',\n",
       " 'n02op18-2_02',\n",
       " 'n02op18-2_03',\n",
       " 'n02op18-2_04',\n",
       " 'n03op18-3_01',\n",
       " 'n03op18-3_02',\n",
       " 'n03op18-3_03',\n",
       " 'n03op18-3_04',\n",
       " 'n04op18-4_01',\n",
       " 'n04op18-4_02',\n",
       " 'n04op18-4_03',\n",
       " 'n04op18-4_04',\n",
       " 'n05op18-5_01',\n",
       " 'n05op18-5_02',\n",
       " 'n05op18-5_03',\n",
       " 'n05op18-5_04',\n",
       " 'n06op18-6_01',\n",
       " 'n06op18-6_02',\n",
       " 'n06op18-6_03',\n",
       " 'n06op18-6_04',\n",
       " 'n07op59-1_01',\n",
       " 'n07op59-1_02',\n",
       " 'n07op59-1_03',\n",
       " 'n07op59-1_04',\n",
       " 'n08op59-2_01',\n",
       " 'n08op59-2_02',\n",
       " 'n08op59-2_03',\n",
       " 'n08op59-2_04',\n",
       " 'n09op59-3_01',\n",
       " 'n09op59-3_02',\n",
       " 'n09op59-3_03',\n",
       " 'n09op59-3_04',\n",
       " 'n10op74_01',\n",
       " 'n10op74_02',\n",
       " 'n10op74_03',\n",
       " 'n10op74_04',\n",
       " 'n11op95_01',\n",
       " 'n11op95_02',\n",
       " 'n11op95_03',\n",
       " 'n11op95_04',\n",
       " 'n12op127_01',\n",
       " 'n12op127_02',\n",
       " 'n12op127_03',\n",
       " 'n12op127_04',\n",
       " 'n13op130_01',\n",
       " 'n13op130_02',\n",
       " 'n13op130_03',\n",
       " 'n13op130_04',\n",
       " 'n13op130_05',\n",
       " 'n13op130_06',\n",
       " 'n14op131_01',\n",
       " 'n14op131_02',\n",
       " 'n14op131_03',\n",
       " 'n14op131_04',\n",
       " 'n14op131_05',\n",
       " 'n14op131_06',\n",
       " 'n14op131_07',\n",
       " 'n15op132_01',\n",
       " 'n15op132_02',\n",
       " 'n15op132_03',\n",
       " 'n15op132_04',\n",
       " 'n15op132_05',\n",
       " 'n16op135_01',\n",
       " 'n16op135_02',\n",
       " 'n16op135_03',\n",
       " 'n16op135_04']"
      ]
     },
     "execution_count": 18,
     "metadata": {},
     "output_type": "execute_result"
    }
   ],
   "source": [
    "get_corpus_pieces(\"ABC\")"
   ]
  },
  {
   "cell_type": "code",
   "execution_count": 10,
   "metadata": {},
   "outputs": [],
   "source": [
    "c = Path(\"inputs/slices/ABC\")"
   ]
  },
  {
   "cell_type": "code",
   "execution_count": 11,
   "metadata": {},
   "outputs": [
    {
     "data": {
      "text/plain": [
       "['inputs/slices/ABC/n15op132_03.csv',\n",
       " 'inputs/slices/ABC/n14op131_01.csv',\n",
       " 'inputs/slices/ABC/n15op132_02.csv',\n",
       " 'inputs/slices/ABC/n14op131_03.csv',\n",
       " 'inputs/slices/ABC/n02op18-2_04.csv',\n",
       " 'inputs/slices/ABC/n14op131_02.csv',\n",
       " 'inputs/slices/ABC/n12op127_04.csv',\n",
       " 'inputs/slices/ABC/n15op132_01.csv',\n",
       " 'inputs/slices/ABC/n15op132_05.csv',\n",
       " 'inputs/slices/ABC/n02op18-2_01.csv',\n",
       " 'inputs/slices/ABC/n14op131_06.csv',\n",
       " 'inputs/slices/ABC/n14op131_07.csv',\n",
       " 'inputs/slices/ABC/n12op127_01.csv',\n",
       " 'inputs/slices/ABC/n15op132_04.csv',\n",
       " 'inputs/slices/ABC/n12op127_03.csv',\n",
       " 'inputs/slices/ABC/n02op18-2_02.csv',\n",
       " 'inputs/slices/ABC/n14op131_05.csv',\n",
       " 'inputs/slices/ABC/n14op131_04.csv',\n",
       " 'inputs/slices/ABC/n02op18-2_03.csv',\n",
       " 'inputs/slices/ABC/n12op127_02.csv',\n",
       " 'inputs/slices/ABC/n04op18-4_02.csv',\n",
       " 'inputs/slices/ABC/n11op95_03.csv',\n",
       " 'inputs/slices/ABC/n01op18-1_01.csv',\n",
       " 'inputs/slices/ABC/n11op95_02.csv',\n",
       " 'inputs/slices/ABC/n04op18-4_03.csv',\n",
       " 'inputs/slices/ABC/n13op130_06.csv',\n",
       " 'inputs/slices/ABC/n09op59-3_01.csv',\n",
       " 'inputs/slices/ABC/n09op59-3_03.csv',\n",
       " 'inputs/slices/ABC/n13op130_04.csv',\n",
       " 'inputs/slices/ABC/n04op18-4_01.csv',\n",
       " 'inputs/slices/ABC/n01op18-1_02.csv',\n",
       " 'inputs/slices/ABC/n01op18-1_03.csv',\n",
       " 'inputs/slices/ABC/n11op95_01.csv',\n",
       " 'inputs/slices/ABC/n13op130_05.csv',\n",
       " 'inputs/slices/ABC/n09op59-3_02.csv',\n",
       " 'inputs/slices/ABC/n13op130_01.csv',\n",
       " 'inputs/slices/ABC/n04op18-4_04.csv',\n",
       " 'inputs/slices/ABC/n11op95_04.csv',\n",
       " 'inputs/slices/ABC/n13op130_02.csv',\n",
       " 'inputs/slices/ABC/n01op18-1_04.csv',\n",
       " 'inputs/slices/ABC/n13op130_03.csv',\n",
       " 'inputs/slices/ABC/n09op59-3_04.csv',\n",
       " 'inputs/slices/ABC/n06op18-6_01.csv',\n",
       " 'inputs/slices/ABC/n03op18-3_02.csv',\n",
       " 'inputs/slices/ABC/n03op18-3_03.csv',\n",
       " 'inputs/slices/ABC/n16op135_04.csv',\n",
       " 'inputs/slices/ABC/n06op18-6_02.csv',\n",
       " 'inputs/slices/ABC/n03op18-3_01.csv',\n",
       " 'inputs/slices/ABC/n06op18-6_03.csv',\n",
       " 'inputs/slices/ABC/n16op135_01.csv',\n",
       " 'inputs/slices/ABC/n03op18-3_04.csv',\n",
       " 'inputs/slices/ABC/n16op135_02.csv',\n",
       " 'inputs/slices/ABC/n06op18-6_04.csv',\n",
       " 'inputs/slices/ABC/n16op135_03.csv',\n",
       " 'inputs/slices/ABC/n07op59-1_01.csv',\n",
       " 'inputs/slices/ABC/n08op59-2_04.csv',\n",
       " 'inputs/slices/ABC/n07op59-1_03.csv',\n",
       " 'inputs/slices/ABC/n05op18-5_04.csv',\n",
       " 'inputs/slices/ABC/n07op59-1_02.csv',\n",
       " 'inputs/slices/ABC/n10op74_04.csv',\n",
       " 'inputs/slices/ABC/n08op59-2_03.csv',\n",
       " 'inputs/slices/ABC/n05op18-5_01.csv',\n",
       " 'inputs/slices/ABC/n10op74_01.csv',\n",
       " 'inputs/slices/ABC/n08op59-2_02.csv',\n",
       " 'inputs/slices/ABC/n10op74_03.csv',\n",
       " 'inputs/slices/ABC/n05op18-5_02.csv',\n",
       " 'inputs/slices/ABC/n05op18-5_03.csv',\n",
       " 'inputs/slices/ABC/n07op59-1_04.csv',\n",
       " 'inputs/slices/ABC/n10op74_02.csv',\n",
       " 'inputs/slices/ABC/n08op59-2_01.csv']"
      ]
     },
     "execution_count": 11,
     "metadata": {},
     "output_type": "execute_result"
    }
   ],
   "source": [
    "glob(\"inputs/slices/ABC/*.csv\")"
   ]
  },
  {
   "cell_type": "code",
   "execution_count": 6,
   "metadata": {},
   "outputs": [],
   "source": [
    "g = glob(\"inputs/slices/*\")"
   ]
  },
  {
   "cell_type": "code",
   "execution_count": 14,
   "metadata": {},
   "outputs": [
    {
     "data": {
      "text/plain": [
       "'n08op59-2_01.csv'"
      ]
     },
     "execution_count": 14,
     "metadata": {},
     "output_type": "execute_result"
    }
   ],
   "source": [
    "os.path.basename('inputs/slices/ABC/n08op59-2_01.csv')"
   ]
  },
  {
   "cell_type": "code",
   "execution_count": 7,
   "metadata": {},
   "outputs": [
    {
     "ename": "AttributeError",
     "evalue": "'str' object has no attribute 'parent'",
     "output_type": "error",
     "traceback": [
      "\u001b[0;31m---------------------------------------------------------------------------\u001b[0m",
      "\u001b[0;31mAttributeError\u001b[0m                            Traceback (most recent call last)",
      "Cell \u001b[0;32mIn[7], line 1\u001b[0m\n\u001b[0;32m----> 1\u001b[0m g[\u001b[39m0\u001b[39;49m]\u001b[39m.\u001b[39;49mparent\n",
      "\u001b[0;31mAttributeError\u001b[0m: 'str' object has no attribute 'parent'"
     ]
    }
   ],
   "source": [
    "g[0].parent"
   ]
  },
  {
   "cell_type": "code",
   "execution_count": null,
   "metadata": {},
   "outputs": [],
   "source": [
    "def runFullPieceExperiment(pieces):\n",
    "    # Runs Heuristic search, Random Search, and Random sample search on the given piece.\n",
    "    # Returns the scores for each \n",
    "    res = []\n",
    "    for piece in pieces:\n",
    "      res.append(runFullParse(piece))\n",
    "    return res \n",
    "\n"
   ]
  },
  {
   "attachments": {},
   "cell_type": "markdown",
   "metadata": {},
   "source": [
    "# Run Experiments"
   ]
  },
  {
   "cell_type": "markdown",
   "metadata": {},
   "source": []
  },
  {
   "cell_type": "code",
   "execution_count": null,
   "metadata": {},
   "outputs": [],
   "source": [
    "res = runFullPieceExperiment(pieces[0:3])"
   ]
  },
  {
   "cell_type": "code",
   "execution_count": null,
   "metadata": {},
   "outputs": [],
   "source": []
  }
 ],
 "metadata": {
  "kernelspec": {
   "display_name": "Python 3",
   "language": "python",
   "name": "python3"
  },
  "language_info": {
   "codemirror_mode": {
    "name": "ipython",
    "version": 3
   },
   "file_extension": ".py",
   "mimetype": "text/x-python",
   "name": "python",
   "nbconvert_exporter": "python",
   "pygments_lexer": "ipython3",
   "version": "3.11.2"
  },
  "orig_nbformat": 4,
  "vscode": {
   "interpreter": {
    "hash": "b0fa6594d8f4cbf19f97940f81e996739fb7646882a419484c72d19e05852a7e"
   }
  }
 },
 "nbformat": 4,
 "nbformat_minor": 2
}
