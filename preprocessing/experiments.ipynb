{
 "cells": [
  {
   "cell_type": "markdown",
   "metadata": {
    "jukit_cell_id": "2m02J4WyK4"
   },
   "source": [
    "# Imports"
   ]
  },
  {
   "cell_type": "code",
   "execution_count": 1,
   "metadata": {
    "jukit_cell_id": "YcC0bncuM6",
    "tags": []
   },
   "outputs": [],
   "source": [
    "import subprocess\n",
    "import json\n",
    "from pathlib import Path\n",
    "from glob2 import glob\n",
    "import os\n",
    "from multiprocessing import Pool\n",
    "from datetime import datetime\n",
    "from uuid import uuid4"
   ]
  },
  {
   "cell_type": "markdown",
   "metadata": {
    "jukit_cell_id": "KKwSV9K5Nd"
   },
   "source": [
    "# Functions"
   ]
  },
  {
   "cell_type": "code",
   "execution_count": 2,
   "metadata": {
    "jukit_cell_id": "Jaacso6eM3",
    "tags": []
   },
   "outputs": [],
   "source": [
    "def runFullParse (inputPiece, iterations=10):\n",
    "    (corpus, piece) = inputPiece\n",
    "    jsonPath = \"outputs/\"+corpus+\"/\"+piece+\".json\"\n",
    "    cmd = [\"stack\",\"run\",\"fullParse\",\"--\",\"-n\",str(iterations), corpus, piece, \"All\"] \n",
    "    print(\"Running command: \" + (\" \".join(cmd)))\n",
    "    print(\"Expecting results in \" + jsonPath)\n",
    "    \n",
    "    #res = subprocess.run(cmd, cwd=\"..\")\n",
    "    #res = subprocess.run(cmd, stdout=subprocess.PIPE, stderr=subprocess.PIPE, cwd=\"..\")\n",
    "    res = subprocess.run(cmd,stderr=subprocess.PIPE, cwd=\"..\")\n",
    "\n",
    "    if res.returncode != 0:\n",
    "        print(\"Error in subprocess:\")\n",
    "        print(res.stderr)\n",
    "        return;\n",
    "    else:\n",
    "        f = open(jsonPath)\n",
    "        results = json.load(f)\n",
    "        f.close()\n",
    "        return results\n",
    "     \n",
    "def get_corpus_pieces(corpus):\n",
    "    return sorted (os.path.basename(d).split(\".\")[0] for d in glob(\"inputs/slices/\"+corpus+\"/*.csv\"))\n",
    "\n",
    "def get_corpi():\n",
    "    return [os.path.basename(d) for d in glob(\"inputs/slices/*\")][1:]\n",
    "\n",
    "def run_experiment():\n",
    "    corpi = get_corpi()\n",
    "    for corpus in corpi:\n",
    "        pieces = get_corpus_pieces(corpus)\n",
    "        for piece in pieces:\n",
    "            runFullParse((corpus, piece))"
   ]
  },
  {
   "cell_type": "code",
   "execution_count": 3,
   "metadata": {
    "tags": []
   },
   "outputs": [],
   "source": [
    "def run_Experiment(commands,name,threads):\n",
    "    id = datetime.now().strftime('%Y%m-%d%H-%M%S_') + name\n",
    "\n",
    "    commands = [ [\"stack\",\"run\",\"fullParse\",\"--\",\"-n\",str(1), \"-id\", str(id)] + command for command in commands]\n",
    "    with Pool(threads) as p:\n",
    "        p.map(run_command, commands)\n"
   ]
  },
  {
   "cell_type": "code",
   "execution_count": 4,
   "metadata": {
    "tags": []
   },
   "outputs": [],
   "source": [
    "def run_command(command):\n",
    "    print(\"\\nRunning command: \" + (\" \".join(command)))    \n",
    "    #res = subprocess.run(cmd, cwd=\"..\")\n",
    "    #res = subprocess.run(cmd, stdout=subprocess.PIPE, stderr=subprocess.PIPE, cwd=\"..\")\n",
    "    res = subprocess.run(command,stderr=subprocess.PIPE, cwd=\"..\")\n",
    "\n",
    "    if res.returncode != 0:\n",
    "        print(\"Error in subprocess:\")\n",
    "        print(res.stderr)\n",
    "        return;\n"
   ]
  },
  {
   "cell_type": "code",
   "execution_count": 5,
   "metadata": {
    "tags": []
   },
   "outputs": [],
   "source": [
    "def full_experiment(threads=20):\n",
    "    commands = []\n",
    "    corpi = get_corpi()\n",
    "    for corpus in corpi:\n",
    "        pieces = get_corpus_pieces(corpus)\n",
    "        for piece in pieces:\n",
    "            for algorithm in [\"RandomWalk\", \"RandomSample\", \"RandomReduction\",\"BeamSearch 10\"]:\n",
    "                commands.append([ corpus, piece, algorithm])\n",
    "\n",
    "    run_Experiment(commands, \"baseline\", threads)"
   ]
  },
  {
   "cell_type": "code",
   "execution_count": 6,
   "metadata": {
    "tags": []
   },
   "outputs": [],
   "source": [
    "def baseline_experiment(threads=20):\n",
    "    commands = []\n",
    "    corpi = get_corpi()\n",
    "    for corpus in corpi:\n",
    "        pieces = get_corpus_pieces(corpus)\n",
    "        for piece in pieces:\n",
    "            for algorithm in [\"RandomWalk\", \"RandomSample\", \"RandomReduction\"]:\n",
    "                commands.append([ corpus, piece, algorithm])\n",
    "\n",
    "    run_Experiment(commands, \"baseline\", threads)\n"
   ]
  },
  {
   "cell_type": "code",
   "execution_count": 7,
   "metadata": {
    "tags": []
   },
   "outputs": [],
   "source": [
    "def beamwidth_experiment(threads=10):\n",
    "    commands = []\n",
    "    corpi = get_corpi()\n",
    "    for corpus in corpi:\n",
    "        pieces = get_corpus_pieces(corpus)\n",
    "        for piece in pieces:\n",
    "            for w in range (1,20):\n",
    "                algo = \"BeamSearch \" + str(w)\n",
    "                commands.append([ corpus, piece, algo])\n",
    "\n",
    "    run_Experiment(commands, \"beamwidth\", threads)"
   ]
  },
  {
   "cell_type": "code",
   "execution_count": 8,
   "metadata": {
    "tags": []
   },
   "outputs": [
    {
     "name": "stdout",
     "output_type": "stream",
     "text": [
      "\"io\n"
     ]
    }
   ],
   "source": [
    "print(\"\\\"io\")"
   ]
  },
  {
   "cell_type": "markdown",
   "metadata": {
    "jukit_cell_id": "d0ifs7vsg1"
   },
   "source": [
    "# Run Experiments"
   ]
  },
  {
   "cell_type": "code",
   "execution_count": null,
   "metadata": {
    "jukit_cell_id": "eHdRDnhify",
    "tags": []
   },
   "outputs": [
    {
     "name": "stdout",
     "output_type": "stream",
     "text": [
      "\n",
      "Running command: stack run fullParse -- -n 1 -id 202304-1617-4112_beamwidth grieg_lyric_pieces op12n07 BeamSearch 15\n",
      "Running command: stack run fullParse -- -n 1 -id 202304-1617-4112_beamwidth grieg_lyric_pieces op12n01 BeamSearch 1\n",
      "\n",
      "Running command: stack run fullParse -- -n 1 -id 202304-1617-4112_beamwidth grieg_lyric_pieces op12n04 BeamSearch 8\n",
      "Running command: stack run fullParse -- -n 1 -id 202304-1617-4112_beamwidth grieg_lyric_pieces op38n03 BeamSearch 3\n",
      "Running command: stack run fullParse -- -n 1 -id 202304-1617-4112_beamwidth grieg_lyric_pieces op38n06 BeamSearch 10\n",
      "Running command: stack run fullParse -- -n 1 -id 202304-1617-4112_beamwidth grieg_lyric_pieces op43n01 BeamSearch 17\n",
      "Running command: stack run fullParse -- -n 1 -id 202304-1617-4112_beamwidth grieg_lyric_pieces op43n05 BeamSearch 5\n",
      "Running command: stack run fullParse -- -n 1 -id 202304-1617-4112_beamwidth grieg_lyric_pieces op47n02 BeamSearch 12\n",
      "\n",
      "Running command: stack run fullParse -- -n 1 -id 202304-1617-4112_beamwidth grieg_lyric_pieces op47n05 BeamSearch 19\n",
      "Running command: stack run fullParse -- -n 1 -id 202304-1617-4112_beamwidth grieg_lyric_pieces op54n02 BeamSearch 7\n",
      "\n",
      "\n",
      "\n",
      "\n",
      "\n",
      "\n",
      "\n",
      "\n",
      "Running command: stack run fullParse -- -n 1 -id 202304-1617-4112_beamwidth grieg_lyric_pieces op43n01 BeamSearch 18\n",
      "\n",
      "Running command: stack run fullParse -- -n 1 -id 202304-1617-4112_beamwidth grieg_lyric_pieces op43n01 BeamSearch 19\n",
      "\n",
      "Running command: stack run fullParse -- -n 1 -id 202304-1617-4112_beamwidth grieg_lyric_pieces op43n02 BeamSearch 1\n",
      "\n",
      "Running command: stack run fullParse -- -n 1 -id 202304-1617-4112_beamwidth grieg_lyric_pieces op12n01 BeamSearch 2\n",
      "\n",
      "Running command: stack run fullParse -- -n 1 -id 202304-1617-4112_beamwidth grieg_lyric_pieces op38n03 BeamSearch 4\n",
      "\n",
      "Running command: stack run fullParse -- -n 1 -id 202304-1617-4112_beamwidth grieg_lyric_pieces op12n01 BeamSearch 3\n",
      "\n",
      "Running command: stack run fullParse -- -n 1 -id 202304-1617-4112_beamwidth grieg_lyric_pieces op38n03 BeamSearch 5\n",
      "\n",
      "Running command: stack run fullParse -- -n 1 -id 202304-1617-4112_beamwidth grieg_lyric_pieces op12n01 BeamSearch 4\n",
      "Error in subprocess:\n"
     ]
    },
    {
     "name": "stderr",
     "output_type": "stream",
     "text": [
      "IOPub data rate exceeded.\n",
      "The Jupyter server will temporarily stop sending output\n",
      "to the client in order to avoid crashing it.\n",
      "To change this limit, set the config variable\n",
      "`--ServerApp.iopub_data_rate_limit`.\n",
      "\n",
      "Current values:\n",
      "ServerApp.iopub_data_rate_limit=1000000.0 (bytes/sec)\n",
      "ServerApp.rate_limit_window=3.0 (secs)\n",
      "\n"
     ]
    },
    {
     "name": "stdout",
     "output_type": "stream",
     "text": [
      "\n",
      "\n",
      "\n",
      "Running command: stack run fullParse -- -n 1 -id 202304-1617-4112_beamwidth grieg_lyric_pieces op12n07 BeamSearch 16\n",
      "Running command: stack run fullParse -- -n 1 -id 202304-1617-4112_beamwidth grieg_lyric_pieces op38n03 BeamSearch 6\n",
      "\n",
      "Running command: stack run fullParse -- -n 1 -id 202304-1617-4112_beamwidth grieg_lyric_pieces op12n01 BeamSearch 5\n",
      "\n",
      "Running command: stack run fullParse -- -n 1 -id 202304-1617-4112_beamwidth grieg_lyric_pieces op38n03 BeamSearch 7\n",
      "\n",
      "Running command: stack run fullParse -- -n 1 -id 202304-1617-4112_beamwidth grieg_lyric_pieces op12n01 BeamSearch 6\n",
      "\n",
      "Running command: stack run fullParse -- -n 1 -id 202304-1617-4112_beamwidth grieg_lyric_pieces op38n03 BeamSearch 8\n",
      "\n",
      "Running command: stack run fullParse -- -n 1 -id 202304-1617-4112_beamwidth grieg_lyric_pieces op12n01 BeamSearch 7\n",
      "Error in subprocess:\n"
     ]
    },
    {
     "name": "stderr",
     "output_type": "stream",
     "text": [
      "IOPub data rate exceeded.\n",
      "The Jupyter server will temporarily stop sending output\n",
      "to the client in order to avoid crashing it.\n",
      "To change this limit, set the config variable\n",
      "`--ServerApp.iopub_data_rate_limit`.\n",
      "\n",
      "Current values:\n",
      "ServerApp.iopub_data_rate_limit=1000000.0 (bytes/sec)\n",
      "ServerApp.rate_limit_window=3.0 (secs)\n",
      "\n"
     ]
    },
    {
     "name": "stdout",
     "output_type": "stream",
     "text": [
      "\n",
      "\n",
      "\n",
      "Running command: stack run fullParse -- -n 1 -id 202304-1617-4112_beamwidth grieg_lyric_pieces op12n07 BeamSearch 17\n",
      "Running command: stack run fullParse -- -n 1 -id 202304-1617-4112_beamwidth grieg_lyric_pieces op38n03 BeamSearch 9\n",
      "\n",
      "Running command: stack run fullParse -- -n 1 -id 202304-1617-4112_beamwidth grieg_lyric_pieces op12n01 BeamSearch 8\n",
      "\n",
      "Running command: stack run fullParse -- -n 1 -id 202304-1617-4112_beamwidth grieg_lyric_pieces op12n01 BeamSearch 9\n",
      "\n",
      "Running command: stack run fullParse -- -n 1 -id 202304-1617-4112_beamwidth grieg_lyric_pieces op38n03 BeamSearch 10\n",
      "\n",
      "Running command: stack run fullParse -- -n 1 -id 202304-1617-4112_beamwidth grieg_lyric_pieces op12n01 BeamSearch 10\n",
      "\n",
      "Running command: stack run fullParse -- -n 1 -id 202304-1617-4112_beamwidth grieg_lyric_pieces op38n03 BeamSearch 11\n",
      "Error in subprocess:\n"
     ]
    },
    {
     "name": "stderr",
     "output_type": "stream",
     "text": [
      "IOPub data rate exceeded.\n",
      "The Jupyter server will temporarily stop sending output\n",
      "to the client in order to avoid crashing it.\n",
      "To change this limit, set the config variable\n",
      "`--ServerApp.iopub_data_rate_limit`.\n",
      "\n",
      "Current values:\n",
      "ServerApp.iopub_data_rate_limit=1000000.0 (bytes/sec)\n",
      "ServerApp.rate_limit_window=3.0 (secs)\n",
      "\n"
     ]
    },
    {
     "name": "stdout",
     "output_type": "stream",
     "text": [
      "\n",
      "\n",
      "\n",
      "Running command: stack run fullParse -- -n 1 -id 202304-1617-4112_beamwidth grieg_lyric_pieces op12n07 BeamSearch 18\n",
      "Running command: stack run fullParse -- -n 1 -id 202304-1617-4112_beamwidth grieg_lyric_pieces op12n01 BeamSearch 11\n",
      "\n",
      "Running command: stack run fullParse -- -n 1 -id 202304-1617-4112_beamwidth grieg_lyric_pieces op38n03 BeamSearch 12\n",
      "\n",
      "Running command: stack run fullParse -- -n 1 -id 202304-1617-4112_beamwidth grieg_lyric_pieces op12n01 BeamSearch 12\n",
      "\n",
      "Running command: stack run fullParse -- -n 1 -id 202304-1617-4112_beamwidth grieg_lyric_pieces op38n03 BeamSearch 13\n",
      "\n",
      "Running command: stack run fullParse -- -n 1 -id 202304-1617-4112_beamwidth grieg_lyric_pieces op12n01 BeamSearch 13\n",
      "Error in subprocess:\n"
     ]
    },
    {
     "name": "stderr",
     "output_type": "stream",
     "text": [
      "IOPub data rate exceeded.\n",
      "The Jupyter server will temporarily stop sending output\n",
      "to the client in order to avoid crashing it.\n",
      "To change this limit, set the config variable\n",
      "`--ServerApp.iopub_data_rate_limit`.\n",
      "\n",
      "Current values:\n",
      "ServerApp.iopub_data_rate_limit=1000000.0 (bytes/sec)\n",
      "ServerApp.rate_limit_window=3.0 (secs)\n",
      "\n"
     ]
    },
    {
     "name": "stdout",
     "output_type": "stream",
     "text": [
      "\n",
      "\n",
      "\n",
      "Running command: stack run fullParse -- -n 1 -id 202304-1617-4112_beamwidth grieg_lyric_pieces op12n07 BeamSearch 19\n",
      "Running command: stack run fullParse -- -n 1 -id 202304-1617-4112_beamwidth grieg_lyric_pieces op38n03 BeamSearch 14\n",
      "\n",
      "Running command: stack run fullParse -- -n 1 -id 202304-1617-4112_beamwidth grieg_lyric_pieces op38n06 BeamSearch 11\n",
      "\n",
      "Running command: stack run fullParse -- -n 1 -id 202304-1617-4112_beamwidth grieg_lyric_pieces op12n01 BeamSearch 14\n",
      "\n",
      "Running command: stack run fullParse -- -n 1 -id 202304-1617-4112_beamwidth grieg_lyric_pieces op38n03 BeamSearch 15\n",
      "Error in subprocess:\n",
      "Error in subprocess:\n",
      "Error in subprocess:\n",
      "Error in subprocess:\n",
      "\n",
      "Running command: stack run fullParse -- -n 1 -id 202304-1617-4112_beamwidth grieg_lyric_pieces op54n02 BeamSearch 8\n"
     ]
    },
    {
     "name": "stderr",
     "output_type": "stream",
     "text": [
      "IOPub data rate exceeded.\n",
      "The Jupyter server will temporarily stop sending output\n",
      "to the client in order to avoid crashing it.\n",
      "To change this limit, set the config variable\n",
      "`--ServerApp.iopub_data_rate_limit`.\n",
      "\n",
      "Current values:\n",
      "ServerApp.iopub_data_rate_limit=1000000.0 (bytes/sec)\n",
      "ServerApp.rate_limit_window=3.0 (secs)\n",
      "\n"
     ]
    },
    {
     "name": "stdout",
     "output_type": "stream",
     "text": [
      "\n",
      "\n",
      "\n",
      "Running command: stack run fullParse -- -n 1 -id 202304-1617-4112_beamwidth grieg_lyric_pieces op47n02 BeamSearch 13"
     ]
    },
    {
     "name": "stderr",
     "output_type": "stream",
     "text": [
      "IOPub data rate exceeded.\n",
      "The Jupyter server will temporarily stop sending output\n",
      "to the client in order to avoid crashing it.\n",
      "To change this limit, set the config variable\n",
      "`--ServerApp.iopub_data_rate_limit`.\n",
      "\n",
      "Current values:\n",
      "ServerApp.iopub_data_rate_limit=1000000.0 (bytes/sec)\n",
      "ServerApp.rate_limit_window=3.0 (secs)\n",
      "\n"
     ]
    },
    {
     "name": "stdout",
     "output_type": "stream",
     "text": [
      "\n",
      "\n",
      "Running command: stack run fullParse -- -n 1 -id 202304-1617-4112_beamwidth grieg_lyric_pieces op43n05 BeamSearch 6\n"
     ]
    },
    {
     "name": "stderr",
     "output_type": "stream",
     "text": [
      "IOPub data rate exceeded.\n",
      "The Jupyter server will temporarily stop sending output\n",
      "to the client in order to avoid crashing it.\n",
      "To change this limit, set the config variable\n",
      "`--ServerApp.iopub_data_rate_limit`.\n",
      "\n",
      "Current values:\n",
      "ServerApp.iopub_data_rate_limit=1000000.0 (bytes/sec)\n",
      "ServerApp.rate_limit_window=3.0 (secs)\n",
      "\n"
     ]
    },
    {
     "name": "stdout",
     "output_type": "stream",
     "text": [
      "\n",
      "\n",
      "Running command: stack run fullParse -- -n 1 -id 202304-1617-4112_beamwidth grieg_lyric_pieces op47n06 BeamSearch 1\n",
      "\n",
      "Running command: stack run fullParse -- -n 1 -id 202304-1617-4112_beamwidth grieg_lyric_pieces op12n01 BeamSearch 15\n",
      "Error in subprocess:\n"
     ]
    },
    {
     "name": "stderr",
     "output_type": "stream",
     "text": [
      "IOPub data rate exceeded.\n",
      "The Jupyter server will temporarily stop sending output\n",
      "to the client in order to avoid crashing it.\n",
      "To change this limit, set the config variable\n",
      "`--ServerApp.iopub_data_rate_limit`.\n",
      "\n",
      "Current values:\n",
      "ServerApp.iopub_data_rate_limit=1000000.0 (bytes/sec)\n",
      "ServerApp.rate_limit_window=3.0 (secs)\n",
      "\n"
     ]
    },
    {
     "name": "stdout",
     "output_type": "stream",
     "text": [
      "\n",
      "\n",
      "\n",
      "Running command: stack run fullParse -- -n 1 -id 202304-1617-4112_beamwidth grieg_lyric_pieces op43n02 BeamSearch 2"
     ]
    },
    {
     "name": "stderr",
     "output_type": "stream",
     "text": [
      "IOPub data rate exceeded.\n",
      "The Jupyter server will temporarily stop sending output\n",
      "to the client in order to avoid crashing it.\n",
      "To change this limit, set the config variable\n",
      "`--ServerApp.iopub_data_rate_limit`.\n",
      "\n",
      "Current values:\n",
      "ServerApp.iopub_data_rate_limit=1000000.0 (bytes/sec)\n",
      "ServerApp.rate_limit_window=3.0 (secs)\n",
      "\n"
     ]
    },
    {
     "name": "stdout",
     "output_type": "stream",
     "text": [
      "\n",
      "\n",
      "Running command: stack run fullParse -- -n 1 -id 202304-1617-4112_beamwidth grieg_lyric_pieces op12n04 BeamSearch 9\n",
      "\n",
      "Running command: stack run fullParse -- -n 1 -id 202304-1617-4112_beamwidth grieg_lyric_pieces op38n03 BeamSearch 16\n",
      "\n",
      "Running command: stack run fullParse -- -n 1 -id 202304-1617-4112_beamwidth grieg_lyric_pieces op12n01 BeamSearch 16\n",
      "Error in subprocess:\n"
     ]
    },
    {
     "name": "stderr",
     "output_type": "stream",
     "text": [
      "IOPub data rate exceeded.\n",
      "The Jupyter server will temporarily stop sending output\n",
      "to the client in order to avoid crashing it.\n",
      "To change this limit, set the config variable\n",
      "`--ServerApp.iopub_data_rate_limit`.\n",
      "\n",
      "Current values:\n",
      "ServerApp.iopub_data_rate_limit=1000000.0 (bytes/sec)\n",
      "ServerApp.rate_limit_window=3.0 (secs)\n",
      "\n"
     ]
    },
    {
     "name": "stdout",
     "output_type": "stream",
     "text": [
      "\n",
      "\n",
      "Running command: stack run fullParse -- -n 1 -id 202304-1617-4112_beamwidth grieg_lyric_pieces op12n08 BeamSearch 1\n",
      "\n",
      "Running command: stack run fullParse -- -n 1 -id 202304-1617-4112_beamwidth grieg_lyric_pieces op38n03 BeamSearch 17\n",
      "\n",
      "Running command: stack run fullParse -- -n 1 -id 202304-1617-4112_beamwidth grieg_lyric_pieces op12n01 BeamSearch 17\n",
      "\n",
      "Running command: stack run fullParse -- -n 1 -id 202304-1617-4112_beamwidth grieg_lyric_pieces op12n08 BeamSearch 2\n",
      "\n",
      "Running command: stack run fullParse -- -n 1 -id 202304-1617-4112_beamwidth grieg_lyric_pieces op12n01 BeamSearch 18\n",
      "\n",
      "Running command: stack run fullParse -- -n 1 -id 202304-1617-4112_beamwidth grieg_lyric_pieces op38n03 BeamSearch 18\n",
      "\n",
      "Running command: stack run fullParse -- -n 1 -id 202304-1617-4112_beamwidth grieg_lyric_pieces op12n01 BeamSearch 19\n",
      "\n",
      "Running command: stack run fullParse -- -n 1 -id 202304-1617-4112_beamwidth grieg_lyric_pieces op38n03 BeamSearch 19\n",
      "\n",
      "Running command: stack run fullParse -- -n 1 -id 202304-1617-4112_beamwidth grieg_lyric_pieces op12n08 BeamSearch 3\n",
      "\n",
      "Running command: stack run fullParse -- -n 1 -id 202304-1617-4112_beamwidth grieg_lyric_pieces op12n02 BeamSearch 1\n",
      "\n",
      "Running command: stack run fullParse -- -n 1 -id 202304-1617-4112_beamwidth grieg_lyric_pieces op38n04 BeamSearch 1\n",
      "\n",
      "Running command: stack run fullParse -- -n 1 -id 202304-1617-4112_beamwidth grieg_lyric_pieces op12n08 BeamSearch 4\n",
      "\n",
      "Running command: stack run fullParse -- -n 1 -id 202304-1617-4112_beamwidth grieg_lyric_pieces op12n08 BeamSearch 6\n",
      "\n",
      "Running command: stack run fullParse -- -n 1 -id 202304-1617-4112_beamwidth grieg_lyric_pieces op12n08 BeamSearch 7\n",
      "\n",
      "Running command: stack run fullParse -- -n 1 -id 202304-1617-4112_beamwidth grieg_lyric_pieces op12n08 BeamSearch 8\n",
      "Error in subprocess:\n"
     ]
    },
    {
     "name": "stderr",
     "output_type": "stream",
     "text": [
      "IOPub data rate exceeded.\n",
      "The Jupyter server will temporarily stop sending output\n",
      "to the client in order to avoid crashing it.\n",
      "To change this limit, set the config variable\n",
      "`--ServerApp.iopub_data_rate_limit`.\n",
      "\n",
      "Current values:\n",
      "ServerApp.iopub_data_rate_limit=1000000.0 (bytes/sec)\n",
      "ServerApp.rate_limit_window=3.0 (secs)\n",
      "\n"
     ]
    },
    {
     "name": "stdout",
     "output_type": "stream",
     "text": [
      "\n",
      "\n",
      "\n",
      "Running command: stack run fullParse -- -n 1 -id 202304-1617-4112_beamwidth grieg_lyric_pieces op38n04 BeamSearch 2\n",
      "Running command: stack run fullParse -- -n 1 -id 202304-1617-4112_beamwidth grieg_lyric_pieces op38n06 BeamSearch 12\n",
      "\n",
      "Running command: stack run fullParse -- -n 1 -id 202304-1617-4112_beamwidth grieg_lyric_pieces op12n08 BeamSearch 9\n",
      "\n",
      "Running command: stack run fullParse -- -n 1 -id 202304-1617-4112_beamwidth grieg_lyric_pieces op12n08 BeamSearch 10\n",
      "Error in subprocess:\n",
      "\n",
      "Running command: stack run fullParse -- -n 1 -id 202304-1617-4112_beamwidth grieg_lyric_pieces op54n02 BeamSearch 9\n"
     ]
    },
    {
     "name": "stderr",
     "output_type": "stream",
     "text": [
      "IOPub data rate exceeded.\n",
      "The Jupyter server will temporarily stop sending output\n",
      "to the client in order to avoid crashing it.\n",
      "To change this limit, set the config variable\n",
      "`--ServerApp.iopub_data_rate_limit`.\n",
      "\n",
      "Current values:\n",
      "ServerApp.iopub_data_rate_limit=1000000.0 (bytes/sec)\n",
      "ServerApp.rate_limit_window=3.0 (secs)\n",
      "\n"
     ]
    },
    {
     "name": "stdout",
     "output_type": "stream",
     "text": [
      "\n",
      "\n",
      "Running command: stack run fullParse -- -n 1 -id 202304-1617-4112_beamwidth grieg_lyric_pieces op47n02 BeamSearch 14\n",
      "\n",
      "Running command: stack run fullParse -- -n 1 -id 202304-1617-4112_beamwidth grieg_lyric_pieces op47n06 BeamSearch 2\n",
      "Error in subprocess:\n"
     ]
    },
    {
     "name": "stderr",
     "output_type": "stream",
     "text": [
      "IOPub data rate exceeded.\n",
      "The Jupyter server will temporarily stop sending output\n",
      "to the client in order to avoid crashing it.\n",
      "To change this limit, set the config variable\n",
      "`--ServerApp.iopub_data_rate_limit`.\n",
      "\n",
      "Current values:\n",
      "ServerApp.iopub_data_rate_limit=1000000.0 (bytes/sec)\n",
      "ServerApp.rate_limit_window=3.0 (secs)\n",
      "\n"
     ]
    },
    {
     "name": "stdout",
     "output_type": "stream",
     "text": [
      "\n",
      "\n",
      "\n",
      "Running command: stack run fullParse -- -n 1 -id 202304-1617-4112_beamwidth grieg_lyric_pieces op43n05 BeamSearch 7Error in subprocess:\n",
      "Error in subprocess:\n"
     ]
    },
    {
     "name": "stderr",
     "output_type": "stream",
     "text": [
      "IOPub data rate exceeded.\n",
      "The Jupyter server will temporarily stop sending output\n",
      "to the client in order to avoid crashing it.\n",
      "To change this limit, set the config variable\n",
      "`--ServerApp.iopub_data_rate_limit`.\n",
      "\n",
      "Current values:\n",
      "ServerApp.iopub_data_rate_limit=1000000.0 (bytes/sec)\n",
      "ServerApp.rate_limit_window=3.0 (secs)\n",
      "\n"
     ]
    },
    {
     "name": "stdout",
     "output_type": "stream",
     "text": [
      "\n",
      "\n",
      "\n",
      "Running command: stack run fullParse -- -n 1 -id 202304-1617-4112_beamwidth grieg_lyric_pieces op43n02 BeamSearch 3"
     ]
    },
    {
     "name": "stderr",
     "output_type": "stream",
     "text": [
      "IOPub data rate exceeded.\n",
      "The Jupyter server will temporarily stop sending output\n",
      "to the client in order to avoid crashing it.\n",
      "To change this limit, set the config variable\n",
      "`--ServerApp.iopub_data_rate_limit`.\n",
      "\n",
      "Current values:\n",
      "ServerApp.iopub_data_rate_limit=1000000.0 (bytes/sec)\n",
      "ServerApp.rate_limit_window=3.0 (secs)\n",
      "\n"
     ]
    },
    {
     "name": "stdout",
     "output_type": "stream",
     "text": [
      "\n",
      "\n",
      "\n",
      "Running command: stack run fullParse -- -n 1 -id 202304-1617-4112_beamwidth grieg_lyric_pieces op12n04 BeamSearch 10\n",
      "Running command: stack run fullParse -- -n 1 -id 202304-1617-4112_beamwidth grieg_lyric_pieces op12n08 BeamSearch 11\n",
      "\n",
      "Running command: stack run fullParse -- -n 1 -id 202304-1617-4112_beamwidth grieg_lyric_pieces op12n08 BeamSearch 12\n",
      "Error in subprocess:\n",
      "\n",
      "Running command: stack run fullParse -- -n 1 -id 202304-1617-4112_beamwidth grieg_lyric_pieces op12n08 BeamSearch 13\n"
     ]
    },
    {
     "name": "stderr",
     "output_type": "stream",
     "text": [
      "IOPub data rate exceeded.\n",
      "The Jupyter server will temporarily stop sending output\n",
      "to the client in order to avoid crashing it.\n",
      "To change this limit, set the config variable\n",
      "`--ServerApp.iopub_data_rate_limit`.\n",
      "\n",
      "Current values:\n",
      "ServerApp.iopub_data_rate_limit=1000000.0 (bytes/sec)\n",
      "ServerApp.rate_limit_window=3.0 (secs)\n",
      "\n"
     ]
    },
    {
     "name": "stdout",
     "output_type": "stream",
     "text": [
      "\n",
      "\n",
      "Running command: stack run fullParse -- -n 1 -id 202304-1617-4112_beamwidth grieg_lyric_pieces op38n04 BeamSearch 3\n",
      "\n",
      "Running command: stack run fullParse -- -n 1 -id 202304-1617-4112_beamwidth grieg_lyric_pieces op12n08 BeamSearch 14\n",
      "\n",
      "Running command: stack run fullParse -- -n 1 -id 202304-1617-4112_beamwidth grieg_lyric_pieces op12n02 BeamSearch 2\n",
      "\n",
      "Running command: stack run fullParse -- -n 1 -id 202304-1617-4112_beamwidth grieg_lyric_pieces op12n08 BeamSearch 15\n"
     ]
    }
   ],
   "source": [
    "if __name__ == '__main__':\n",
    "    #algo_experiment()\n",
    "    beamwidth_experiment()"
   ]
  },
  {
   "cell_type": "code",
   "execution_count": null,
   "metadata": {
    "tags": []
   },
   "outputs": [],
   "source": [
    "if __name__ == '__main__':\n",
    "    algo_experiment()\n",
    "    #beamwidth_experiment()"
   ]
  },
  {
   "cell_type": "code",
   "execution_count": null,
   "metadata": {},
   "outputs": [],
   "source": []
  }
 ],
 "metadata": {
  "anaconda-cloud": {},
  "kernelspec": {
   "display_name": "Python 3 (ipykernel)",
   "language": "python",
   "name": "python3"
  },
  "language_info": {
   "codemirror_mode": {
    "name": "ipython",
    "version": 3
   },
   "file_extension": ".py",
   "mimetype": "text/x-python",
   "name": "python",
   "nbconvert_exporter": "python",
   "pygments_lexer": "ipython3",
   "version": "3.10.0"
  }
 },
 "nbformat": 4,
 "nbformat_minor": 4
}
