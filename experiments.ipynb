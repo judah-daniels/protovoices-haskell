{
 "cells": [
  {
   "cell_type": "markdown",
   "metadata": {
    "jukit_cell_id": "2m02J4WyK4"
   },
   "source": [
    "# Imports"
   ]
  },
  {
   "cell_type": "code",
   "execution_count": 8,
   "metadata": {
    "jukit_cell_id": "YcC0bncuM6",
    "tags": []
   },
   "outputs": [],
   "source": [
    "import subprocess\n",
    "import json\n",
    "from pathlib import Path\n",
    "from glob2 import glob\n",
    "import os\n",
    "from multiprocessing import Pool\n",
    "from datetime import datetime\n",
    "from uuid import uuid4\n"
   ]
  },
  {
   "cell_type": "markdown",
   "metadata": {
    "jukit_cell_id": "KKwSV9K5Nd"
   },
   "source": [
    "# Functions"
   ]
  },
  {
   "cell_type": "code",
   "execution_count": 9,
   "metadata": {
    "jukit_cell_id": "Jaacso6eM3",
    "tags": []
   },
   "outputs": [],
   "source": [
    "def runFullParse (inputPiece, iterations=1):\n",
    "    (corpus, piece) = inputPiece\n",
    "    algorithm = \"RandomWalk\"\n",
    "\n",
    "    cmd = [\"stack\",\"run\",\"fullParse\",\"--\",\"-n\",str(iterations), corpus, piece, algorithm] \n",
    "    print(\"Running command: \" + (\" \".join(cmd)))\n",
    "    \n",
    "    res = subprocess.run(cmd,stderr=subprocess.PIPE, cwd=\"..\")\n",
    "    #res = subprocess.run(cmd, cwd=\"..\")\n",
    "    \n",
    "\n",
    "    if res.returncode != 0:\n",
    "        print(\"Error in subprocess:\")\n",
    "        print(res.stderr)\n",
    "     \n",
    "def get_corpus_pieces(corpus):\n",
    "    return sorted (os.path.basename(d).split(\".\")[0] for d in glob(\"inputs/slices/\"+corpus+\"/*.csv\"))\n",
    "\n",
    "def get_corpi():\n",
    "    return [os.path.basename(d) for d in glob(\"inputs/slices/*\")]\n",
    "\n",
    "def run_experiment():\n",
    "    corpi = get_corpi()\n",
    "    for corpus in corpi:\n",
    "        pieces = get_corpus_pieces(corpus)\n",
    "        for piece in pieces:\n",
    "            runFullParse((corpus, piece))"
   ]
  },
  {
   "cell_type": "markdown",
   "metadata": {
    "jukit_cell_id": "d0ifs7vsg1"
   },
   "source": [
    "# Run Experiments"
   ]
  },
  {
   "cell_type": "code",
   "execution_count": 10,
   "metadata": {
    "tags": []
   },
   "outputs": [],
   "source": [
    "def run_command(input_command):\n",
    "    try:\n",
    "        print (\"\\nRunning command: {}\".format(\" \".join(input_command)))\n",
    "\n",
    "        res = subprocess.run(input_command,stderr=subprocess.PIPE, cwd=\"..\")\n",
    "        if res.returncode != 0:\n",
    "            print(\"Error in subprocess:\")\n",
    "            print(res.stderr)\n",
    "    except:\n",
    "        print (\"\\nError running command:{}\".format(input_command))\n",
    "        \n",
    "def run_Experiment(commands, threads=10):\n",
    "    exp_id = datetime.now().strftime('%Y%m-%d%H-%M%S-') + str(uuid4())\n",
    "    idCommands = [[\"stack\",\"run\",\"fullParse\", \"--\", \"-id\", exp_id] + command for command in commands]\n",
    "    # Run an experiment consisting of a numberof calls\n",
    "    with Pool(threads) as p:\n",
    "        p.map(run_command, idCommands)"
   ]
  },
  {
   "cell_type": "code",
   "execution_count": 11,
   "metadata": {
    "tags": []
   },
   "outputs": [],
   "source": [
    "def algoExperiment (corpi, iterations=1):\n",
    "    inputs = []\n",
    "    cmds = []\n",
    "    for corpus in corpi:\n",
    "        pieces = get_corpus_pieces(corpus)\n",
    "        for piece in pieces:\n",
    "            inputs.append((corpus, piece))\n",
    "            for algorithm in [\"RandomWalk\", \"RandomReduction\", \"RandomSample\"]:\n",
    "                cmds.append( [\"-n\",str(iterations), corpus, piece, algorithm] )\n",
    "    run_Experiment(cmds)"
   ]
  },
  {
   "cell_type": "code",
   "execution_count": 12,
   "metadata": {
    "jukit_cell_id": "eHdRDnhify",
    "tags": []
   },
   "outputs": [
    {
     "name": "stdout",
     "output_type": "stream",
     "text": [
      "\n",
      "Running command: stack run fullParse -- -id 202304-1614-0646-86c0957d-80c7-4a64-81ca-7956d5365535 -n 1 grieg_lyric_pieces op12n01 RandomWalk\n",
      "Running command: stack run fullParse -- -id 202304-1614-0646-86c0957d-80c7-4a64-81ca-7956d5365535 -n 1 grieg_lyric_pieces op12n04 RandomSample\n",
      "Running command: stack run fullParse -- -id 202304-1614-0646-86c0957d-80c7-4a64-81ca-7956d5365535 -n 1 grieg_lyric_pieces op12n08 RandomReduction\n",
      "Running command: stack run fullParse -- -id 202304-1614-0646-86c0957d-80c7-4a64-81ca-7956d5365535 -n 1 grieg_lyric_pieces op43n03 RandomReduction\n",
      "Running command: stack run fullParse -- -id 202304-1614-0646-86c0957d-80c7-4a64-81ca-7956d5365535 -n 1 grieg_lyric_pieces op47n01 RandomWalk\n",
      "Running command: stack run fullParse -- -id 202304-1614-0646-86c0957d-80c7-4a64-81ca-7956d5365535 -n 1 grieg_lyric_pieces op54n01 RandomReduction\n",
      "Running command: stack run fullParse -- -id 202304-1614-0646-86c0957d-80c7-4a64-81ca-7956d5365535 -n 1 grieg_lyric_pieces op47n04 RandomSample\n",
      "Running command: stack run fullParse -- -id 202304-1614-0646-86c0957d-80c7-4a64-81ca-7956d5365535 -n 1 grieg_lyric_pieces op54n05 RandomWalk\n",
      "\n",
      "\n",
      "\n",
      "\n",
      "\n",
      "\n",
      "\n",
      "\n",
      "Running command: stack run fullParse -- -id 202304-1614-0646-86c0957d-80c7-4a64-81ca-7956d5365535 -n 1 grieg_lyric_pieces op38n07 RandomSample\n",
      "\n",
      "Running command: stack run fullParse -- -id 202304-1614-0646-86c0957d-80c7-4a64-81ca-7956d5365535 -n 1 grieg_lyric_pieces op38n04 RandomWalk\n",
      "Error in subprocess:\n",
      "b'fullParse: Prelude.read: no parse\\n'\n",
      "\n",
      "Running command: stack run fullParse -- -id 202304-1614-0646-86c0957d-80c7-4a64-81ca-7956d5365535 -n 1 grieg_lyric_pieces op12n05 RandomWalk\n",
      "Error in subprocess:Error in subprocess:\n",
      "\n",
      "b'14:06:47 [INFO] Running Random Sample SBS Parse...\\n14:06:47 [INFO] Running Random Sample SBS Parse...done [0.000554167s]\\nfullParse: Prelude.read: no parse\\n'b'14:06:47 [INFO] Running Random Sample SBS Parse...\\n14:06:47 [INFO] Running Random Sample SBS Parse...done [0.000975287s]\\nfullParse: Prelude.read: no parse\\n'\n",
      "\n",
      "\n",
      "Running command: stack run fullParse -- -id 202304-1614-0646-86c0957d-80c7-4a64-81ca-7956d5365535 -n 1 grieg_lyric_pieces op54n01 RandomSample\n",
      "Running command: stack run fullParse -- -id 202304-1614-0646-86c0957d-80c7-4a64-81ca-7956d5365535 -n 1 grieg_lyric_pieces op43n03 RandomSample\n",
      "\n",
      "\n",
      "Running command: stack run fullParse -- -id 202304-1614-0646-86c0957d-80c7-4a64-81ca-7956d5365535 -n 1 grieg_lyric_pieces op47n05 RandomWalk\n",
      "\n",
      "Running command: stack run fullParse -- -id 202304-1614-0646-86c0957d-80c7-4a64-81ca-7956d5365535 -n 1 grieg_lyric_pieces op12n01 RandomReduction\n",
      "Error in subprocess:\n",
      "b'fullParse: Prelude.read: no parse\\n'\n",
      "\n",
      "Running command: stack run fullParse -- -id 202304-1614-0646-86c0957d-80c7-4a64-81ca-7956d5365535 -n 1 grieg_lyric_pieces op38n04 RandomReduction\n",
      "\n",
      "Running command: stack run fullParse -- -id 202304-1614-0646-86c0957d-80c7-4a64-81ca-7956d5365535 -n 1 grieg_lyric_pieces op38n08 RandomWalk\n",
      "\"Parse Stuck! Perhaps the number of chords and segments are not the same?\"\n",
      "\n",
      "Running command: stack run fullParse -- -id 202304-1614-0646-86c0957d-80c7-4a64-81ca-7956d5365535 -n 1 grieg_lyric_pieces op12n08 RandomSample\n",
      "Error in subprocess:Error in subprocess:\n",
      "\n",
      "b'fullParse: Prelude.read: no parse\\n'b'fullParse: Prelude.read: no parse\\n'\n",
      "\n",
      "\n",
      "Running command: stack run fullParse -- -id 202304-1614-0646-86c0957d-80c7-4a64-81ca-7956d5365535 -n 1 grieg_lyric_pieces op54n02 RandomWalk\n",
      "Running command: stack run fullParse -- -id 202304-1614-0646-86c0957d-80c7-4a64-81ca-7956d5365535 -n 1 grieg_lyric_pieces op43n04 RandomWalk\n",
      "\n",
      "Error in subprocess:\n",
      "b'fullParse: Prelude.read: no parse\\n'\n",
      "\n",
      "Running command: stack run fullParse -- -id 202304-1614-0646-86c0957d-80c7-4a64-81ca-7956d5365535 -n 1 grieg_lyric_pieces op12n05 RandomReduction\n",
      "\"Parse Stuck! Perhaps the number of chords and segments are not the same?\"\n",
      "Error in subprocess:\n",
      "b'14:06:49 [INFO] Running Random Sample SBS Parse...\\n14:06:49 [INFO] Running Random Sample SBS Parse...done [0.000477176s]\\nfullParse: Prelude.read: no parse\\n'\n",
      "\n",
      "Running command: stack run fullParse -- -id 202304-1614-0646-86c0957d-80c7-4a64-81ca-7956d5365535 -n 1 grieg_lyric_pieces op38n04 RandomSample\n",
      "\n",
      "Running command: stack run fullParse -- -id 202304-1614-0646-86c0957d-80c7-4a64-81ca-7956d5365535 -n 1 grieg_lyric_pieces op12n01 RandomSample\n",
      "\n",
      "Running command: stack run fullParse -- -id 202304-1614-0646-86c0957d-80c7-4a64-81ca-7956d5365535 -n 1 grieg_lyric_pieces op47n01 RandomReduction\n"
     ]
    },
    {
     "ename": "KeyboardInterrupt",
     "evalue": "",
     "output_type": "error",
     "traceback": [
      "\u001b[0;31m---------------------------------------------------------------------------\u001b[0m",
      "\u001b[0;31mKeyboardInterrupt\u001b[0m                         Traceback (most recent call last)",
      "Cell \u001b[0;32mIn[12], line 3\u001b[0m\n\u001b[1;32m      1\u001b[0m \u001b[38;5;28;01mif\u001b[39;00m \u001b[38;5;18m__name__\u001b[39m \u001b[38;5;241m==\u001b[39m \u001b[38;5;124m'\u001b[39m\u001b[38;5;124m__main__\u001b[39m\u001b[38;5;124m'\u001b[39m:\n\u001b[1;32m      2\u001b[0m     corpi \u001b[38;5;241m=\u001b[39m get_corpi()\n\u001b[0;32m----> 3\u001b[0m     \u001b[43malgoExperiment\u001b[49m\u001b[43m(\u001b[49m\u001b[43mcorpi\u001b[49m\u001b[43m[\u001b[49m\u001b[38;5;241;43m1\u001b[39;49m\u001b[43m:\u001b[49m\u001b[43m]\u001b[49m\u001b[43m)\u001b[49m\n",
      "Cell \u001b[0;32mIn[11], line 10\u001b[0m, in \u001b[0;36malgoExperiment\u001b[0;34m(corpi, iterations)\u001b[0m\n\u001b[1;32m      8\u001b[0m         \u001b[38;5;28;01mfor\u001b[39;00m algorithm \u001b[38;5;129;01min\u001b[39;00m [\u001b[38;5;124m\"\u001b[39m\u001b[38;5;124mRandomWalk\u001b[39m\u001b[38;5;124m\"\u001b[39m, \u001b[38;5;124m\"\u001b[39m\u001b[38;5;124mRandomReduction\u001b[39m\u001b[38;5;124m\"\u001b[39m, \u001b[38;5;124m\"\u001b[39m\u001b[38;5;124mRandomSample\u001b[39m\u001b[38;5;124m\"\u001b[39m]:\n\u001b[1;32m      9\u001b[0m             cmds\u001b[38;5;241m.\u001b[39mappend( [\u001b[38;5;124m\"\u001b[39m\u001b[38;5;124m-n\u001b[39m\u001b[38;5;124m\"\u001b[39m,\u001b[38;5;28mstr\u001b[39m(iterations), corpus, piece, algorithm] )\n\u001b[0;32m---> 10\u001b[0m \u001b[43mrun_Experiment\u001b[49m\u001b[43m(\u001b[49m\u001b[43mcmds\u001b[49m\u001b[43m)\u001b[49m\n",
      "Cell \u001b[0;32mIn[10], line 17\u001b[0m, in \u001b[0;36mrun_Experiment\u001b[0;34m(commands, threads)\u001b[0m\n\u001b[1;32m     15\u001b[0m \u001b[38;5;66;03m# Run an experiment consisting of a numberof calls\u001b[39;00m\n\u001b[1;32m     16\u001b[0m \u001b[38;5;28;01mwith\u001b[39;00m Pool(threads) \u001b[38;5;28;01mas\u001b[39;00m p:\n\u001b[0;32m---> 17\u001b[0m     \u001b[43mp\u001b[49m\u001b[38;5;241;43m.\u001b[39;49m\u001b[43mmap\u001b[49m\u001b[43m(\u001b[49m\u001b[43mrun_command\u001b[49m\u001b[43m,\u001b[49m\u001b[43m \u001b[49m\u001b[43midCommands\u001b[49m\u001b[43m)\u001b[49m\n",
      "File \u001b[0;32m/usr/local/lib/python3.10/multiprocessing/pool.py:364\u001b[0m, in \u001b[0;36mPool.map\u001b[0;34m(self, func, iterable, chunksize)\u001b[0m\n\u001b[1;32m    359\u001b[0m \u001b[38;5;28;01mdef\u001b[39;00m \u001b[38;5;21mmap\u001b[39m(\u001b[38;5;28mself\u001b[39m, func, iterable, chunksize\u001b[38;5;241m=\u001b[39m\u001b[38;5;28;01mNone\u001b[39;00m):\n\u001b[1;32m    360\u001b[0m \u001b[38;5;250m    \u001b[39m\u001b[38;5;124;03m'''\u001b[39;00m\n\u001b[1;32m    361\u001b[0m \u001b[38;5;124;03m    Apply `func` to each element in `iterable`, collecting the results\u001b[39;00m\n\u001b[1;32m    362\u001b[0m \u001b[38;5;124;03m    in a list that is returned.\u001b[39;00m\n\u001b[1;32m    363\u001b[0m \u001b[38;5;124;03m    '''\u001b[39;00m\n\u001b[0;32m--> 364\u001b[0m     \u001b[38;5;28;01mreturn\u001b[39;00m \u001b[38;5;28;43mself\u001b[39;49m\u001b[38;5;241;43m.\u001b[39;49m\u001b[43m_map_async\u001b[49m\u001b[43m(\u001b[49m\u001b[43mfunc\u001b[49m\u001b[43m,\u001b[49m\u001b[43m \u001b[49m\u001b[43miterable\u001b[49m\u001b[43m,\u001b[49m\u001b[43m \u001b[49m\u001b[43mmapstar\u001b[49m\u001b[43m,\u001b[49m\u001b[43m \u001b[49m\u001b[43mchunksize\u001b[49m\u001b[43m)\u001b[49m\u001b[38;5;241;43m.\u001b[39;49m\u001b[43mget\u001b[49m\u001b[43m(\u001b[49m\u001b[43m)\u001b[49m\n",
      "File \u001b[0;32m/usr/local/lib/python3.10/multiprocessing/pool.py:765\u001b[0m, in \u001b[0;36mApplyResult.get\u001b[0;34m(self, timeout)\u001b[0m\n\u001b[1;32m    764\u001b[0m \u001b[38;5;28;01mdef\u001b[39;00m \u001b[38;5;21mget\u001b[39m(\u001b[38;5;28mself\u001b[39m, timeout\u001b[38;5;241m=\u001b[39m\u001b[38;5;28;01mNone\u001b[39;00m):\n\u001b[0;32m--> 765\u001b[0m     \u001b[38;5;28;43mself\u001b[39;49m\u001b[38;5;241;43m.\u001b[39;49m\u001b[43mwait\u001b[49m\u001b[43m(\u001b[49m\u001b[43mtimeout\u001b[49m\u001b[43m)\u001b[49m\n\u001b[1;32m    766\u001b[0m     \u001b[38;5;28;01mif\u001b[39;00m \u001b[38;5;129;01mnot\u001b[39;00m \u001b[38;5;28mself\u001b[39m\u001b[38;5;241m.\u001b[39mready():\n\u001b[1;32m    767\u001b[0m         \u001b[38;5;28;01mraise\u001b[39;00m \u001b[38;5;167;01mTimeoutError\u001b[39;00m\n",
      "File \u001b[0;32m/usr/local/lib/python3.10/multiprocessing/pool.py:762\u001b[0m, in \u001b[0;36mApplyResult.wait\u001b[0;34m(self, timeout)\u001b[0m\n\u001b[1;32m    761\u001b[0m \u001b[38;5;28;01mdef\u001b[39;00m \u001b[38;5;21mwait\u001b[39m(\u001b[38;5;28mself\u001b[39m, timeout\u001b[38;5;241m=\u001b[39m\u001b[38;5;28;01mNone\u001b[39;00m):\n\u001b[0;32m--> 762\u001b[0m     \u001b[38;5;28;43mself\u001b[39;49m\u001b[38;5;241;43m.\u001b[39;49m\u001b[43m_event\u001b[49m\u001b[38;5;241;43m.\u001b[39;49m\u001b[43mwait\u001b[49m\u001b[43m(\u001b[49m\u001b[43mtimeout\u001b[49m\u001b[43m)\u001b[49m\n",
      "File \u001b[0;32m/usr/local/lib/python3.10/threading.py:600\u001b[0m, in \u001b[0;36mEvent.wait\u001b[0;34m(self, timeout)\u001b[0m\n\u001b[1;32m    598\u001b[0m signaled \u001b[38;5;241m=\u001b[39m \u001b[38;5;28mself\u001b[39m\u001b[38;5;241m.\u001b[39m_flag\n\u001b[1;32m    599\u001b[0m \u001b[38;5;28;01mif\u001b[39;00m \u001b[38;5;129;01mnot\u001b[39;00m signaled:\n\u001b[0;32m--> 600\u001b[0m     signaled \u001b[38;5;241m=\u001b[39m \u001b[38;5;28;43mself\u001b[39;49m\u001b[38;5;241;43m.\u001b[39;49m\u001b[43m_cond\u001b[49m\u001b[38;5;241;43m.\u001b[39;49m\u001b[43mwait\u001b[49m\u001b[43m(\u001b[49m\u001b[43mtimeout\u001b[49m\u001b[43m)\u001b[49m\n\u001b[1;32m    601\u001b[0m \u001b[38;5;28;01mreturn\u001b[39;00m signaled\n",
      "File \u001b[0;32m/usr/local/lib/python3.10/threading.py:320\u001b[0m, in \u001b[0;36mCondition.wait\u001b[0;34m(self, timeout)\u001b[0m\n\u001b[1;32m    318\u001b[0m \u001b[38;5;28;01mtry\u001b[39;00m:    \u001b[38;5;66;03m# restore state no matter what (e.g., KeyboardInterrupt)\u001b[39;00m\n\u001b[1;32m    319\u001b[0m     \u001b[38;5;28;01mif\u001b[39;00m timeout \u001b[38;5;129;01mis\u001b[39;00m \u001b[38;5;28;01mNone\u001b[39;00m:\n\u001b[0;32m--> 320\u001b[0m         \u001b[43mwaiter\u001b[49m\u001b[38;5;241;43m.\u001b[39;49m\u001b[43macquire\u001b[49m\u001b[43m(\u001b[49m\u001b[43m)\u001b[49m\n\u001b[1;32m    321\u001b[0m         gotit \u001b[38;5;241m=\u001b[39m \u001b[38;5;28;01mTrue\u001b[39;00m\n\u001b[1;32m    322\u001b[0m     \u001b[38;5;28;01melse\u001b[39;00m:\n",
      "\u001b[0;31mKeyboardInterrupt\u001b[0m: "
     ]
    }
   ],
   "source": [
    "if __name__ == '__main__':\n",
    "    corpi = get_corpi()\n",
    "    algoExperiment(corpi[1:])"
   ]
  },
  {
   "cell_type": "code",
   "execution_count": null,
   "metadata": {},
   "outputs": [],
   "source": []
  }
 ],
 "metadata": {
  "anaconda-cloud": {},
  "kernelspec": {
   "display_name": "Python 3 (ipykernel)",
   "language": "python",
   "name": "python3"
  },
  "language_info": {
   "codemirror_mode": {
    "name": "ipython",
    "version": 3
   },
   "file_extension": ".py",
   "mimetype": "text/x-python",
   "name": "python",
   "nbconvert_exporter": "python",
   "pygments_lexer": "ipython3",
   "version": "3.10.0"
  }
 },
 "nbformat": 4,
 "nbformat_minor": 4
}
